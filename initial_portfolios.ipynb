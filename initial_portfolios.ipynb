{
 "cells": [
  {
   "cell_type": "code",
   "execution_count": 1,
   "metadata": {},
   "outputs": [],
   "source": [
    "import pandas as pd\n",
    "%config Completer.use_jedi = False\n",
    "\n",
    "#-- Import all the functions needed\n",
    "from S2V_functions import *\n",
    "from S2V_models import *\n",
    "from visualisation_functions import *\n",
    "\n",
    "import plotly.graph_objects as go\n",
    "\n",
    "from sklearn.metrics.pairwise import cosine_similarity\n",
    "from sklearn.model_selection import cross_val_score\n",
    "from sklearn.metrics import classification_report\n",
    "from scipy.stats import gaussian_kde\n",
    "\n",
    "import plotly.io as pio\n",
    "pio.renderers.default = 'notebook_connected'"
   ]
  },
  {
   "cell_type": "code",
   "execution_count": 2,
   "metadata": {},
   "outputs": [],
   "source": [
    "#-- Read in the processed returns data\n",
    "returns_df = pd.read_csv('Data/returns_df_611.csv', index_col=0)\n",
    "returns_df.index = pd.to_datetime(returns_df.index)\n",
    "\n",
    "#-- Read in data containing sectors etc\n",
    "stock_df = pd.read_csv('Data/historical_stocks.csv')\n",
    "\n",
    "#-- Store lists of useful items and create mapping dictionaries\n",
    "tickers, ticker2idx, idx2ticker, sectors, industries, names = get_extras(returns_df, stock_df, misc_include=False)"
   ]
  },
  {
   "cell_type": "code",
   "execution_count": 3,
   "metadata": {},
   "outputs": [],
   "source": [
    "test_returns_df = returns_df.iloc[int(len(returns_df)*0.7):]\n",
    "train_returns_df = returns_df.iloc[:int(len(returns_df)*0.7)]"
   ]
  },
  {
   "cell_type": "code",
   "execution_count": 4,
   "metadata": {},
   "outputs": [
    {
     "ename": "NameError",
     "evalue": "name 'p' is not defined",
     "output_type": "error",
     "traceback": [
      "\u001b[0;31m---------------------------------------------------------------------------\u001b[0m",
      "\u001b[0;31mNameError\u001b[0m                                 Traceback (most recent call last)",
      "\u001b[0;32m<ipython-input-4-251df6c0de8b>\u001b[0m in \u001b[0;36m<module>\u001b[0;34m\u001b[0m\n\u001b[1;32m      5\u001b[0m \u001b[0mhedging\u001b[0m\u001b[0;34m=\u001b[0m\u001b[0;32mFalse\u001b[0m\u001b[0;34m\u001b[0m\u001b[0;34m\u001b[0m\u001b[0m\n\u001b[1;32m      6\u001b[0m \u001b[0mweighted\u001b[0m \u001b[0;34m=\u001b[0m \u001b[0;32mFalse\u001b[0m\u001b[0;34m\u001b[0m\u001b[0;34m\u001b[0m\u001b[0m\n\u001b[0;32m----> 7\u001b[0;31m \u001b[0mprint\u001b[0m\u001b[0;34m(\u001b[0m\u001b[0;34mf'Models/model_CBOW_Single_{p}_L{l}_C{C}_IQRDaily{str(IQR)}_70{\"_HEDGING\" if hedging else \"\"}.pt'\u001b[0m\u001b[0;34m)\u001b[0m\u001b[0;34m\u001b[0m\u001b[0;34m\u001b[0m\u001b[0m\n\u001b[0m\u001b[1;32m      8\u001b[0m \u001b[0mmodel\u001b[0m \u001b[0;34m=\u001b[0m \u001b[0mtorch\u001b[0m\u001b[0;34m.\u001b[0m\u001b[0mload\u001b[0m\u001b[0;34m(\u001b[0m\u001b[0;34mf'Models/model_CBOW_Single_{p}_L{l}_C{C}_IQRDaily{str(IQR)}_70{\"_HEDGING\" if hedging else \"\"}{\"_Weights\" if weighted else \"\"}.pt'\u001b[0m\u001b[0;34m)\u001b[0m\u001b[0;34m\u001b[0m\u001b[0;34m\u001b[0m\u001b[0m\n",
      "\u001b[0;31mNameError\u001b[0m: name 'p' is not defined"
     ]
    }
   ],
   "source": [
    "#-- Load in the desired model\n",
    "l = 0\n",
    "C = 3\n",
    "IQR = True\n",
    "p='daily_weekly_monthly'\n",
    "hedging=False\n",
    "weighted = False\n",
    "print(f'Models/model_CBOW_Single_{p}_L{l}_C{C}_IQRDaily{str(IQR)}_70{\"_HEDGING\" if hedging else \"\"}.pt')\n",
    "model = torch.load(f'Models/model_CBOW_Single_{p}_L{l}_C{C}_IQRDaily{str(IQR)}_70{\"_HEDGING\" if hedging else \"\"}{\"_Weights\" if weighted else \"\"}.pt')\n"
   ]
  },
  {
   "cell_type": "code",
   "execution_count": null,
   "metadata": {},
   "outputs": [],
   "source": []
  }
 ],
 "metadata": {
  "interpreter": {
   "hash": "778e81836b745d501e04d1bb4ab7070f33a733b0fb40231a0211675074839c47"
  },
  "kernelspec": {
   "display_name": "Python 3.6.13 ('stock2vec')",
   "language": "python",
   "name": "python3"
  },
  "language_info": {
   "codemirror_mode": {
    "name": "ipython",
    "version": 3
   },
   "file_extension": ".py",
   "mimetype": "text/x-python",
   "name": "python",
   "nbconvert_exporter": "python",
   "pygments_lexer": "ipython3",
   "version": "3.6.13"
  },
  "orig_nbformat": 4
 },
 "nbformat": 4,
 "nbformat_minor": 2
}
