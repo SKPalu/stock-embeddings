{
 "cells": [
  {
   "cell_type": "code",
   "execution_count": 1,
   "metadata": {},
   "outputs": [
    {
     "name": "stdout",
     "output_type": "stream",
     "text": [
      "No change made because period entered is 1\n"
     ]
    },
    {
     "name": "stderr",
     "output_type": "stream",
     "text": [
      "100%|██████████| 611/611 [00:05<00:00, 108.83it/s]\n",
      "100%|██████████| 611/611 [00:01<00:00, 478.52it/s] \n",
      "100%|██████████| 611/611 [00:00<00:00, 1749.53it/s]\n"
     ]
    }
   ],
   "source": [
    "from utils.returns_data_class import ReturnsData\n",
    "from utils.pointwise_context import get_contextual_indices\n",
    "\n",
    "# Constants and configurations\n",
    "PERIODS = [1, 5, 10]\n",
    "TRAIN_PCT = 1\n",
    "CONTEXT_SIZE = 32\n",
    "\n",
    "tgt_context_sets = []\n",
    "for period in PERIODS:\n",
    "    data = ReturnsData(\n",
    "        daily_returns_path=\"Data/returns_df_611.csv\",\n",
    "        extras_path=\"Data/historical_stocks.csv\",\n",
    "    )\n",
    "    data.change_returns_period(period)\n",
    "    data.train_test_split(TRAIN_PCT)\n",
    "\n",
    "    tgt_context_sets += get_contextual_indices(\n",
    "        data.train_returns_df,\n",
    "        context_size=CONTEXT_SIZE,\n",
    "        verbose=True,\n",
    "        iqr_noise_reduction=True,\n",
    "    )\n",
    "print(f\"Number of target context sets: {len(tgt_context_sets)}\")"
   ]
  },
  {
   "cell_type": "code",
   "execution_count": 2,
   "metadata": {},
   "outputs": [
    {
     "name": "stdout",
     "output_type": "stream",
     "text": [
      "Top stocks most commonly cooccurring:\n"
     ]
    },
    {
     "data": {
      "text/plain": [
       "['C', 'BAC', 'STI', 'WFC', 'PNC', 'HBAN', 'ZION', 'STT', 'KEY', 'CMA']"
      ]
     },
     "execution_count": 2,
     "metadata": {},
     "output_type": "execute_result"
    }
   ],
   "source": [
    "import pandas as pd\n",
    "import numpy as np\n",
    "ticker = \"JPM\"\n",
    "i = data.ticker2idx[ticker]\n",
    "temp = np.array([xi[1] for xi in tgt_context_sets if xi[0]==i]).flatten()\n",
    "print(f\"The most commonly co-occurring stocks with JPM are: {[data.idx2ticker[xi] for xi in pd.Series(temp).value_counts().index][:5]}\")"
   ]
  },
  {
   "cell_type": "code",
   "execution_count": 3,
   "metadata": {},
   "outputs": [],
   "source": [
    "from models.embedding_models import ClassificationEmbeddings\n",
    "EMBEDDING_DIM = 20\n",
    "model = ClassificationEmbeddings(\n",
    "    n_time_series=len(data.tickers), embedding_dim=EMBEDDING_DIM\n",
    ")"
   ]
  },
  {
   "cell_type": "code",
   "execution_count": 4,
   "metadata": {},
   "outputs": [
    {
     "name": "stdout",
     "output_type": "stream",
     "text": [
      "Training embeddings...\n"
     ]
    },
    {
     "name": "stderr",
     "output_type": "stream",
     "text": [
      "  5%|▌         | 1/20 [00:45<14:33, 45.98s/it]"
     ]
    },
    {
     "name": "stdout",
     "output_type": "stream",
     "text": [
      "Epoch 0: Loss = 0.10381229708691216\n"
     ]
    },
    {
     "name": "stderr",
     "output_type": "stream",
     "text": [
      " 10%|█         | 2/20 [01:31<13:46, 45.94s/it]"
     ]
    },
    {
     "name": "stdout",
     "output_type": "stream",
     "text": [
      "Epoch 1: Loss = 0.10121270574125595\n"
     ]
    },
    {
     "name": "stderr",
     "output_type": "stream",
     "text": [
      " 15%|█▌        | 3/20 [02:22<13:37, 48.11s/it]"
     ]
    },
    {
     "name": "stdout",
     "output_type": "stream",
     "text": [
      "Epoch 2: Loss = 0.09957956481662815\n"
     ]
    },
    {
     "name": "stderr",
     "output_type": "stream",
     "text": [
      " 20%|██        | 4/20 [03:09<12:39, 47.44s/it]"
     ]
    },
    {
     "name": "stdout",
     "output_type": "stream",
     "text": [
      "Epoch 3: Loss = 0.09869415337357938\n"
     ]
    },
    {
     "name": "stderr",
     "output_type": "stream",
     "text": [
      " 25%|██▌       | 5/20 [03:55<11:45, 47.02s/it]"
     ]
    },
    {
     "name": "stdout",
     "output_type": "stream",
     "text": [
      "Epoch 4: Loss = 0.09817352312788913\n"
     ]
    },
    {
     "name": "stderr",
     "output_type": "stream",
     "text": [
      " 30%|███       | 6/20 [04:41<10:55, 46.79s/it]"
     ]
    },
    {
     "name": "stdout",
     "output_type": "stream",
     "text": [
      "Epoch 5: Loss = 0.09784624309921643\n"
     ]
    },
    {
     "name": "stderr",
     "output_type": "stream",
     "text": [
      " 35%|███▌      | 7/20 [05:28<10:07, 46.73s/it]"
     ]
    },
    {
     "name": "stdout",
     "output_type": "stream",
     "text": [
      "Epoch 6: Loss = 0.0976350455015062\n"
     ]
    },
    {
     "name": "stderr",
     "output_type": "stream",
     "text": [
      " 35%|███▌      | 7/20 [06:14<11:35, 53.53s/it]"
     ]
    },
    {
     "name": "stdout",
     "output_type": "stream",
     "text": [
      "Epoch 7: Loss = 0.09749177410088655\n",
      "Early stopping at epoch 7 due to minimal loss reduction.\n"
     ]
    },
    {
     "name": "stderr",
     "output_type": "stream",
     "text": [
      "\n"
     ]
    }
   ],
   "source": [
    "from utils.training_helpers import train_embeddings_from_tgt_context_sets\n",
    "EPOCHS = 20\n",
    "model, losses = train_embeddings_from_tgt_context_sets(\n",
    "    n_time_series=len(data.tickers),\n",
    "    tgt_context_sets=tgt_context_sets,\n",
    "    model=model,\n",
    "    epochs=EPOCHS,\n",
    "    # embedding_dim=EMBEDDING_DIM,\n",
    "    verbose=True,\n",
    ")"
   ]
  },
  {
   "cell_type": "code",
   "execution_count": 6,
   "metadata": {},
   "outputs": [
    {
     "name": "stdout",
     "output_type": "stream",
     "text": [
      "Precision Score: 0.64\n",
      "Recall Score: 0.61\n",
      "F1 Score: 0.61\n",
      "Accuracy Score: 0.61\n",
      "Accuracy Score: 0.61\n"
     ]
    }
   ],
   "source": [
    "from utils.sector_classification import get_sector_score\n",
    "\n",
    "get_sector_score(model.embeddings.weight.detach().numpy(), sectors=data.sectors)"
   ]
  },
  {
   "cell_type": "code",
   "execution_count": null,
   "metadata": {},
   "outputs": [],
   "source": [
    "SAVE_MODEL = False\n",
    "SAVE_PATH_TEMPLATE = \"embeddings/abs_diff_E{epochs}_C{context_size}_D{embedding_dim}_P{periods}_train{train_pct}.pt\"\n",
    "save_path = SAVE_PATH_TEMPLATE.format(\n",
    "    epochs=EPOCHS,\n",
    "    context_size=CONTEXT_SIZE,\n",
    "    embedding_dim=EMBEDDING_DIM,\n",
    "    periods=\"-\".join(map(str, PERIODS)),\n",
    "    train_pct=TRAIN_PCT,\n",
    ")"
   ]
  }
 ],
 "metadata": {
  "kernelspec": {
   "display_name": "phd",
   "language": "python",
   "name": "python3"
  },
  "language_info": {
   "codemirror_mode": {
    "name": "ipython",
    "version": 3
   },
   "file_extension": ".py",
   "mimetype": "text/x-python",
   "name": "python",
   "nbconvert_exporter": "python",
   "pygments_lexer": "ipython3",
   "version": "3.11.5"
  },
  "orig_nbformat": 4
 },
 "nbformat": 4,
 "nbformat_minor": 2
}
