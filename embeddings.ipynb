{
 "cells": [
  {
   "cell_type": "markdown",
   "id": "4166d2ea",
   "metadata": {},
   "source": [
    "## Stock Embeddings"
   ]
  },
  {
   "cell_type": "code",
   "execution_count": 44,
   "id": "5ae7fd10",
   "metadata": {},
   "outputs": [],
   "source": [
    "import pandas as pd\n",
    "%config Completer.use_jedi = False\n",
    "\n",
    "#-- Import all the functions needed\n",
    "from S2V_functions import *\n",
    "from S2V_models import *\n",
    "from visualisation_functions import *\n",
    "\n",
    "import plotly.graph_objects as go\n",
    "\n",
    "from sklearn.metrics.pairwise import cosine_similarity\n",
    "from sklearn.model_selection import cross_val_score\n",
    "from sklearn.metrics import classification_report\n",
    "from scipy.stats import gaussian_kde\n",
    "\n",
    "import plotly.io as pio\n",
    "pio.renderers.default = 'notebook_connected'"
   ]
  },
  {
   "cell_type": "markdown",
   "id": "6e9db5fe",
   "metadata": {},
   "source": [
    "#### Read in the data"
   ]
  },
  {
   "cell_type": "code",
   "execution_count": 3,
   "id": "2ffa0102",
   "metadata": {},
   "outputs": [],
   "source": [
    "#-- Read in the processed returns data\n",
    "returns_df = pd.read_csv('Data/returns_df_611.csv', index_col=0)\n",
    "returns_df.index = pd.to_datetime(returns_df.index)\n",
    "\n",
    "#-- Read in data containing sectors etc\n",
    "stock_df = pd.read_csv('Data/historical_stocks.csv')\n",
    "\n",
    "#-- Store lists of useful items and create mapping dictionaries\n",
    "tickers, ticker2idx, idx2ticker, sectors, industries, names = get_extras(returns_df, stock_df, misc_include=False)"
   ]
  },
  {
   "cell_type": "code",
   "execution_count": 5,
   "id": "8c495746",
   "metadata": {},
   "outputs": [
    {
     "data": {
      "text/html": [
       "<div>\n",
       "<style scoped>\n",
       "    .dataframe tbody tr th:only-of-type {\n",
       "        vertical-align: middle;\n",
       "    }\n",
       "\n",
       "    .dataframe tbody tr th {\n",
       "        vertical-align: top;\n",
       "    }\n",
       "\n",
       "    .dataframe thead th {\n",
       "        text-align: right;\n",
       "    }\n",
       "</style>\n",
       "<table border=\"1\" class=\"dataframe\">\n",
       "  <thead>\n",
       "    <tr style=\"text-align: right;\">\n",
       "      <th></th>\n",
       "      <th>AAPL</th>\n",
       "      <th>AB</th>\n",
       "      <th>ABM</th>\n",
       "      <th>ABT</th>\n",
       "      <th>ABX</th>\n",
       "      <th>ACXM</th>\n",
       "      <th>ADBE</th>\n",
       "      <th>ADI</th>\n",
       "      <th>ADM</th>\n",
       "      <th>ADP</th>\n",
       "      <th>...</th>\n",
       "      <th>WTS</th>\n",
       "      <th>WWW</th>\n",
       "      <th>WY</th>\n",
       "      <th>XCRA</th>\n",
       "      <th>XLNX</th>\n",
       "      <th>XOM</th>\n",
       "      <th>XRAY</th>\n",
       "      <th>XRX</th>\n",
       "      <th>ZION</th>\n",
       "      <th>ZIXI</th>\n",
       "    </tr>\n",
       "  </thead>\n",
       "  <tbody>\n",
       "    <tr>\n",
       "      <th>2000-01-03</th>\n",
       "      <td>0.088754</td>\n",
       "      <td>-0.006263</td>\n",
       "      <td>-0.003067</td>\n",
       "      <td>-0.036145</td>\n",
       "      <td>0.0</td>\n",
       "      <td>0.041667</td>\n",
       "      <td>-0.025093</td>\n",
       "      <td>-0.030242</td>\n",
       "      <td>-0.010309</td>\n",
       "      <td>-0.034803</td>\n",
       "      <td>...</td>\n",
       "      <td>-0.029661</td>\n",
       "      <td>-0.057143</td>\n",
       "      <td>-0.02698</td>\n",
       "      <td>-0.050279</td>\n",
       "      <td>0.02818</td>\n",
       "      <td>-0.027929</td>\n",
       "      <td>-0.005291</td>\n",
       "      <td>0.066116</td>\n",
       "      <td>-0.062302</td>\n",
       "      <td>-0.061514</td>\n",
       "    </tr>\n",
       "  </tbody>\n",
       "</table>\n",
       "<p>1 rows × 611 columns</p>\n",
       "</div>"
      ],
      "text/plain": [
       "                AAPL        AB       ABM       ABT  ABX      ACXM      ADBE  \\\n",
       "2000-01-03  0.088754 -0.006263 -0.003067 -0.036145  0.0  0.041667 -0.025093   \n",
       "\n",
       "                 ADI       ADM       ADP  ...       WTS       WWW       WY  \\\n",
       "2000-01-03 -0.030242 -0.010309 -0.034803  ... -0.029661 -0.057143 -0.02698   \n",
       "\n",
       "                XCRA     XLNX       XOM      XRAY       XRX      ZION  \\\n",
       "2000-01-03 -0.050279  0.02818 -0.027929 -0.005291  0.066116 -0.062302   \n",
       "\n",
       "                ZIXI  \n",
       "2000-01-03 -0.061514  \n",
       "\n",
       "[1 rows x 611 columns]"
      ]
     },
     "metadata": {},
     "output_type": "display_data"
    },
    {
     "data": {
      "text/html": [
       "<div>\n",
       "<style scoped>\n",
       "    .dataframe tbody tr th:only-of-type {\n",
       "        vertical-align: middle;\n",
       "    }\n",
       "\n",
       "    .dataframe tbody tr th {\n",
       "        vertical-align: top;\n",
       "    }\n",
       "\n",
       "    .dataframe thead th {\n",
       "        text-align: right;\n",
       "    }\n",
       "</style>\n",
       "<table border=\"1\" class=\"dataframe\">\n",
       "  <thead>\n",
       "    <tr style=\"text-align: right;\">\n",
       "      <th></th>\n",
       "      <th>AAPL</th>\n",
       "      <th>AB</th>\n",
       "      <th>ABM</th>\n",
       "      <th>ABT</th>\n",
       "      <th>ABX</th>\n",
       "      <th>ACXM</th>\n",
       "      <th>ADBE</th>\n",
       "      <th>ADI</th>\n",
       "      <th>ADM</th>\n",
       "      <th>ADP</th>\n",
       "      <th>...</th>\n",
       "      <th>WTS</th>\n",
       "      <th>WWW</th>\n",
       "      <th>WY</th>\n",
       "      <th>XCRA</th>\n",
       "      <th>XLNX</th>\n",
       "      <th>XOM</th>\n",
       "      <th>XRAY</th>\n",
       "      <th>XRX</th>\n",
       "      <th>ZION</th>\n",
       "      <th>ZIXI</th>\n",
       "    </tr>\n",
       "  </thead>\n",
       "  <tbody>\n",
       "    <tr>\n",
       "      <th>2018-08-24</th>\n",
       "      <td>0.003109</td>\n",
       "      <td>0.008347</td>\n",
       "      <td>0.004942</td>\n",
       "      <td>0.004101</td>\n",
       "      <td>0.022483</td>\n",
       "      <td>0.003535</td>\n",
       "      <td>0.017549</td>\n",
       "      <td>0.014273</td>\n",
       "      <td>0.003762</td>\n",
       "      <td>0.001674</td>\n",
       "      <td>...</td>\n",
       "      <td>0.001804</td>\n",
       "      <td>-0.001557</td>\n",
       "      <td>0.008676</td>\n",
       "      <td>0.005579</td>\n",
       "      <td>0.008611</td>\n",
       "      <td>0.006829</td>\n",
       "      <td>0.009969</td>\n",
       "      <td>-0.001822</td>\n",
       "      <td>-0.002986</td>\n",
       "      <td>0.003663</td>\n",
       "    </tr>\n",
       "  </tbody>\n",
       "</table>\n",
       "<p>1 rows × 611 columns</p>\n",
       "</div>"
      ],
      "text/plain": [
       "                AAPL        AB       ABM       ABT       ABX      ACXM  \\\n",
       "2018-08-24  0.003109  0.008347  0.004942  0.004101  0.022483  0.003535   \n",
       "\n",
       "                ADBE       ADI       ADM       ADP  ...       WTS       WWW  \\\n",
       "2018-08-24  0.017549  0.014273  0.003762  0.001674  ...  0.001804 -0.001557   \n",
       "\n",
       "                  WY      XCRA      XLNX       XOM      XRAY       XRX  \\\n",
       "2018-08-24  0.008676  0.005579  0.008611  0.006829  0.009969 -0.001822   \n",
       "\n",
       "                ZION      ZIXI  \n",
       "2018-08-24 -0.002986  0.003663  \n",
       "\n",
       "[1 rows x 611 columns]"
      ]
     },
     "metadata": {},
     "output_type": "display_data"
    }
   ],
   "source": [
    "display(returns_df.head(1))\n",
    "display(returns_df.tail(1))"
   ]
  },
  {
   "cell_type": "markdown",
   "id": "320b66a5",
   "metadata": {},
   "source": [
    "#### Get training and testing split"
   ]
  },
  {
   "cell_type": "code",
   "execution_count": 6,
   "id": "762f0d2d",
   "metadata": {},
   "outputs": [],
   "source": [
    "test_returns_df = returns_df.iloc[int(len(returns_df)*0.7):]\n",
    "train_returns_df = returns_df.iloc[:int(len(returns_df)*0.7)]"
   ]
  },
  {
   "cell_type": "markdown",
   "id": "ba29b494",
   "metadata": {},
   "source": [
    "### Get the context sets \n",
    "    - Either generate new or load from saved"
   ]
  },
  {
   "cell_type": "markdown",
   "id": "5f3dcf05",
   "metadata": {},
   "source": [
    "#### Generate new context sets"
   ]
  },
  {
   "cell_type": "code",
   "execution_count": 40,
   "id": "3c5cf675",
   "metadata": {},
   "outputs": [
    {
     "name": "stdout",
     "output_type": "stream",
     "text": [
      "Getting TGT:CONTEXT Sets\n"
     ]
    },
    {
     "name": "stderr",
     "output_type": "stream",
     "text": [
      "100%|██████████| 3283/3283 [06:58<00:00,  7.85it/s]\n"
     ]
    },
    {
     "name": "stdout",
     "output_type": "stream",
     "text": [
      "Daily pairs added\n"
     ]
    },
    {
     "name": "stderr",
     "output_type": "stream",
     "text": [
      "100%|██████████| 656/656 [01:23<00:00,  7.83it/s]\n"
     ]
    },
    {
     "name": "stdout",
     "output_type": "stream",
     "text": [
      "Weekly pairs added\n"
     ]
    },
    {
     "name": "stderr",
     "output_type": "stream",
     "text": [
      "100%|██████████| 156/156 [00:21<00:00,  7.28it/s]\n"
     ]
    },
    {
     "name": "stdout",
     "output_type": "stream",
     "text": [
      "Monthly pairs added\n",
      "--- DONE ---\n",
      "Number of context sets: 2467418\n",
      "Saved to: TrainingData/IJCNN_TP_daily_weekly_monthly_L0_C10_IQRDailyFalse_Training_0to70.json\n"
     ]
    }
   ],
   "source": [
    "idx_combinations = get_context_sets(train_returns_df, tickers, CONTEXT_SIZE=10, lag=0, \n",
    "                                    save=True, periods=['daily','weekly', 'monthly'],\n",
    "                                    IQR_daily=False, hedging=False)\n",
    "\n",
    "# idx_combinations = get_context_sets(train_returns_df, tickers, CONTEXT_SIZE=3, lag=0, \n",
    "#                                     save=True, periods=['daily'],\n",
    "#                                     IQR_daily=True, hedging=True)\n"
   ]
  },
  {
   "cell_type": "markdown",
   "id": "c212d8ad",
   "metadata": {},
   "source": [
    "#### Or load from saved"
   ]
  },
  {
   "cell_type": "code",
   "execution_count": 7,
   "id": "7324c4cf",
   "metadata": {},
   "outputs": [
    {
     "name": "stdout",
     "output_type": "stream",
     "text": [
      "--- Sets Loaded ---\n",
      "Number of context sets: 2467418\n"
     ]
    }
   ],
   "source": [
    "#-- Load idx_combinations from saved\n",
    "l = 0\n",
    "C = 10\n",
    "IQR = False\n",
    "p = 'daily_weekly_monthly'\n",
    "# p='daily'\n",
    "hedging=False\n",
    "df = pd.read_json(f'TrainingData/IJCNN_TP_{p}_L{l}_C{C}_IQRDaily{str(IQR)}_Training_0to70{\"_HEDGING\" if hedging else \"\"}.json')\n",
    "\n",
    "idx_combinations = df.values\n",
    "del df\n",
    "print(\"--- Sets Loaded ---\")\n",
    "print(f'Number of context sets: {len(idx_combinations)}')"
   ]
  },
  {
   "cell_type": "markdown",
   "id": "1b2eebd6",
   "metadata": {},
   "source": [
    "### Define and train the embeddings model"
   ]
  },
  {
   "cell_type": "markdown",
   "id": "6f00a2e6",
   "metadata": {},
   "source": [
    "#### Firstly, get the weights if using the weighted version of the model"
   ]
  },
  {
   "cell_type": "code",
   "execution_count": 41,
   "id": "57b854c7",
   "metadata": {},
   "outputs": [
    {
     "name": "stderr",
     "output_type": "stream",
     "text": [
      "100%|██████████| 2467418/2467418 [00:12<00:00, 202602.45it/s]\n"
     ]
    }
   ],
   "source": [
    "#-- Get the co-occurrence data necessary to compute weights\n",
    "cooccurrence_df = get_cooccurrence_df(tickers, idx_combinations, idx2ticker)"
   ]
  },
  {
   "cell_type": "markdown",
   "id": "ca0f3f6a",
   "metadata": {},
   "source": [
    "#### Define the model and train"
   ]
  },
  {
   "cell_type": "code",
   "execution_count": 42,
   "id": "89442b7f",
   "metadata": {},
   "outputs": [
    {
     "name": "stdout",
     "output_type": "stream",
     "text": [
      "Models/model_CBOW_Single_daily_weekly_monthly_L0_C10_IQRDailyTrue_70_Weights.pt\n"
     ]
    },
    {
     "name": "stderr",
     "output_type": "stream",
     "text": [
      "100%|██████████| 15/15 [1:23:16<00:00, 333.09s/it]\n"
     ]
    }
   ],
   "source": [
    "\"\"\" --- Model with weights --- \"\"\"\n",
    "# p='daily'\n",
    "# model = torch.load(f'Models/model_CBOW_Single_{p}_L{l}_C{C}_IQRDaily{str(IQR)}_70_Weights.pt')\n",
    "model = CBOW_StockModeller_Single_Weights(len(tickers),20)\n",
    "\n",
    "print(f'Models/model_CBOW_Single_{p}_L{l}_C{C}_IQRDaily{str(IQR)}_70_Weights{\"_HEDGING\" if hedging else \"\"}.pt')\n",
    "\n",
    "\n",
    "\n",
    "losses = train_model_weights(15, model, cooccurrence_df, idx2ticker, \n",
    "                             loss_function=nn.NLLLoss(), \n",
    "                             optimizer=optim.Adam(model.parameters(),\n",
    "                                                   lr=0.0001, \n",
    "                                                   #weight_decay=0.01\n",
    "                                                  ), \n",
    "                             train_loader=get_train_loader(idx_combinations), early_stop=True)\n",
    "\n",
    "#-- Save the model\n",
    "PATH = f'Models/model_CBOW_Single_{p}_L{l}_C{C}_IQRDaily{str(IQR)}_70_Weights{\"_HEDGING\" if hedging else \"\"}.pt'\n",
    "# Save\n",
    "torch.save(model, PATH)"
   ]
  },
  {
   "cell_type": "code",
   "execution_count": 43,
   "id": "3ba2979b",
   "metadata": {},
   "outputs": [
    {
     "data": {
      "text/html": [
       "<div>                            <div id=\"482e5e91-e45c-4965-9d7f-8cfefba386a9\" class=\"plotly-graph-div\" style=\"height:525px; width:100%;\"></div>            <script type=\"text/javascript\">                require([\"plotly\"], function(Plotly) {                    window.PLOTLYENV=window.PLOTLYENV || {};                                    if (document.getElementById(\"482e5e91-e45c-4965-9d7f-8cfefba386a9\")) {                    Plotly.newPlot(                        \"482e5e91-e45c-4965-9d7f-8cfefba386a9\",                        [{\"x\":[1,2,3,4,5,6,7,8,9,10,11,12,13,14,15],\"y\":[6.435188544479407,6.4012515835491595,6.351766421050429,6.31509686165972,6.292434972909142,6.277630893747717,6.2676040201893715,6.260736241698241,6.255983158964282,6.252637103530932,6.250236940120203,6.248480563142944,6.247166949289297,6.246165947470622,6.2453875513540735],\"type\":\"scatter\"}],                        {\"template\":{\"data\":{\"barpolar\":[{\"marker\":{\"line\":{\"color\":\"white\",\"width\":0.5},\"pattern\":{\"fillmode\":\"overlay\",\"size\":10,\"solidity\":0.2}},\"type\":\"barpolar\"}],\"bar\":[{\"error_x\":{\"color\":\"#2a3f5f\"},\"error_y\":{\"color\":\"#2a3f5f\"},\"marker\":{\"line\":{\"color\":\"white\",\"width\":0.5},\"pattern\":{\"fillmode\":\"overlay\",\"size\":10,\"solidity\":0.2}},\"type\":\"bar\"}],\"carpet\":[{\"aaxis\":{\"endlinecolor\":\"#2a3f5f\",\"gridcolor\":\"#C8D4E3\",\"linecolor\":\"#C8D4E3\",\"minorgridcolor\":\"#C8D4E3\",\"startlinecolor\":\"#2a3f5f\"},\"baxis\":{\"endlinecolor\":\"#2a3f5f\",\"gridcolor\":\"#C8D4E3\",\"linecolor\":\"#C8D4E3\",\"minorgridcolor\":\"#C8D4E3\",\"startlinecolor\":\"#2a3f5f\"},\"type\":\"carpet\"}],\"choropleth\":[{\"colorbar\":{\"outlinewidth\":0,\"ticks\":\"\"},\"type\":\"choropleth\"}],\"contourcarpet\":[{\"colorbar\":{\"outlinewidth\":0,\"ticks\":\"\"},\"type\":\"contourcarpet\"}],\"contour\":[{\"colorbar\":{\"outlinewidth\":0,\"ticks\":\"\"},\"colorscale\":[[0.0,\"#0d0887\"],[0.1111111111111111,\"#46039f\"],[0.2222222222222222,\"#7201a8\"],[0.3333333333333333,\"#9c179e\"],[0.4444444444444444,\"#bd3786\"],[0.5555555555555556,\"#d8576b\"],[0.6666666666666666,\"#ed7953\"],[0.7777777777777778,\"#fb9f3a\"],[0.8888888888888888,\"#fdca26\"],[1.0,\"#f0f921\"]],\"type\":\"contour\"}],\"heatmapgl\":[{\"colorbar\":{\"outlinewidth\":0,\"ticks\":\"\"},\"colorscale\":[[0.0,\"#0d0887\"],[0.1111111111111111,\"#46039f\"],[0.2222222222222222,\"#7201a8\"],[0.3333333333333333,\"#9c179e\"],[0.4444444444444444,\"#bd3786\"],[0.5555555555555556,\"#d8576b\"],[0.6666666666666666,\"#ed7953\"],[0.7777777777777778,\"#fb9f3a\"],[0.8888888888888888,\"#fdca26\"],[1.0,\"#f0f921\"]],\"type\":\"heatmapgl\"}],\"heatmap\":[{\"colorbar\":{\"outlinewidth\":0,\"ticks\":\"\"},\"colorscale\":[[0.0,\"#0d0887\"],[0.1111111111111111,\"#46039f\"],[0.2222222222222222,\"#7201a8\"],[0.3333333333333333,\"#9c179e\"],[0.4444444444444444,\"#bd3786\"],[0.5555555555555556,\"#d8576b\"],[0.6666666666666666,\"#ed7953\"],[0.7777777777777778,\"#fb9f3a\"],[0.8888888888888888,\"#fdca26\"],[1.0,\"#f0f921\"]],\"type\":\"heatmap\"}],\"histogram2dcontour\":[{\"colorbar\":{\"outlinewidth\":0,\"ticks\":\"\"},\"colorscale\":[[0.0,\"#0d0887\"],[0.1111111111111111,\"#46039f\"],[0.2222222222222222,\"#7201a8\"],[0.3333333333333333,\"#9c179e\"],[0.4444444444444444,\"#bd3786\"],[0.5555555555555556,\"#d8576b\"],[0.6666666666666666,\"#ed7953\"],[0.7777777777777778,\"#fb9f3a\"],[0.8888888888888888,\"#fdca26\"],[1.0,\"#f0f921\"]],\"type\":\"histogram2dcontour\"}],\"histogram2d\":[{\"colorbar\":{\"outlinewidth\":0,\"ticks\":\"\"},\"colorscale\":[[0.0,\"#0d0887\"],[0.1111111111111111,\"#46039f\"],[0.2222222222222222,\"#7201a8\"],[0.3333333333333333,\"#9c179e\"],[0.4444444444444444,\"#bd3786\"],[0.5555555555555556,\"#d8576b\"],[0.6666666666666666,\"#ed7953\"],[0.7777777777777778,\"#fb9f3a\"],[0.8888888888888888,\"#fdca26\"],[1.0,\"#f0f921\"]],\"type\":\"histogram2d\"}],\"histogram\":[{\"marker\":{\"pattern\":{\"fillmode\":\"overlay\",\"size\":10,\"solidity\":0.2}},\"type\":\"histogram\"}],\"mesh3d\":[{\"colorbar\":{\"outlinewidth\":0,\"ticks\":\"\"},\"type\":\"mesh3d\"}],\"parcoords\":[{\"line\":{\"colorbar\":{\"outlinewidth\":0,\"ticks\":\"\"}},\"type\":\"parcoords\"}],\"pie\":[{\"automargin\":true,\"type\":\"pie\"}],\"scatter3d\":[{\"line\":{\"colorbar\":{\"outlinewidth\":0,\"ticks\":\"\"}},\"marker\":{\"colorbar\":{\"outlinewidth\":0,\"ticks\":\"\"}},\"type\":\"scatter3d\"}],\"scattercarpet\":[{\"marker\":{\"colorbar\":{\"outlinewidth\":0,\"ticks\":\"\"}},\"type\":\"scattercarpet\"}],\"scattergeo\":[{\"marker\":{\"colorbar\":{\"outlinewidth\":0,\"ticks\":\"\"}},\"type\":\"scattergeo\"}],\"scattergl\":[{\"marker\":{\"colorbar\":{\"outlinewidth\":0,\"ticks\":\"\"}},\"type\":\"scattergl\"}],\"scattermapbox\":[{\"marker\":{\"colorbar\":{\"outlinewidth\":0,\"ticks\":\"\"}},\"type\":\"scattermapbox\"}],\"scatterpolargl\":[{\"marker\":{\"colorbar\":{\"outlinewidth\":0,\"ticks\":\"\"}},\"type\":\"scatterpolargl\"}],\"scatterpolar\":[{\"marker\":{\"colorbar\":{\"outlinewidth\":0,\"ticks\":\"\"}},\"type\":\"scatterpolar\"}],\"scatter\":[{\"marker\":{\"colorbar\":{\"outlinewidth\":0,\"ticks\":\"\"}},\"type\":\"scatter\"}],\"scatterternary\":[{\"marker\":{\"colorbar\":{\"outlinewidth\":0,\"ticks\":\"\"}},\"type\":\"scatterternary\"}],\"surface\":[{\"colorbar\":{\"outlinewidth\":0,\"ticks\":\"\"},\"colorscale\":[[0.0,\"#0d0887\"],[0.1111111111111111,\"#46039f\"],[0.2222222222222222,\"#7201a8\"],[0.3333333333333333,\"#9c179e\"],[0.4444444444444444,\"#bd3786\"],[0.5555555555555556,\"#d8576b\"],[0.6666666666666666,\"#ed7953\"],[0.7777777777777778,\"#fb9f3a\"],[0.8888888888888888,\"#fdca26\"],[1.0,\"#f0f921\"]],\"type\":\"surface\"}],\"table\":[{\"cells\":{\"fill\":{\"color\":\"#EBF0F8\"},\"line\":{\"color\":\"white\"}},\"header\":{\"fill\":{\"color\":\"#C8D4E3\"},\"line\":{\"color\":\"white\"}},\"type\":\"table\"}]},\"layout\":{\"annotationdefaults\":{\"arrowcolor\":\"#2a3f5f\",\"arrowhead\":0,\"arrowwidth\":1},\"autotypenumbers\":\"strict\",\"coloraxis\":{\"colorbar\":{\"outlinewidth\":0,\"ticks\":\"\"}},\"colorscale\":{\"diverging\":[[0,\"#8e0152\"],[0.1,\"#c51b7d\"],[0.2,\"#de77ae\"],[0.3,\"#f1b6da\"],[0.4,\"#fde0ef\"],[0.5,\"#f7f7f7\"],[0.6,\"#e6f5d0\"],[0.7,\"#b8e186\"],[0.8,\"#7fbc41\"],[0.9,\"#4d9221\"],[1,\"#276419\"]],\"sequential\":[[0.0,\"#0d0887\"],[0.1111111111111111,\"#46039f\"],[0.2222222222222222,\"#7201a8\"],[0.3333333333333333,\"#9c179e\"],[0.4444444444444444,\"#bd3786\"],[0.5555555555555556,\"#d8576b\"],[0.6666666666666666,\"#ed7953\"],[0.7777777777777778,\"#fb9f3a\"],[0.8888888888888888,\"#fdca26\"],[1.0,\"#f0f921\"]],\"sequentialminus\":[[0.0,\"#0d0887\"],[0.1111111111111111,\"#46039f\"],[0.2222222222222222,\"#7201a8\"],[0.3333333333333333,\"#9c179e\"],[0.4444444444444444,\"#bd3786\"],[0.5555555555555556,\"#d8576b\"],[0.6666666666666666,\"#ed7953\"],[0.7777777777777778,\"#fb9f3a\"],[0.8888888888888888,\"#fdca26\"],[1.0,\"#f0f921\"]]},\"colorway\":[\"#636efa\",\"#EF553B\",\"#00cc96\",\"#ab63fa\",\"#FFA15A\",\"#19d3f3\",\"#FF6692\",\"#B6E880\",\"#FF97FF\",\"#FECB52\"],\"font\":{\"color\":\"#2a3f5f\"},\"geo\":{\"bgcolor\":\"white\",\"lakecolor\":\"white\",\"landcolor\":\"white\",\"showlakes\":true,\"showland\":true,\"subunitcolor\":\"#C8D4E3\"},\"hoverlabel\":{\"align\":\"left\"},\"hovermode\":\"closest\",\"mapbox\":{\"style\":\"light\"},\"paper_bgcolor\":\"white\",\"plot_bgcolor\":\"white\",\"polar\":{\"angularaxis\":{\"gridcolor\":\"#EBF0F8\",\"linecolor\":\"#EBF0F8\",\"ticks\":\"\"},\"bgcolor\":\"white\",\"radialaxis\":{\"gridcolor\":\"#EBF0F8\",\"linecolor\":\"#EBF0F8\",\"ticks\":\"\"}},\"scene\":{\"xaxis\":{\"backgroundcolor\":\"white\",\"gridcolor\":\"#DFE8F3\",\"gridwidth\":2,\"linecolor\":\"#EBF0F8\",\"showbackground\":true,\"ticks\":\"\",\"zerolinecolor\":\"#EBF0F8\"},\"yaxis\":{\"backgroundcolor\":\"white\",\"gridcolor\":\"#DFE8F3\",\"gridwidth\":2,\"linecolor\":\"#EBF0F8\",\"showbackground\":true,\"ticks\":\"\",\"zerolinecolor\":\"#EBF0F8\"},\"zaxis\":{\"backgroundcolor\":\"white\",\"gridcolor\":\"#DFE8F3\",\"gridwidth\":2,\"linecolor\":\"#EBF0F8\",\"showbackground\":true,\"ticks\":\"\",\"zerolinecolor\":\"#EBF0F8\"}},\"shapedefaults\":{\"line\":{\"color\":\"#2a3f5f\"}},\"ternary\":{\"aaxis\":{\"gridcolor\":\"#DFE8F3\",\"linecolor\":\"#A2B1C6\",\"ticks\":\"\"},\"baxis\":{\"gridcolor\":\"#DFE8F3\",\"linecolor\":\"#A2B1C6\",\"ticks\":\"\"},\"bgcolor\":\"white\",\"caxis\":{\"gridcolor\":\"#DFE8F3\",\"linecolor\":\"#A2B1C6\",\"ticks\":\"\"}},\"title\":{\"x\":0.05},\"xaxis\":{\"automargin\":true,\"gridcolor\":\"#EBF0F8\",\"linecolor\":\"#EBF0F8\",\"ticks\":\"\",\"title\":{\"standoff\":15},\"zerolinecolor\":\"#EBF0F8\",\"zerolinewidth\":2},\"yaxis\":{\"automargin\":true,\"gridcolor\":\"#EBF0F8\",\"linecolor\":\"#EBF0F8\",\"ticks\":\"\",\"title\":{\"standoff\":15},\"zerolinecolor\":\"#EBF0F8\",\"zerolinewidth\":2}}},\"title\":{\"text\":\"Training Loss by Epoch\"},\"yaxis\":{\"title\":{\"text\":\"Loss\"}},\"xaxis\":{\"title\":{\"text\":\"Epoch\"}}},                        {\"responsive\": true}                    ).then(function(){\n",
       "                            \n",
       "var gd = document.getElementById('482e5e91-e45c-4965-9d7f-8cfefba386a9');\n",
       "var x = new MutationObserver(function (mutations, observer) {{\n",
       "        var display = window.getComputedStyle(gd).display;\n",
       "        if (!display || display === 'none') {{\n",
       "            console.log([gd, 'removed!']);\n",
       "            Plotly.purge(gd);\n",
       "            observer.disconnect();\n",
       "        }}\n",
       "}});\n",
       "\n",
       "// Listen for the removal of the full notebook cells\n",
       "var notebookContainer = gd.closest('#notebook-container');\n",
       "if (notebookContainer) {{\n",
       "    x.observe(notebookContainer, {childList: true});\n",
       "}}\n",
       "\n",
       "// Listen for the clearing of the current output cell\n",
       "var outputEl = gd.closest('.output');\n",
       "if (outputEl) {{\n",
       "    x.observe(outputEl, {childList: true});\n",
       "}}\n",
       "\n",
       "                        })                };                });            </script>        </div>"
      ]
     },
     "metadata": {},
     "output_type": "display_data"
    }
   ],
   "source": [
    "fig = go.Figure()\n",
    "fig.add_trace(go.Scatter(x=1+np.arange(len(losses)),\n",
    "                         y=losses))\n",
    "fig.update_layout(  title=\"Training Loss by Epoch\",\n",
    "                    template='plotly_white',\n",
    "                    yaxis=dict(title='Loss'),\n",
    "                    xaxis=dict(title='Epoch'))"
   ]
  },
  {
   "cell_type": "code",
   "execution_count": 10,
   "id": "d58fe383",
   "metadata": {},
   "outputs": [
    {
     "name": "stdout",
     "output_type": "stream",
     "text": [
      "Models/model_CBOW_Single_daily_L0_C3_IQRDailyTrue_70_HEDGING.pt\n"
     ]
    },
    {
     "name": "stderr",
     "output_type": "stream",
     "text": [
      "100%|██████████| 30/30 [09:28<00:00, 18.96s/it]\n"
     ]
    }
   ],
   "source": [
    "\"\"\" --- Model without weights --- \"\"\"\n",
    "model = CBOW_StockModeller_Single(len(tickers),20)\n",
    "\n",
    "\n",
    "PATH = f'Models/model_CBOW_Single_{p}_L{l}_C{C}_IQRDaily{str(IQR)}_70{\"_HEDGING\" if hedging else \"\"}.pt'\n",
    "print(PATH)\n",
    "\n",
    "losses = train_model(30, model, \n",
    "                     loss_function=nn.NLLLoss(), \n",
    "                     optimizer=optim.Adam(model.parameters(),\n",
    "                                           lr=0.0001, \n",
    "                                           #weight_decay=0.01\n",
    "                                          ), \n",
    "                     train_loader=get_train_loader(idx_combinations), early_stop=True)\n",
    "\n",
    "#-- Save the model\n",
    "\n",
    "\n",
    "# Save\n",
    "torch.save(model, PATH)"
   ]
  },
  {
   "cell_type": "markdown",
   "id": "164bee66",
   "metadata": {},
   "source": [
    "## Evaluation Bits"
   ]
  },
  {
   "cell_type": "code",
   "execution_count": 12,
   "id": "e642a4a9",
   "metadata": {},
   "outputs": [
    {
     "name": "stdout",
     "output_type": "stream",
     "text": [
      "Models/model_CBOW_Single_daily_weekly_monthly_L0_C3_IQRDailyTrue_70.pt\n"
     ]
    }
   ],
   "source": [
    "#-- Load in the desired model\n",
    "l = 0\n",
    "C = 3\n",
    "IQR = True\n",
    "p='daily_weekly_monthly'\n",
    "hedging=False\n",
    "weighted = False\n",
    "print(f'Models/model_CBOW_Single_{p}_L{l}_C{C}_IQRDaily{str(IQR)}_70{\"_HEDGING\" if hedging else \"\"}.pt')\n",
    "model = torch.load(f'Models/model_CBOW_Single_{p}_L{l}_C{C}_IQRDaily{str(IQR)}_70{\"_HEDGING\" if hedging else \"\"}{\"_Weights\" if weighted else \"\"}.pt')\n"
   ]
  },
  {
   "cell_type": "markdown",
   "id": "5f8a7c05",
   "metadata": {},
   "source": [
    "### PCA Plot"
   ]
  },
  {
   "cell_type": "code",
   "execution_count": 13,
   "id": "6f20cb66",
   "metadata": {},
   "outputs": [
    {
     "data": {
      "text/html": [
       "<div>                            <div id=\"710317c3-5d01-4483-b447-1bbbdebfdcbb\" class=\"plotly-graph-div\" style=\"height:525px; width:100%;\"></div>            <script type=\"text/javascript\">                require([\"plotly\"], function(Plotly) {                    window.PLOTLYENV=window.PLOTLYENV || {};                                    if (document.getElementById(\"710317c3-5d01-4483-b447-1bbbdebfdcbb\")) {                    Plotly.newPlot(                        \"710317c3-5d01-4483-b447-1bbbdebfdcbb\",                        [{\"customdata\":[[\"TECHNOLOGY\",\"COMPUTER MANUFACTURING\",\"APPLE INC.\"],[\"TECHNOLOGY\",\"EDP SERVICES\",\"ACXIOM CORPORATION\"],[\"TECHNOLOGY\",\"COMPUTER SOFTWARE: PREPACKAGED SOFTWARE\",\"ADOBE SYSTEMS INCORPORATED\"],[\"TECHNOLOGY\",\"SEMICONDUCTORS\",\"ANALOG DEVICES, INC.\"],[\"TECHNOLOGY\",\"EDP SERVICES\",\"AUTOMATIC DATA PROCESSING, INC.\"],[\"TECHNOLOGY\",\"COMPUTER SOFTWARE: PREPACKAGED SOFTWARE\",\"AUTODESK, INC.\"],[\"TECHNOLOGY\",\"EDP SERVICES\",\"AGILYSYS, INC.\"],[\"TECHNOLOGY\",\"SEMICONDUCTORS\",\"APPLIED MATERIALS, INC.\"],[\"TECHNOLOGY\",\"COMPUTER SOFTWARE: PREPACKAGED SOFTWARE\",\"AMERICAN SOFTWARE, INC.\"],[\"TECHNOLOGY\",\"ELECTRICAL PRODUCTS\",\"BENCHMARK ELECTRONICS, INC.\"],[\"TECHNOLOGY\",\"COMPUTER SOFTWARE: PREPACKAGED SOFTWARE\",\"CA INC.\"],[\"TECHNOLOGY\",\"EDP SERVICES\",\"CACI INTERNATIONAL, INC.\"],[\"TECHNOLOGY\",\"COMPUTER SOFTWARE: PREPACKAGED SOFTWARE\",\"CADENCE DESIGN SYSTEMS, INC.\"],[\"TECHNOLOGY\",\"EDP SERVICES\",\"CERNER CORPORATION\"],[\"TECHNOLOGY\",\"EDP SERVICES\",\"CORELOGIC, INC.\"],[\"TECHNOLOGY\",\"RADIO AND TELEVISION BROADCASTING AND COMMUNICATIONS EQUIPMENT\",\"COMTECH TELECOMMUNICATIONS CORP.\"],[\"TECHNOLOGY\",\"SEMICONDUCTORS\",\"CIRRUS LOGIC, INC.\"],[\"TECHNOLOGY\",\"COMPUTER COMMUNICATIONS EQUIPMENT\",\"CISCO SYSTEMS, INC.\"],[\"TECHNOLOGY\",\"ELECTRICAL PRODUCTS\",\"CTS CORPORATION\"],[\"TECHNOLOGY\",\"INDUSTRIAL MACHINERY/COMPONENTS\",\"CURTISS-WRIGHT CORPORATION\"],[\"TECHNOLOGY\",\"SEMICONDUCTORS\",\"CYPRESS SEMICONDUCTOR CORPORATION\"],[\"TECHNOLOGY\",\"COMPUTER COMMUNICATIONS EQUIPMENT\",\"DIGI INTERNATIONAL INC.\"],[\"TECHNOLOGY\",\"SEMICONDUCTORS\",\"DIODES INCORPORATED\"],[\"TECHNOLOGY\",\"INDUSTRIAL MACHINERY/COMPONENTS\",\"DOVER CORPORATION\"],[\"TECHNOLOGY\",\"COMPUTER SOFTWARE: PREPACKAGED SOFTWARE\",\"ELECTRONIC ARTS INC.\"],[\"TECHNOLOGY\",\"RADIO AND TELEVISION BROADCASTING AND COMMUNICATIONS EQUIPMENT\",\"ERICSSON\"],[\"TECHNOLOGY\",\"INDUSTRIAL MACHINERY/COMPONENTS\",\"EATON CORPORATION, PLC\"],[\"TECHNOLOGY\",\"EDP SERVICES\",\"FISERV, INC.\"],[\"TECHNOLOGY\",\"COMPUTER MANUFACTURING\",\"HP INC.\"],[\"TECHNOLOGY\",\"COMPUTER MANUFACTURING\",\"INTERNATIONAL BUSINESS MACHINES CORPORATION\"],[\"TECHNOLOGY\",\"SEMICONDUCTORS\",\"INTEGRATED DEVICE TECHNOLOGY, INC.\"],[\"TECHNOLOGY\",\"SEMICONDUCTORS\",\"INTEL CORPORATION\"],[\"TECHNOLOGY\",\"ADVERTISING\",\"INTERPUBLIC GROUP OF COMPANIES, INC. (THE)\"],[\"TECHNOLOGY\",\"INDUSTRIAL MACHINERY/COMPONENTS\",\"ILLINOIS TOOL WORKS INC.\"],[\"TECHNOLOGY\",\"EDP SERVICES\",\"JACK HENRY & ASSOCIATES, INC.\"],[\"TECHNOLOGY\",\"PROFESSIONAL SERVICES\",\"KELLY SERVICES, INC.\"],[\"TECHNOLOGY\",\"SEMICONDUCTORS\",\"KULICKE AND SOFFA INDUSTRIES, INC.\"],[\"TECHNOLOGY\",\"INDUSTRIAL MACHINERY/COMPONENTS\",\"LAM RESEARCH CORPORATION\"],[\"TECHNOLOGY\",\"SEMICONDUCTORS\",\"LATTICE SEMICONDUCTOR CORPORATION\"],[\"TECHNOLOGY\",\"PROFESSIONAL SERVICES\",\"MANPOWERGROUP\"],[\"TECHNOLOGY\",\"COMPUTER SOFTWARE: PREPACKAGED SOFTWARE\",\"MICROSOFT CORPORATION\"],[\"TECHNOLOGY\",\"RADIO AND TELEVISION BROADCASTING AND COMMUNICATIONS EQUIPMENT\",\"MOTOROLA SOLUTIONS, INC.\"],[\"TECHNOLOGY\",\"SEMICONDUCTORS\",\"MICRON TECHNOLOGY, INC.\"],[\"TECHNOLOGY\",\"SEMICONDUCTORS\",\"MAXIM INTEGRATED PRODUCTS, INC.\"],[\"TECHNOLOGY\",\"ADVERTISING\",\"OMNICOM GROUP INC.\"],[\"TECHNOLOGY\",\"COMPUTER SOFTWARE: PREPACKAGED SOFTWARE\",\"ORACLE CORPORATION\"],[\"TECHNOLOGY\",\"ELECTRICAL PRODUCTS\",\"PARK ELECTROCHEMICAL CORPORATION\"],[\"TECHNOLOGY\",\"SEMICONDUCTORS\",\"PHOTRONICS, INC.\"],[\"TECHNOLOGY\",\"ELECTRICAL PRODUCTS\",\"PLEXUS CORP.\"],[\"TECHNOLOGY\",\"INDUSTRIAL MACHINERY/COMPONENTS\",\"PENTAIR PLC.\"],[\"TECHNOLOGY\",\"COMPUTER SOFTWARE: PREPACKAGED SOFTWARE\",\"PTC INC.\"],[\"TECHNOLOGY\",\"EDP SERVICES\",\"SCIENTIFIC GAMES CORP\"],[\"TECHNOLOGY\",\"SEMICONDUCTORS\",\"SIGMA DESIGNS, INC.\"],[\"TECHNOLOGY\",\"SEMICONDUCTORS\",\"SEMTECH CORPORATION\"],[\"TECHNOLOGY\",\"INDUSTRIAL MACHINERY/COMPONENTS\",\"SPX CORPORATION\"],[\"TECHNOLOGY\",\"SEMICONDUCTORS\",\"SKYWORKS SOLUTIONS, INC.\"],[\"TECHNOLOGY\",\"INDUSTRIAL MACHINERY/COMPONENTS\",\"STANDEX INTERNATIONAL CORPORATION\"],[\"TECHNOLOGY\",\"COMPUTER SOFTWARE: PREPACKAGED SOFTWARE\",\"SYMANTEC CORPORATION\"],[\"TECHNOLOGY\",\"RETAIL: COMPUTER SOFTWARE & PERIPHERAL EQUIPMENT\",\"TECH DATA CORPORATION\"],[\"TECHNOLOGY\",\"SEMICONDUCTORS\",\"TEXAS INSTRUMENTS INCORPORATED\"],[\"TECHNOLOGY\",\"COMPUTER SOFTWARE: PREPACKAGED SOFTWARE\",\"TYLER TECHNOLOGIES, INC.\"],[\"TECHNOLOGY\",\"EDP SERVICES\",\"UNISYS CORPORATION\"],[\"TECHNOLOGY\",\"ELECTRONIC COMPONENTS\",\"WESTERN DIGITAL CORPORATION\"],[\"TECHNOLOGY\",\"ADVERTISING\",\"WPP PLC\"],[\"TECHNOLOGY\",\"SEMICONDUCTORS\",\"XILINX, INC.\"],[\"TECHNOLOGY\",\"COMPUTER PERIPHERAL EQUIPMENT\",\"XEROX CORPORATION\"],[\"TECHNOLOGY\",\"EDP SERVICES\",\"ZIX CORPORATION\"]],\"hovertemplate\":\"<b>%{hovertext}</b><br><br>sector=%{customdata[0]}<br>latent1=%{x}<br>latent2=%{y}<br>latent3=%{z}<br>size=%{marker.size}<br>industry=%{customdata[1]}<br>name=%{customdata[2]}<extra></extra>\",\"hovertext\":[\"AAPL\",\"ACXM\",\"ADBE\",\"ADI\",\"ADP\",\"ADSK\",\"AGYS\",\"AMAT\",\"AMSWA\",\"BHE\",\"CA\",\"CACI\",\"CDNS\",\"CERN\",\"CLGX\",\"CMTL\",\"CRUS\",\"CSCO\",\"CTS\",\"CW\",\"CY\",\"DGII\",\"DIOD\",\"DOV\",\"EA\",\"ERIC\",\"ETN\",\"FISV\",\"HPQ\",\"IBM\",\"IDTI\",\"INTC\",\"IPG\",\"ITW\",\"JKHY\",\"KELYA\",\"KLIC\",\"LRCX\",\"LSCC\",\"MAN\",\"MSFT\",\"MSI\",\"MU\",\"MXIM\",\"OMC\",\"ORCL\",\"PKE\",\"PLAB\",\"PLXS\",\"PNR\",\"PTC\",\"SGMS\",\"SIGM\",\"SMTC\",\"SPXC\",\"SWKS\",\"SXI\",\"SYMC\",\"TECD\",\"TXN\",\"TYL\",\"UIS\",\"WDC\",\"WPP\",\"XLNX\",\"XRX\",\"ZIXI\"],\"legendgroup\":\"TECHNOLOGY\",\"marker\":{\"color\":\"#FD3216\",\"opacity\":0.7,\"size\":[0.5,0.5,0.5,0.5,0.5,0.5,0.5,0.5,0.5,0.5,0.5,0.5,0.5,0.5,0.5,0.5,0.5,0.5,0.5,0.5,0.5,0.5,0.5,0.5,0.5,0.5,0.5,0.5,0.5,0.5,0.5,0.5,0.5,0.5,0.5,0.5,0.5,0.5,0.5,0.5,0.5,0.5,0.5,0.5,0.5,0.5,0.5,0.5,0.5,0.5,0.5,0.5,0.5,0.5,0.5,0.5,0.5,0.5,0.5,0.5,0.5,0.5,0.5,0.5,0.5,0.5,0.5],\"sizemode\":\"area\",\"sizeref\":0.00125,\"symbol\":\"circle\"},\"mode\":\"markers\",\"name\":\"TECHNOLOGY\",\"scene\":\"scene\",\"showlegend\":true,\"type\":\"scatter3d\",\"x\":[0.558354377746582,0.27393588423728943,0.4009413421154022,0.4303739666938782,-0.8906057476997375,0.4627346992492676,0.9587661027908325,0.5275304317474365,0.7690929174423218,0.6015230417251587,0.04212265461683273,-0.038456059992313385,0.3176731765270233,0.19780097901821136,-0.02806716412305832,0.5893411636352539,1.3088780641555786,0.20775562524795532,0.8554337024688721,-0.19527730345726013,1.098708152770996,0.8413419723510742,1.0419648885726929,-0.3148539066314697,0.4453037977218628,0.7485321760177612,-0.19339397549629211,-0.3533894419670105,0.08797186613082886,-0.6253774166107178,0.9765707850456238,0.21916161477565765,0.36178746819496155,-0.6391440629959106,-0.23060627281665802,0.3985629081726074,1.4111169576644897,0.9077183604240417,1.2135801315307617,0.23663517832756042,-0.38297197222709656,0.4824444055557251,1.1476740837097168,0.5047823786735535,-0.4668792486190796,0.20181821286678314,0.37495550513267517,1.1798900365829468,0.976966142654419,-0.16446636617183685,0.7830328345298767,0.76776123046875,1.1326448917388916,0.7570305466651917,0.2564527988433838,1.302569031715393,0.40613600611686707,0.36494091153144836,0.07247591018676758,0.45237040519714355,0.42837947607040405,0.8010208606719971,0.941227376461029,-0.03740011900663376,0.6112338900566101,0.24478977918624878,1.3326424360275269],\"y\":[-0.31757885217666626,-0.000747628160752356,-0.38082730770111084,-0.6071398258209229,-0.1403580605983734,-0.24932807683944702,0.023830009624361992,-0.42565566301345825,-0.38532015681266785,-0.268676221370697,-0.4524856209754944,-0.3393266499042511,-0.06430394947528839,-0.5702979564666748,0.45092523097991943,-0.6237203478813171,-0.3125900626182556,-0.37809181213378906,0.029010213911533356,-0.028694789856672287,-0.5623706579208374,-0.2890873849391937,-0.45291149616241455,0.24841871857643127,-0.2920836806297302,-0.4777866303920746,0.19621877372264862,-0.17278535664081573,-0.2906811237335205,-0.1826191395521164,-0.5975708961486816,-0.39739710092544556,0.034958239644765854,0.1306930035352707,-0.3436625003814697,0.3942224085330963,-0.23770271241664886,-0.5210466384887695,-0.1670931577682495,0.14238861203193665,-0.2653631567955017,-0.26143062114715576,-0.1146964356303215,-0.6030594110488892,-0.14546753466129303,-0.4412255585193634,0.015241002663969994,-0.14436183869838715,-0.3832978904247284,0.05385628715157509,-0.48033156991004944,-0.02600439265370369,-0.6056073904037476,-0.5742919445037842,0.08698422461748123,-0.5743529796600342,0.34743380546569824,-0.39294758439064026,-0.2898178696632385,-0.6178342700004578,-0.5686424374580383,0.25532394647598267,-0.43058276176452637,-0.16911447048187256,-0.7000333666801453,-0.20768389105796814,-0.3833281099796295],\"z\":[-0.3626956641674042,-0.219877690076828,-0.5891406536102295,-0.986043393611908,-0.2055082619190216,-0.30391398072242737,-0.01902046985924244,-0.6750231385231018,-0.11896371096372604,-0.5655344128608704,-0.49852296710014343,-0.24125419557094574,-0.3631144165992737,-0.5657191872596741,-0.04024508222937584,-0.3603757321834564,-0.5538731813430786,-0.8963162899017334,-0.3379633128643036,0.01028402429074049,-0.5426033139228821,-0.22272801399230957,-0.3170681893825531,-0.054398246109485626,-0.2455141544342041,-0.3647942841053009,0.12141023576259613,-0.41894686222076416,-0.5017681121826172,-0.5636914372444153,-0.7857912182807922,-0.7385963797569275,-0.14584146440029144,-0.15242157876491547,-0.3114796578884125,-0.09555434435606003,-0.4640543758869171,-0.7319110035896301,-0.5007004737854004,-0.11682736873626709,-0.6214150190353394,-0.5550684332847595,-0.45685726404190063,-0.7764424681663513,-0.2744877338409424,-0.7403937578201294,-0.4482305645942688,-0.31556493043899536,-0.638421356678009,-0.16910511255264282,-0.6458114981651306,-0.19245149195194244,-0.2767583131790161,-0.9337457418441772,-0.011391788721084595,-0.5192981958389282,-0.03752388432621956,-0.6581922769546509,-0.5862336754798889,-0.8817523717880249,-0.42616841197013855,-0.13630995154380798,-0.47403955459594727,-0.17534221708774567,-0.8985527753829956,-0.5064975619316101,-0.3521876931190491]},{\"customdata\":[[\"FINANCE\",\"INVESTMENT MANAGERS\",\"ALLIANCEBERNSTEIN HOLDING L.P.\"],[\"FINANCE\",\"DIVERSIFIED COMMERCIAL SERVICES\",\"ABM INDUSTRIES INCORPORATED\"],[\"FINANCE\",\"LIFE INSURANCE\",\"AEGON NV\"],[\"FINANCE\",\"PROPERTY-CASUALTY INSURERS\",\"AMERICAN FINANCIAL GROUP, INC.\"],[\"FINANCE\",\"ACCIDENT &HEALTH INSURANCE\",\"AFLAC INCORPORATED\"],[\"FINANCE\",\"PROPERTY-CASUALTY INSURERS\",\"AMERICAN INTERNATIONAL GROUP, INC.\"],[\"FINANCE\",\"SPECIALTY INSURERS\",\"ARTHUR J. GALLAGHER & CO.\"],[\"FINANCE\",\"SPECIALTY INSURERS\",\"AON PLC\"],[\"FINANCE\",\"MAJOR BANKS\",\"ASSOCIATED BANC-CORP\"],[\"FINANCE\",\"FINANCE: CONSUMER SERVICES\",\"AMERICAN EXPRESS COMPANY\"],[\"FINANCE\",\"MAJOR BANKS\",\"BANK OF AMERICA CORPORATION\"],[\"FINANCE\",\"MAJOR BANKS\",\"BB&T CORPORATION\"],[\"FINANCE\",\"COMMERCIAL BANKS\",\"BANCO BILBAO VISCAYA ARGENTARIA S.A.\"],[\"FINANCE\",\"COMMERCIAL BANKS\",\"BARCLAYS PLC\"],[\"FINANCE\",\"INVESTMENT MANAGERS\",\"FRANKLIN RESOURCES, INC.\"],[\"FINANCE\",\"MAJOR BANKS\",\"BANK OF NEW YORK MELLON CORPORATION (THE)\"],[\"FINANCE\",\"MAJOR BANKS\",\"BANK OF HAWAII CORPORATION\"],[\"FINANCE\",\"MAJOR BANKS\",\"POPULAR, INC.\"],[\"FINANCE\",\"SPECIALTY INSURERS\",\"BROWN & BROWN, INC.\"],[\"FINANCE\",\"MAJOR BANKS\",\"BANCORPSOUTH BANK\"],[\"FINANCE\",\"MAJOR BANKS\",\"CITIGROUP INC.\"],[\"FINANCE\",\"PROPERTY-CASUALTY INSURERS\",\"CHUBB LIMITED\"],[\"FINANCE\",\"MAJOR BANKS\",\"COMMERCE BANCSHARES, INC.\"],[\"FINANCE\",\"MAJOR BANKS\",\"CULLEN/FROST BANKERS, INC.\"],[\"FINANCE\",\"LIFE INSURANCE\",\"CITIZENS, INC.\"],[\"FINANCE\",\"PROPERTY-CASUALTY INSURERS\",\"CINCINNATI FINANCIAL CORPORATION\"],[\"FINANCE\",\"MAJOR BANKS\",\"COMERICA INCORPORATED\"],[\"FINANCE\",\"PROPERTY-CASUALTY INSURERS\",\"CNA FINANCIAL CORPORATION\"],[\"FINANCE\",\"MAJOR BANKS\",\"CVB FINANCIAL CORPORATION\"],[\"FINANCE\",\"FINANCE: CONSUMER SERVICES\",\"DUN & BRADSTREET CORPORATION (THE)\"],[\"FINANCE\",\"FINANCE: CONSUMER SERVICES\",\"EQUIFAX, INC.\"],[\"FINANCE\",\"INVESTMENT MANAGERS\",\"EATON VANCE CORPORATION\"],[\"FINANCE\",\"MAJOR BANKS\",\"FIRST BANCORP.\"],[\"FINANCE\",\"MAJOR BANKS\",\"FIRST FINANCIAL BANCORP.\"],[\"FINANCE\",\"MAJOR BANKS\",\"FIRST HORIZON NATIONAL CORPORATION\"],[\"FINANCE\",\"MAJOR BANKS\",\"FIFTH THIRD BANCORP\"],[\"FINANCE\",\"MAJOR BANKS\",\"FIRST MIDWEST BANCORP, INC.\"],[\"FINANCE\",\"MAJOR BANKS\",\"F.N.B. CORPORATION\"],[\"FINANCE\",\"MAJOR BANKS\",\"FULTON FINANCIAL CORPORATION\"],[\"FINANCE\",\"MAJOR BANKS\",\"HUNTINGTON BANCSHARES INCORPORATED\"],[\"FINANCE\",\"MAJOR BANKS\",\"INDEPENDENT BANK CORP.\"],[\"FINANCE\",\"MAJOR BANKS\",\"J P MORGAN CHASE & CO\"],[\"FINANCE\",\"MAJOR BANKS\",\"KEYCORP\"],[\"FINANCE\",\"PROPERTY-CASUALTY INSURERS\",\"KEMPER CORPORATION\"],[\"FINANCE\",\"PROPERTY-CASUALTY INSURERS\",\"LOEWS CORPORATION\"],[\"FINANCE\",\"INVESTMENT MANAGERS\",\"LEGG MASON, INC.\"],[\"FINANCE\",\"LIFE INSURANCE\",\"LINCOLN NATIONAL CORPORATION\"],[\"FINANCE\",\"PROPERTY-CASUALTY INSURERS\",\"MBIA, INC.\"],[\"FINANCE\",\"PROPERTY-CASUALTY INSURERS\",\"MERCURY GENERAL CORPORATION\"],[\"FINANCE\",\"PROPERTY-CASUALTY INSURERS\",\"MARKEL CORPORATION\"],[\"FINANCE\",\"SPECIALTY INSURERS\",\"MARSH & MCLENNAN COMPANIES, INC.\"],[\"FINANCE\",\"MAJOR BANKS\",\"M&T BANK CORPORATION\"],[\"FINANCE\",\"MAJOR BANKS\",\"NORTHERN TRUST CORPORATION\"],[\"FINANCE\",\"MAJOR BANKS\",\"OFG BANCORP\"],[\"FINANCE\",\"MAJOR BANKS\",\"OLD NATIONAL BANCORP\"],[\"FINANCE\",\"PROPERTY-CASUALTY INSURERS\",\"OLD REPUBLIC INTERNATIONAL CORPORATION\"],[\"FINANCE\",\"SAVINGS INSTITUTIONS\",\"PEOPLE&#39;S UNITED FINANCIAL, INC.\"],[\"FINANCE\",\"PROPERTY-CASUALTY INSURERS\",\"PROGRESSIVE CORPORATION (THE)\"],[\"FINANCE\",\"MAJOR BANKS\",\"PNC FINANCIAL SERVICES GROUP, INC. (THE)\"],[\"FINANCE\",\"MAJOR BANKS\",\"REGIONS FINANCIAL CORPORATION\"],[\"FINANCE\",\"INVESTMENT BANKERS/BROKERS/SERVICE\",\"RAYMOND JAMES FINANCIAL, INC.\"],[\"FINANCE\",\"PROPERTY-CASUALTY INSURERS\",\"RLI CORP.\"],[\"FINANCE\",\"DIVERSIFIED COMMERCIAL SERVICES\",\"ROLLINS, INC.\"],[\"FINANCE\",\"INVESTMENT BANKERS/BROKERS/SERVICE\",\"THE CHARLES SCHWAB CORPORATION\"],[\"FINANCE\",\"INVESTMENT BANKERS/BROKERS/SERVICE\",\"SEI INVESTMENTS COMPANY\"],[\"FINANCE\",\"FINANCE/INVESTORS SERVICES\",\"SAFEGUARD SCIENTIFICS, INC.\"],[\"FINANCE\",\"PROPERTY-CASUALTY INSURERS\",\"SELECTIVE INSURANCE GROUP, INC.\"],[\"FINANCE\",\"MAJOR BANKS\",\"SVB FINANCIAL GROUP\"],[\"FINANCE\",\"FINANCE: CONSUMER SERVICES\",\"SLM CORPORATION\"],[\"FINANCE\",\"MAJOR BANKS\",\"SYNOVUS FINANCIAL CORP.\"],[\"FINANCE\",\"FINANCE: CONSUMER SERVICES\",\"S&P GLOBAL INC.\"],[\"FINANCE\",\"MAJOR BANKS\",\"1ST SOURCE CORPORATION\"],[\"FINANCE\",\"MAJOR BANKS\",\"SUNTRUST BANKS, INC.\"],[\"FINANCE\",\"MAJOR BANKS\",\"STATE STREET CORPORATION\"],[\"FINANCE\",\"MAJOR BANKS\",\"TCF FINANCIAL CORPORATION\"],[\"FINANCE\",\"LIFE INSURANCE\",\"TORCHMARK CORPORATION\"],[\"FINANCE\",\"MAJOR BANKS\",\"TRUSTMARK CORPORATION\"],[\"FINANCE\",\"INVESTMENT BANKERS/BROKERS/SERVICE\",\"T. ROWE PRICE GROUP, INC.\"],[\"FINANCE\",\"MAJOR BANKS\",\"TRUSTCO BANK CORP NY\"],[\"FINANCE\",\"PROPERTY-CASUALTY INSURERS\",\"THE TRAVELERS COMPANIES, INC.\"],[\"FINANCE\",\"MAJOR BANKS\",\"UNITED BANKSHARES, INC.\"],[\"FINANCE\",\"MAJOR BANKS\",\"UMB FINANCIAL CORPORATION\"],[\"FINANCE\",\"ACCIDENT &HEALTH INSURANCE\",\"UNUM GROUP\"],[\"FINANCE\",\"MAJOR BANKS\",\"U.S. BANCORP\"],[\"FINANCE\",\"MAJOR BANKS\",\"VALLEY NATIONAL BANCORP\"],[\"FINANCE\",\"MAJOR BANKS\",\"WESTAMERICA BANCORPORATION\"],[\"FINANCE\",\"MAJOR BANKS\",\"WASHINGTON FEDERAL, INC.\"],[\"FINANCE\",\"MAJOR BANKS\",\"WEBSTER FINANCIAL CORPORATION\"],[\"FINANCE\",\"MAJOR BANKS\",\"WELLS FARGO & COMPANY\"],[\"FINANCE\",\"PROPERTY-CASUALTY INSURERS\",\"W.R. BERKLEY CORPORATION\"],[\"FINANCE\",\"MAJOR BANKS\",\"WESBANCO, INC.\"],[\"FINANCE\",\"MAJOR BANKS\",\"WSFS FINANCIAL CORPORATION\"],[\"FINANCE\",\"MAJOR BANKS\",\"ZIONS BANCORPORATION\"]],\"hovertemplate\":\"<b>%{hovertext}</b><br><br>sector=%{customdata[0]}<br>latent1=%{x}<br>latent2=%{y}<br>latent3=%{z}<br>size=%{marker.size}<br>industry=%{customdata[1]}<br>name=%{customdata[2]}<extra></extra>\",\"hovertext\":[\"AB\",\"ABM\",\"AEG\",\"AFG\",\"AFL\",\"AIG\",\"AJG\",\"AON\",\"ASB\",\"AXP\",\"BAC\",\"BBT\",\"BBVA\",\"BCS\",\"BEN\",\"BK\",\"BOH\",\"BPOP\",\"BRO\",\"BXS\",\"C\",\"CB\",\"CBSH\",\"CFR\",\"CIA\",\"CINF\",\"CMA\",\"CNA\",\"CVBF\",\"DNB\",\"EFX\",\"EV\",\"FBP\",\"FFBC\",\"FHN\",\"FITB\",\"FMBI\",\"FNB\",\"FULT\",\"HBAN\",\"INDB\",\"JPM\",\"KEY\",\"KMPR\",\"L\",\"LM\",\"LNC\",\"MBI\",\"MCY\",\"MKL\",\"MMC\",\"MTB\",\"NTRS\",\"OFG\",\"ONB\",\"ORI\",\"PBCT\",\"PGR\",\"PNC\",\"RF\",\"RJF\",\"RLI\",\"ROL\",\"SCHW\",\"SEIC\",\"SFE\",\"SIGI\",\"SIVB\",\"SLM\",\"SNV\",\"SPGI\",\"SRCE\",\"STI\",\"STT\",\"TCF\",\"TMK\",\"TRMK\",\"TROW\",\"TRST\",\"TRV\",\"UBSI\",\"UMBF\",\"UNM\",\"USB\",\"VLY\",\"WABC\",\"WAFD\",\"WBS\",\"WFC\",\"WRB\",\"WSBC\",\"WSFS\",\"ZION\"],\"legendgroup\":\"FINANCE\",\"marker\":{\"color\":\"#00FE35\",\"opacity\":0.7,\"size\":[0.5,0.5,0.5,0.5,0.5,0.5,0.5,0.5,0.5,0.5,0.5,0.5,0.5,0.5,0.5,0.5,0.5,0.5,0.5,0.5,0.5,0.5,0.5,0.5,0.5,0.5,0.5,0.5,0.5,0.5,0.5,0.5,0.5,0.5,0.5,0.5,0.5,0.5,0.5,0.5,0.5,0.5,0.5,0.5,0.5,0.5,0.5,0.5,0.5,0.5,0.5,0.5,0.5,0.5,0.5,0.5,0.5,0.5,0.5,0.5,0.5,0.5,0.5,0.5,0.5,0.5,0.5,0.5,0.5,0.5,0.5,0.5,0.5,0.5,0.5,0.5,0.5,0.5,0.5,0.5,0.5,0.5,0.5,0.5,0.5,0.5,0.5,0.5,0.5,0.5,0.5,0.5,0.5],\"sizemode\":\"area\",\"sizeref\":0.00125,\"symbol\":\"circle\"},\"mode\":\"markers\",\"name\":\"FINANCE\",\"scene\":\"scene\",\"showlegend\":true,\"type\":\"scatter3d\",\"x\":[0.05252649262547493,-0.15385790169239044,0.466116338968277,-0.607030987739563,-0.4211709499359131,0.17316702008247375,-0.7763773202896118,-0.575049877166748,-0.4171973466873169,-0.23493683338165283,-0.06857062131166458,-0.5908246040344238,0.1813160926103592,0.5009205341339111,-0.21576088666915894,-0.2875782251358032,-0.654985785484314,0.1983654499053955,-0.520418643951416,-0.2663772702217102,0.11645703762769699,-0.477003276348114,-0.8647019863128662,-0.8043113350868225,0.7792040109634399,-0.8890843391418457,-0.2619810700416565,-0.35256409645080566,0.13796678185462952,-0.6744645833969116,-0.6299352645874023,-0.0935460776090622,0.7574409246444702,0.10953471809625626,-0.07212669402360916,-0.052988335490226746,-0.04022444784641266,-0.10366643220186234,-0.39598435163497925,-0.04239221662282944,0.14492882788181305,-0.08329609036445618,-0.19422800838947296,-0.35963279008865356,-0.7674934267997742,0.22494912147521973,0.17357882857322693,0.5521035194396973,-0.756665825843811,-0.6496092081069946,-0.6341323852539062,-0.6064289808273315,-0.4197738766670227,0.3151724338531494,-0.18545220792293549,-0.4289134740829468,-0.6230657696723938,-0.5652375817298889,-0.449271023273468,0.019831571727991104,0.06966729462146759,-0.6680045127868652,-0.1684758961200714,0.4580284357070923,-0.06160577014088631,1.2268786430358887,-0.21423374116420746,0.13822944462299347,0.0239318385720253,0.20897217094898224,-0.3753027021884918,0.4048312306404114,-0.14964339137077332,-0.11406548321247101,-0.22454483807086945,-0.8538250923156738,-0.3247999846935272,-0.02799205668270588,-0.14386092126369476,-0.6504380702972412,-0.2802198529243469,-0.5310730934143066,-0.1789638251066208,-0.48955968022346497,-0.7384993433952332,-0.6133236885070801,-0.6082732677459717,-0.23357154428958893,-0.48772069811820984,-0.6342062950134277,0.10257040709257126,0.09724082797765732,-0.08295214176177979],\"y\":[0.49008655548095703,0.22052061557769775,0.3007781207561493,0.1984880566596985,0.5040405988693237,0.7546517252922058,-0.058336127549409866,-0.03424827381968498,1.0786583423614502,0.5780460238456726,1.263931155204773,1.0228787660598755,0.3016752302646637,0.5832782983779907,0.5672653913497925,0.6654218435287476,0.607749342918396,0.8353232741355896,-0.0016617060173302889,0.7329928278923035,1.0206245183944702,-0.10753199458122253,0.6505163311958313,0.435445100069046,-0.07245843857526779,0.30486100912094116,1.1883544921875,0.3219814896583557,0.7563557624816895,-0.1151222288608551,0.019303644075989723,0.4557613134384155,0.6969605088233948,0.6868072152137756,0.9665759801864624,1.0534369945526123,1.1690115928649902,0.8748852610588074,1.0945667028427124,1.3923380374908447,0.18413995206356049,0.8587570786476135,1.2469130754470825,0.5300899147987366,0.11027831584215164,0.6104228496551514,0.8477329611778259,0.961254358291626,0.0703086256980896,0.022591497749090195,0.05292891710996628,0.8463672399520874,0.5130488276481628,0.5131887793540955,0.881405770778656,0.5704772472381592,0.340293824672699,0.1461576670408249,0.9318865537643433,1.3587807416915894,0.610145628452301,-0.03755722939968109,-0.05150226131081581,-0.019924866035580635,0.1849285513162613,-0.2952789068222046,0.20463427901268005,0.36132508516311646,0.6151201725006104,1.1670395135879517,0.32592806220054626,0.36857423186302185,1.3264800310134888,0.6632224321365356,1.0672121047973633,0.5125181078910828,0.8062662482261658,0.5240424871444702,0.5367130041122437,0.17852860689163208,0.8681795597076416,0.45707717537879944,0.4645752012729645,0.9465799927711487,0.7621960043907166,0.7282848954200745,0.7751104831695557,1.1260731220245361,0.9506908655166626,-0.009319229051470757,0.47953927516937256,0.5214402675628662,1.259843111038208],\"z\":[0.16633136570453644,-0.16528932750225067,0.04126501828432083,-0.19643963873386383,0.10602518916130066,0.11643527448177338,-0.05386362224817276,-0.23728737235069275,0.19755436480045319,-0.09054598957300186,0.21089008450508118,0.07558004558086395,-0.004153733141720295,0.16868557035923004,-0.11497671902179718,-0.12482145428657532,0.004699320998042822,0.37422868609428406,-0.24386397004127502,0.06748418509960175,0.18655461072921753,-0.1999673843383789,-0.0008746040984988213,0.10045474767684937,-0.03827422857284546,-0.06666242331266403,0.13187339901924133,0.03137463703751564,-0.009804479777812958,-0.061084166169166565,-0.26645976305007935,-0.03725427761673927,0.1615489423274994,-0.09367313235998154,0.28656983375549316,0.06496912986040115,0.09472513198852539,0.12380874156951904,0.09657719731330872,0.3484136760234833,-0.0719328448176384,-0.12186207622289658,0.2599017024040222,0.059571992605924606,0.10637528449296951,0.04848026484251022,0.10735795646905899,0.26126518845558167,-0.23835724592208862,-0.06478793919086456,-0.26282912492752075,-0.0048424238339066505,-0.17738130688667297,0.12103753536939621,0.01006193645298481,-0.17668560147285461,0.007710793986916542,-0.06611735373735428,0.06726230680942535,0.4960731267929077,-0.08143167197704315,-0.1770203858613968,-0.14621350169181824,-0.4604702293872833,-0.2634543180465698,-0.4067428410053253,-0.190156489610672,-0.25907811522483826,0.16318951547145844,0.2972511649131775,0.00694184610620141,-0.1136079803109169,0.30406710505485535,0.020275525748729706,0.16551752388477325,-0.07266242057085037,-0.0029032500460743904,-0.2702614367008209,-0.27449509501457214,-0.08133718371391296,-0.03318089246749878,-0.1756029725074768,-0.12363721430301666,0.054680235683918,0.14044243097305298,-0.06560550630092621,-0.04812656715512276,0.2690637409687042,0.3221951723098755,-0.14299698173999786,-0.011014332994818687,0.20661628246307373,0.288919061422348]},{\"customdata\":[[\"PUBLIC UTILITIES\",\"ELECTRIC UTILITIES: CENTRAL\",\"AMERICAN ELECTRIC POWER COMPANY, INC.\"],[\"PUBLIC UTILITIES\",\"POWER GENERATION\",\"ALLETE, INC.\"],[\"PUBLIC UTILITIES\",\"OIL/GAS TRANSMISSION\",\"ATMOS ENERGY CORPORATION\"],[\"PUBLIC UTILITIES\",\"POWER GENERATION\",\"AVISTA CORPORATION\"],[\"PUBLIC UTILITIES\",\"WATER SUPPLY\",\"AMERICAN STATES WATER COMPANY\"],[\"PUBLIC UTILITIES\",\"TELECOMMUNICATIONS EQUIPMENT\",\"BCE, INC.\"],[\"PUBLIC UTILITIES\",\"ELECTRIC UTILITIES: CENTRAL\",\"BLACK HILLS CORPORATION\"],[\"PUBLIC UTILITIES\",\"TELECOMMUNICATIONS EQUIPMENT\",\"BT GROUP PLC\"],[\"PUBLIC UTILITIES\",\"TELECOMMUNICATIONS EQUIPMENT\",\"CINCINNATI BELL INC\"],[\"PUBLIC UTILITIES\",\"POWER GENERATION\",\"CMS ENERGY CORPORATION\"],[\"PUBLIC UTILITIES\",\"ELECTRIC UTILITIES: CENTRAL\",\"CENTERPOINT ENERGY, INC.\"],[\"PUBLIC UTILITIES\",\"TELECOMMUNICATIONS EQUIPMENT\",\"CENTURYLINK, INC.\"],[\"PUBLIC UTILITIES\",\"WATER SUPPLY\",\"CALIFORNIA WATER  SERVICE GROUP HOLDING\"],[\"PUBLIC UTILITIES\",\"ELECTRIC UTILITIES: CENTRAL\",\"DOMINION ENERGY, INC.\"],[\"PUBLIC UTILITIES\",\"ELECTRIC UTILITIES: CENTRAL\",\"DTE ENERGY COMPANY\"],[\"PUBLIC UTILITIES\",\"POWER GENERATION\",\"DUKE ENERGY CORPORATION\"],[\"PUBLIC UTILITIES\",\"POWER GENERATION\",\"CONSOLIDATED EDISON INC\"],[\"PUBLIC UTILITIES\",\"ELECTRIC UTILITIES: CENTRAL\",\"EDISON INTERNATIONAL\"],[\"PUBLIC UTILITIES\",\"ELECTRIC UTILITIES: CENTRAL\",\"EVERSOURCE ENERGY\"],[\"PUBLIC UTILITIES\",\"ELECTRIC UTILITIES: CENTRAL\",\"ENTERGY CORPORATION\"],[\"PUBLIC UTILITIES\",\"POWER GENERATION\",\"EXELON CORPORATION\"],[\"PUBLIC UTILITIES\",\"TELECOMMUNICATIONS EQUIPMENT\",\"FRONTIER COMMUNICATIONS CORPORATION\"],[\"PUBLIC UTILITIES\",\"ELECTRIC UTILITIES: CENTRAL\",\"HAWAIIAN ELECTRIC INDUSTRIES, INC.\"],[\"PUBLIC UTILITIES\",\"ELECTRIC UTILITIES: CENTRAL\",\"IDACORP, INC.\"],[\"PUBLIC UTILITIES\",\"POWER GENERATION\",\"ALLIANT ENERGY CORPORATION\"],[\"PUBLIC UTILITIES\",\"ELECTRIC UTILITIES: CENTRAL\",\"NEXTERA ENERGY, INC.\"],[\"PUBLIC UTILITIES\",\"OIL/GAS TRANSMISSION\",\"NATIONAL FUEL GAS COMPANY\"],[\"PUBLIC UTILITIES\",\"POWER GENERATION\",\"NISOURCE, INC\"],[\"PUBLIC UTILITIES\",\"OIL/GAS TRANSMISSION\",\"NEWJERSEY RESOURCES CORPORATION\"],[\"PUBLIC UTILITIES\",\"OIL/GAS TRANSMISSION\",\"NORTHWEST NATURAL GAS COMPANY\"],[\"PUBLIC UTILITIES\",\"ELECTRIC UTILITIES: CENTRAL\",\"OGE ENERGY CORPORATION\"],[\"PUBLIC UTILITIES\",\"OIL & GAS PRODUCTION\",\"ONEOK, INC.\"],[\"PUBLIC UTILITIES\",\"ELECTRIC UTILITIES: CENTRAL\",\"OTTER TAIL CORPORATION\"],[\"PUBLIC UTILITIES\",\"POWER GENERATION\",\"PACIFIC GAS & ELECTRIC CO.\"],[\"PUBLIC UTILITIES\",\"POWER GENERATION\",\"PUBLIC SERVICE ENTERPRISE GROUP INCORPORATED\"],[\"PUBLIC UTILITIES\",\"TELECOMMUNICATIONS EQUIPMENT\",\"PLDT INC.\"],[\"PUBLIC UTILITIES\",\"ELECTRIC UTILITIES: CENTRAL\",\"PNM RESOURCES, INC. (HOLDING CO.)\"],[\"PUBLIC UTILITIES\",\"ELECTRIC UTILITIES: CENTRAL\",\"PINNACLE WEST CAPITAL CORPORATION\"],[\"PUBLIC UTILITIES\",\"ELECTRIC UTILITIES: CENTRAL\",\"PPL CORPORATION\"],[\"PUBLIC UTILITIES\",\"TELECOMMUNICATIONS EQUIPMENT\",\"SPRINT CORPORATION\"],[\"PUBLIC UTILITIES\",\"POWER GENERATION\",\"SCANA CORPORATION\"],[\"PUBLIC UTILITIES\",\"OIL/GAS TRANSMISSION\",\"SOUTH JERSEY INDUSTRIES, INC.\"],[\"PUBLIC UTILITIES\",\"ELECTRIC UTILITIES: CENTRAL\",\"SOUTHERN COMPANY (THE)\"],[\"PUBLIC UTILITIES\",\"OIL/GAS TRANSMISSION\",\"SPIRE INC.\"],[\"PUBLIC UTILITIES\",\"OIL & GAS PRODUCTION\",\"SOUTHWEST GAS HOLDINGS, INC.\"],[\"PUBLIC UTILITIES\",\"TELECOMMUNICATIONS EQUIPMENT\",\"AT&T INC.\"],[\"PUBLIC UTILITIES\",\"TELECOMMUNICATIONS EQUIPMENT\",\"TELEFONICA SA\"],[\"PUBLIC UTILITIES\",\"NATURAL GAS DISTRIBUTION\",\"TRANSCANADA CORPORATION\"],[\"PUBLIC UTILITIES\",\"NATURAL GAS DISTRIBUTION\",\"UGI CORPORATION\"],[\"PUBLIC UTILITIES\",\"TELECOMMUNICATIONS EQUIPMENT\",\"UNITED STATES CELLULAR CORPORATION\"],[\"PUBLIC UTILITIES\",\"TELECOMMUNICATIONS EQUIPMENT\",\"VODAFONE GROUP PLC\"],[\"PUBLIC UTILITIES\",\"NATURAL GAS DISTRIBUTION\",\"VECTREN CORPORATION\"],[\"PUBLIC UTILITIES\",\"TELECOMMUNICATIONS EQUIPMENT\",\"VERIZON COMMUNICATIONS INC.\"],[\"PUBLIC UTILITIES\",\"POWER GENERATION\",\"WEC ENERGY GROUP, INC.\"],[\"PUBLIC UTILITIES\",\"ENVIRONMENTAL SERVICES\",\"WASTE MANAGEMENT, INC.\"],[\"PUBLIC UTILITIES\",\"NATURAL GAS DISTRIBUTION\",\"WILLIAMS COMPANIES, INC. (THE)\"],[\"PUBLIC UTILITIES\",\"WATER SUPPLY\",\"AQUA AMERICA, INC.\"]],\"hovertemplate\":\"<b>%{hovertext}</b><br><br>sector=%{customdata[0]}<br>latent1=%{x}<br>latent2=%{y}<br>latent3=%{z}<br>size=%{marker.size}<br>industry=%{customdata[1]}<br>name=%{customdata[2]}<extra></extra>\",\"hovertext\":[\"AEP\",\"ALE\",\"ATO\",\"AVA\",\"AWR\",\"BCE\",\"BKH\",\"BT\",\"CBB\",\"CMS\",\"CNP\",\"CTL\",\"CWT\",\"D\",\"DTE\",\"DUK\",\"ED\",\"EIX\",\"ES\",\"ETR\",\"EXC\",\"FTR\",\"HE\",\"IDA\",\"LNT\",\"NEE\",\"NFG\",\"NI\",\"NJR\",\"NWN\",\"OGE\",\"OKE\",\"OTTR\",\"PCG\",\"PEG\",\"PHI\",\"PNM\",\"PNW\",\"PPL\",\"S\",\"SCG\",\"SJI\",\"SO\",\"SR\",\"SWX\",\"T\",\"TEF\",\"TRP\",\"UGI\",\"USM\",\"VOD\",\"VVC\",\"VZ\",\"WEC\",\"WM\",\"WMB\",\"WTR\"],\"legendgroup\":\"PUBLIC UTILITIES\",\"marker\":{\"color\":\"#6A76FC\",\"opacity\":0.7,\"size\":[0.5,0.5,0.5,0.5,0.5,0.5,0.5,0.5,0.5,0.5,0.5,0.5,0.5,0.5,0.5,0.5,0.5,0.5,0.5,0.5,0.5,0.5,0.5,0.5,0.5,0.5,0.5,0.5,0.5,0.5,0.5,0.5,0.5,0.5,0.5,0.5,0.5,0.5,0.5,0.5,0.5,0.5,0.5,0.5,0.5,0.5,0.5,0.5,0.5,0.5,0.5,0.5,0.5,0.5,0.5,0.5,0.5],\"sizemode\":\"area\",\"sizeref\":0.00125,\"symbol\":\"circle\"},\"mode\":\"markers\",\"name\":\"PUBLIC UTILITIES\",\"scene\":\"scene\",\"showlegend\":true,\"type\":\"scatter3d\",\"x\":[-1.0448416471481323,-0.8701348304748535,-1.0140457153320312,-0.6074531078338623,-0.14901860058307648,-0.5619235634803772,-0.6749611496925354,0.04214721918106079,0.807586669921875,-0.5472570657730103,-0.5398516058921814,-0.5356032252311707,-0.42912155389785767,-1.2333811521530151,-1.1504586935043335,-0.9101788997650146,-1.3295798301696777,-0.5401345491409302,-1.107669711112976,-1.0069369077682495,-0.8440300226211548,-0.11531630158424377,-1.0996143817901611,-0.9453845620155334,-1.0859949588775635,-1.0109087228775024,-0.642029345035553,-0.9575833678245544,-1.0339670181274414,-0.9925617575645447,-1.0407530069351196,-0.7107703685760498,-0.39382731914520264,-0.7173767685890198,-0.8348071575164795,0.031099794432520866,-0.5109179019927979,-1.1411386728286743,-0.8550676703453064,0.5909518599510193,-1.3047572374343872,-1.0264198780059814,-1.2000657320022583,-0.7418161034584045,-0.7778725028038025,-0.5208529829978943,-0.14517033100128174,-0.7302415370941162,-0.9091911911964417,-0.04157251492142677,-0.0528084859251976,-1.0598053932189941,-0.6495630145072937,-1.2501626014709473,-0.6033230423927307,0.3673272132873535,-0.5463467836380005],\"y\":[-0.6647169589996338,-0.30334725975990295,-0.26463550329208374,-0.5811342000961304,-0.19542744755744934,-0.38024473190307617,-0.19792130589485168,-0.30237066745758057,-0.3778837323188782,-0.7553786635398865,-0.7548176646232605,-0.2672971487045288,-0.22066009044647217,-0.6860412359237671,-0.4945859909057617,-0.8161857724189758,-0.49790436029434204,-0.7003360390663147,-0.5030639171600342,-0.6086158752441406,-0.5521063804626465,-0.23310476541519165,-0.22427281737327576,-0.44271621108055115,-0.3063995838165283,-0.4610607922077179,-0.2675677537918091,-0.3766063153743744,-0.07897975295782089,-0.20744110643863678,-0.401366651058197,-0.3819604814052582,-0.13605597615242004,-0.866007387638092,-0.5655712485313416,-0.6795701384544373,-0.23659615218639374,-0.45554396510124207,-0.5800322890281677,0.06375225633382797,-0.34553050994873047,-0.23870010673999786,-0.5684186220169067,-0.14037421345710754,-0.14751286804676056,-0.3279692828655243,-0.06102767959237099,-0.4715748429298401,-0.33894744515419006,-0.05464278906583786,-0.4792554974555969,-0.32373419404029846,-0.21821296215057373,-0.4312887191772461,-0.15965861082077026,-0.7362540364265442,-0.412467360496521],\"z\":[0.1729794144630432,0.08154654502868652,0.07260729372501373,-0.24167606234550476,-0.06105562672019005,-0.0020856624469161034,0.1067407876253128,-0.07836996763944626,-0.29518890380859375,0.0855594277381897,0.21471944451332092,-0.23517875373363495,-0.06801169365644455,0.3544863164424896,0.26994532346725464,0.20394183695316315,0.01320700068026781,0.1254064440727234,0.12800100445747375,0.31256231665611267,0.43144723773002625,-0.09146517515182495,0.018690215423703194,0.037347644567489624,-0.07778003811836243,0.2684374153614044,0.6384242177009583,0.1083754450082779,0.003808744717389345,-0.023646356537938118,0.2568473517894745,0.3587566912174225,-0.14918310940265656,-0.11026133596897125,0.4075034558773041,0.056559931486845016,0.1589132845401764,0.11936549097299576,0.31014183163642883,-0.03884866088628769,0.1907830387353897,0.19088797271251678,0.23569729924201965,0.17957866191864014,-0.0006728612934239209,-0.32917454838752747,-0.08982265740633011,0.30569902062416077,0.27053865790367126,-0.24505119025707245,-0.25864124298095703,0.05023135244846344,-0.23422402143478394,0.1685410737991333,-0.3160853087902069,0.5454096794128418,0.10772252827882767]},{\"customdata\":[[\"ENERGY\",\"INTEGRATED OIL COMPANIES\",\"ANDEAVOR\"],[\"ENERGY\",\"OIL & GAS PRODUCTION\",\"APACHE CORPORATION\"],[\"ENERGY\",\"OIL & GAS PRODUCTION\",\"ANADARKO PETROLEUM CORPORATION\"],[\"ENERGY\",\"INDUSTRIAL MACHINERY/COMPONENTS\",\"BRUNSWICK CORPORATION\"],[\"ENERGY\",\"INDUSTRIAL MACHINERY/COMPONENTS\",\"BRIGGS & STRATTON CORPORATION\"],[\"ENERGY\",\"METAL FABRICATIONS\",\"BAKER HUGHES, A GE COMPANY\"],[\"ENERGY\",\"INTEGRATED OIL COMPANIES\",\"BP P.L.C.\"],[\"ENERGY\",\"NATURAL GAS DISTRIBUTION\",\"BUCKEYE PARTNERS L.P.\"],[\"ENERGY\",\"INTEGRATED OIL COMPANIES\",\"BP PRUDHOE BAY ROYALTY TRUST\"],[\"ENERGY\",\"INDUSTRIAL MACHINERY/COMPONENTS\",\"CUMMINS INC.\"],[\"ENERGY\",\"OIL & GAS PRODUCTION\",\"CABOT OIL & GAS CORPORATION\"],[\"ENERGY\",\"INTEGRATED OIL COMPANIES\",\"CONOCOPHILLIPS\"],[\"ENERGY\",\"OIL & GAS PRODUCTION\",\"COMSTOCK RESOURCES, INC.\"],[\"ENERGY\",\"INTEGRATED OIL COMPANIES\",\"CHEVRON CORPORATION\"],[\"ENERGY\",\"OIL & GAS PRODUCTION\",\"DEVON ENERGY CORPORATION\"],[\"ENERGY\",\"OIL & GAS PRODUCTION\",\"ENERGEN CORPORATION\"],[\"ENERGY\",\"CONSUMER ELECTRONICS/APPLIANCES\",\"EMERSON ELECTRIC COMPANY\"],[\"ENERGY\",\"OIL & GAS PRODUCTION\",\"EOG RESOURCES, INC.\"],[\"ENERGY\",\"OIL & GAS PRODUCTION\",\"EQT CORPORATION\"],[\"ENERGY\",\"OIL & GAS PRODUCTION\",\"ENSCO PLC\"],[\"ENERGY\",\"CONSUMER ELECTRONICS/APPLIANCES\",\"GENERAL ELECTRIC COMPANY\"],[\"ENERGY\",\"OILFIELD SERVICES/EQUIPMENT\",\"HALLIBURTON COMPANY\"],[\"ENERGY\",\"INTEGRATED OIL COMPANIES\",\"HESS CORPORATION\"],[\"ENERGY\",\"OIL & GAS PRODUCTION\",\"HELMERICH & PAYNE, INC.\"],[\"ENERGY\",\"OIL REFINING/MARKETING\",\"WORLD FUEL SERVICES CORPORATION\"],[\"ENERGY\",\"ELECTRIC UTILITIES: CENTRAL\",\"MGE ENERGY INC.\"],[\"ENERGY\",\"OIL & GAS PRODUCTION\",\"MARATHON OIL CORPORATION\"],[\"ENERGY\",\"OIL & GAS PRODUCTION\",\"MURPHY OIL CORPORATION\"],[\"ENERGY\",\"OIL & GAS PRODUCTION\",\"NOBLE ENERGY INC.\"],[\"ENERGY\",\"OIL & GAS PRODUCTION\",\"NABORS INDUSTRIES LTD.\"],[\"ENERGY\",\"OIL & GAS PRODUCTION\",\"NOBLE CORPORATION\"],[\"ENERGY\",\"OILFIELD SERVICES/EQUIPMENT\",\"OCEANEERING INTERNATIONAL, INC.\"],[\"ENERGY\",\"OIL & GAS PRODUCTION\",\"OCCIDENTAL PETROLEUM CORPORATION\"],[\"ENERGY\",\"CONSUMER ELECTRONICS/APPLIANCES\",\"KONINKLIJKE PHILIPS N.V.\"],[\"ENERGY\",\"OIL & GAS PRODUCTION\",\"PARKER DRILLING COMPANY\"],[\"ENERGY\",\"OIL & GAS PRODUCTION\",\"ROWAN COMPANIES PLC\"],[\"ENERGY\",\"OIL & GAS PRODUCTION\",\"SABINE ROYALTY TRUST\"],[\"ENERGY\",\"OIL & GAS PRODUCTION\",\"SAN JUAN BASIN ROYALTY TRUST\"],[\"ENERGY\",\"OILFIELD SERVICES/EQUIPMENT\",\"SCHLUMBERGER N.V.\"],[\"ENERGY\",\"OIL & GAS PRODUCTION\",\"SASOL LTD.\"],[\"ENERGY\",\"OIL & GAS PRODUCTION\",\"SOUTHWESTERN ENERGY COMPANY\"],[\"ENERGY\",\"OIL & GAS PRODUCTION\",\"TETRA TECHNOLOGIES, INC.\"],[\"ENERGY\",\"OIL & GAS PRODUCTION\",\"UNIT CORPORATION\"],[\"ENERGY\",\"INTEGRATED OIL COMPANIES\",\"VALERO ENERGY CORPORATION\"],[\"ENERGY\",\"METAL FABRICATIONS\",\"WEATHERFORD INTERNATIONAL PLC\"],[\"ENERGY\",\"INTEGRATED OIL COMPANIES\",\"EXXON MOBIL CORPORATION\"]],\"hovertemplate\":\"<b>%{hovertext}</b><br><br>sector=%{customdata[0]}<br>latent1=%{x}<br>latent2=%{y}<br>latent3=%{z}<br>size=%{marker.size}<br>industry=%{customdata[1]}<br>name=%{customdata[2]}<extra></extra>\",\"hovertext\":[\"ANDV\",\"APA\",\"APC\",\"BC\",\"BGG\",\"BHGE\",\"BP\",\"BPL\",\"BPT\",\"CMI\",\"COG\",\"COP\",\"CRK\",\"CVX\",\"DVN\",\"EGN\",\"EMR\",\"EOG\",\"EQT\",\"ESV\",\"GE\",\"HAL\",\"HES\",\"HP\",\"INT\",\"MGEE\",\"MRO\",\"MUR\",\"NBL\",\"NBR\",\"NE\",\"OII\",\"OXY\",\"PHG\",\"PKD\",\"RDC\",\"SBR\",\"SJT\",\"SLB\",\"SSL\",\"SWN\",\"TTI\",\"UNT\",\"VLO\",\"WFT\",\"XOM\"],\"legendgroup\":\"ENERGY\",\"marker\":{\"color\":\"#FED4C4\",\"opacity\":0.7,\"size\":[0.5,0.5,0.5,0.5,0.5,0.5,0.5,0.5,0.5,0.5,0.5,0.5,0.5,0.5,0.5,0.5,0.5,0.5,0.5,0.5,0.5,0.5,0.5,0.5,0.5,0.5,0.5,0.5,0.5,0.5,0.5,0.5,0.5,0.5,0.5,0.5,0.5,0.5,0.5,0.5,0.5,0.5,0.5,0.5,0.5,0.5],\"sizemode\":\"area\",\"sizeref\":0.00125,\"symbol\":\"circle\"},\"mode\":\"markers\",\"name\":\"ENERGY\",\"scene\":\"scene\",\"showlegend\":true,\"type\":\"scatter3d\",\"x\":[0.963950514793396,0.1311779022216797,0.1894499510526657,0.5942028760910034,0.1143806204199791,0.35320666432380676,-0.3800573945045471,-0.5833083391189575,0.0300937220454216,0.41846808791160583,0.4980293810367584,-0.3610706031322479,0.8995417356491089,-0.7472631335258484,0.15312820672988892,-0.17126648128032684,-0.48902732133865356,0.2107018381357193,-0.35041236877441406,0.550352156162262,-0.43207669258117676,0.49204856157302856,0.21606235206127167,0.5305601954460144,0.40911921858787537,-0.5582975149154663,0.039794955402612686,0.08633452653884888,0.12881053984165192,0.6852830052375793,0.46634694933891296,0.539926290512085,-0.12008588016033173,0.2519144117832184,1.1419029235839844,0.5766088366508484,-0.05483324080705643,0.1173878088593483,0.21246734261512756,0.4539765417575836,0.574630856513977,0.9737095236778259,0.4802137613296509,0.5798006057739258,0.6872618198394775,-0.914837658405304],\"y\":[-0.49808749556541443,-0.7055630683898926,-0.5802518725395203,0.841508150100708,0.45192188024520874,-0.5483123660087585,-0.3172999322414398,-0.3954169750213623,-0.9215601682662964,0.20874348282814026,-0.4889354407787323,-0.5584104657173157,-0.4860401749610901,-0.4649956524372101,-0.7210044860839844,-0.5128346085548401,0.02368605136871338,-0.6507208347320557,-0.1643758863210678,-0.7645686864852905,0.2264496237039566,-0.5816277265548706,-0.40940889716148376,-0.4439743161201477,-0.2550791800022125,-0.2499123215675354,-0.461038202047348,-0.5393739938735962,-0.7312558889389038,-0.36905303597450256,-0.7019566297531128,-0.5619238018989563,-0.5377305150032043,-0.1725582629442215,-0.46193352341651917,-0.5698270797729492,-0.6296876072883606,-0.5723713040351868,-0.5028841495513916,-0.2953476905822754,-0.5667892098426819,-0.31907936930656433,-0.7085374593734741,-0.2654806077480316,-0.3499816954135895,-0.5489784479141235],\"z\":[0.6596040725708008,1.2950537204742432,1.1309903860092163,0.12974457442760468,-0.14216448366641998,1.1217420101165771,0.7568036913871765,0.42459985613822937,0.9024762511253357,0.11043453961610794,1.3129351139068604,1.0440127849578857,1.0432361364364624,0.7274231910705566,1.2492331266403198,0.7878870964050293,-0.20138400793075562,1.3151592016220093,1.0270671844482422,1.2232717275619507,-0.10650233179330826,1.077501893043518,1.2682090997695923,1.2569102048873901,0.2617688775062561,-0.3949671685695648,1.2052907943725586,1.1159634590148926,1.1309705972671509,1.2117655277252197,1.166467308998108,1.022976279258728,1.0875240564346313,-0.32562488317489624,0.7182725071907043,1.273746371269226,0.773792564868927,1.0570974349975586,1.248423457145691,0.6072806715965271,0.9599882364273071,0.9414181709289551,1.0420405864715576,0.8962761163711548,1.2771062850952148,0.6659052968025208]}],                        {\"legend\":{\"itemsizing\":\"constant\",\"title\":{\"text\":\"sector\"},\"tracegroupgap\":0},\"margin\":{\"t\":60},\"scene\":{\"domain\":{\"x\":[0.0,1.0],\"y\":[0.0,1.0]},\"xaxis\":{\"title\":{\"text\":\"latent1\"}},\"yaxis\":{\"title\":{\"text\":\"latent2\"}},\"zaxis\":{\"title\":{\"text\":\"latent3\"}}},\"template\":{\"data\":{\"bar\":[{\"error_x\":{\"color\":\"#2a3f5f\"},\"error_y\":{\"color\":\"#2a3f5f\"},\"marker\":{\"line\":{\"color\":\"white\",\"width\":0.5},\"pattern\":{\"fillmode\":\"overlay\",\"size\":10,\"solidity\":0.2}},\"type\":\"bar\"}],\"barpolar\":[{\"marker\":{\"line\":{\"color\":\"white\",\"width\":0.5},\"pattern\":{\"fillmode\":\"overlay\",\"size\":10,\"solidity\":0.2}},\"type\":\"barpolar\"}],\"carpet\":[{\"aaxis\":{\"endlinecolor\":\"#2a3f5f\",\"gridcolor\":\"#C8D4E3\",\"linecolor\":\"#C8D4E3\",\"minorgridcolor\":\"#C8D4E3\",\"startlinecolor\":\"#2a3f5f\"},\"baxis\":{\"endlinecolor\":\"#2a3f5f\",\"gridcolor\":\"#C8D4E3\",\"linecolor\":\"#C8D4E3\",\"minorgridcolor\":\"#C8D4E3\",\"startlinecolor\":\"#2a3f5f\"},\"type\":\"carpet\"}],\"choropleth\":[{\"colorbar\":{\"outlinewidth\":0,\"ticks\":\"\"},\"type\":\"choropleth\"}],\"contour\":[{\"colorbar\":{\"outlinewidth\":0,\"ticks\":\"\"},\"colorscale\":[[0.0,\"#0d0887\"],[0.1111111111111111,\"#46039f\"],[0.2222222222222222,\"#7201a8\"],[0.3333333333333333,\"#9c179e\"],[0.4444444444444444,\"#bd3786\"],[0.5555555555555556,\"#d8576b\"],[0.6666666666666666,\"#ed7953\"],[0.7777777777777778,\"#fb9f3a\"],[0.8888888888888888,\"#fdca26\"],[1.0,\"#f0f921\"]],\"type\":\"contour\"}],\"contourcarpet\":[{\"colorbar\":{\"outlinewidth\":0,\"ticks\":\"\"},\"type\":\"contourcarpet\"}],\"heatmap\":[{\"colorbar\":{\"outlinewidth\":0,\"ticks\":\"\"},\"colorscale\":[[0.0,\"#0d0887\"],[0.1111111111111111,\"#46039f\"],[0.2222222222222222,\"#7201a8\"],[0.3333333333333333,\"#9c179e\"],[0.4444444444444444,\"#bd3786\"],[0.5555555555555556,\"#d8576b\"],[0.6666666666666666,\"#ed7953\"],[0.7777777777777778,\"#fb9f3a\"],[0.8888888888888888,\"#fdca26\"],[1.0,\"#f0f921\"]],\"type\":\"heatmap\"}],\"heatmapgl\":[{\"colorbar\":{\"outlinewidth\":0,\"ticks\":\"\"},\"colorscale\":[[0.0,\"#0d0887\"],[0.1111111111111111,\"#46039f\"],[0.2222222222222222,\"#7201a8\"],[0.3333333333333333,\"#9c179e\"],[0.4444444444444444,\"#bd3786\"],[0.5555555555555556,\"#d8576b\"],[0.6666666666666666,\"#ed7953\"],[0.7777777777777778,\"#fb9f3a\"],[0.8888888888888888,\"#fdca26\"],[1.0,\"#f0f921\"]],\"type\":\"heatmapgl\"}],\"histogram\":[{\"marker\":{\"pattern\":{\"fillmode\":\"overlay\",\"size\":10,\"solidity\":0.2}},\"type\":\"histogram\"}],\"histogram2d\":[{\"colorbar\":{\"outlinewidth\":0,\"ticks\":\"\"},\"colorscale\":[[0.0,\"#0d0887\"],[0.1111111111111111,\"#46039f\"],[0.2222222222222222,\"#7201a8\"],[0.3333333333333333,\"#9c179e\"],[0.4444444444444444,\"#bd3786\"],[0.5555555555555556,\"#d8576b\"],[0.6666666666666666,\"#ed7953\"],[0.7777777777777778,\"#fb9f3a\"],[0.8888888888888888,\"#fdca26\"],[1.0,\"#f0f921\"]],\"type\":\"histogram2d\"}],\"histogram2dcontour\":[{\"colorbar\":{\"outlinewidth\":0,\"ticks\":\"\"},\"colorscale\":[[0.0,\"#0d0887\"],[0.1111111111111111,\"#46039f\"],[0.2222222222222222,\"#7201a8\"],[0.3333333333333333,\"#9c179e\"],[0.4444444444444444,\"#bd3786\"],[0.5555555555555556,\"#d8576b\"],[0.6666666666666666,\"#ed7953\"],[0.7777777777777778,\"#fb9f3a\"],[0.8888888888888888,\"#fdca26\"],[1.0,\"#f0f921\"]],\"type\":\"histogram2dcontour\"}],\"mesh3d\":[{\"colorbar\":{\"outlinewidth\":0,\"ticks\":\"\"},\"type\":\"mesh3d\"}],\"parcoords\":[{\"line\":{\"colorbar\":{\"outlinewidth\":0,\"ticks\":\"\"}},\"type\":\"parcoords\"}],\"pie\":[{\"automargin\":true,\"type\":\"pie\"}],\"scatter\":[{\"marker\":{\"colorbar\":{\"outlinewidth\":0,\"ticks\":\"\"}},\"type\":\"scatter\"}],\"scatter3d\":[{\"line\":{\"colorbar\":{\"outlinewidth\":0,\"ticks\":\"\"}},\"marker\":{\"colorbar\":{\"outlinewidth\":0,\"ticks\":\"\"}},\"type\":\"scatter3d\"}],\"scattercarpet\":[{\"marker\":{\"colorbar\":{\"outlinewidth\":0,\"ticks\":\"\"}},\"type\":\"scattercarpet\"}],\"scattergeo\":[{\"marker\":{\"colorbar\":{\"outlinewidth\":0,\"ticks\":\"\"}},\"type\":\"scattergeo\"}],\"scattergl\":[{\"marker\":{\"colorbar\":{\"outlinewidth\":0,\"ticks\":\"\"}},\"type\":\"scattergl\"}],\"scattermapbox\":[{\"marker\":{\"colorbar\":{\"outlinewidth\":0,\"ticks\":\"\"}},\"type\":\"scattermapbox\"}],\"scatterpolar\":[{\"marker\":{\"colorbar\":{\"outlinewidth\":0,\"ticks\":\"\"}},\"type\":\"scatterpolar\"}],\"scatterpolargl\":[{\"marker\":{\"colorbar\":{\"outlinewidth\":0,\"ticks\":\"\"}},\"type\":\"scatterpolargl\"}],\"scatterternary\":[{\"marker\":{\"colorbar\":{\"outlinewidth\":0,\"ticks\":\"\"}},\"type\":\"scatterternary\"}],\"surface\":[{\"colorbar\":{\"outlinewidth\":0,\"ticks\":\"\"},\"colorscale\":[[0.0,\"#0d0887\"],[0.1111111111111111,\"#46039f\"],[0.2222222222222222,\"#7201a8\"],[0.3333333333333333,\"#9c179e\"],[0.4444444444444444,\"#bd3786\"],[0.5555555555555556,\"#d8576b\"],[0.6666666666666666,\"#ed7953\"],[0.7777777777777778,\"#fb9f3a\"],[0.8888888888888888,\"#fdca26\"],[1.0,\"#f0f921\"]],\"type\":\"surface\"}],\"table\":[{\"cells\":{\"fill\":{\"color\":\"#EBF0F8\"},\"line\":{\"color\":\"white\"}},\"header\":{\"fill\":{\"color\":\"#C8D4E3\"},\"line\":{\"color\":\"white\"}},\"type\":\"table\"}]},\"layout\":{\"annotationdefaults\":{\"arrowcolor\":\"#2a3f5f\",\"arrowhead\":0,\"arrowwidth\":1},\"autotypenumbers\":\"strict\",\"coloraxis\":{\"colorbar\":{\"outlinewidth\":0,\"ticks\":\"\"}},\"colorscale\":{\"diverging\":[[0,\"#8e0152\"],[0.1,\"#c51b7d\"],[0.2,\"#de77ae\"],[0.3,\"#f1b6da\"],[0.4,\"#fde0ef\"],[0.5,\"#f7f7f7\"],[0.6,\"#e6f5d0\"],[0.7,\"#b8e186\"],[0.8,\"#7fbc41\"],[0.9,\"#4d9221\"],[1,\"#276419\"]],\"sequential\":[[0.0,\"#0d0887\"],[0.1111111111111111,\"#46039f\"],[0.2222222222222222,\"#7201a8\"],[0.3333333333333333,\"#9c179e\"],[0.4444444444444444,\"#bd3786\"],[0.5555555555555556,\"#d8576b\"],[0.6666666666666666,\"#ed7953\"],[0.7777777777777778,\"#fb9f3a\"],[0.8888888888888888,\"#fdca26\"],[1.0,\"#f0f921\"]],\"sequentialminus\":[[0.0,\"#0d0887\"],[0.1111111111111111,\"#46039f\"],[0.2222222222222222,\"#7201a8\"],[0.3333333333333333,\"#9c179e\"],[0.4444444444444444,\"#bd3786\"],[0.5555555555555556,\"#d8576b\"],[0.6666666666666666,\"#ed7953\"],[0.7777777777777778,\"#fb9f3a\"],[0.8888888888888888,\"#fdca26\"],[1.0,\"#f0f921\"]]},\"colorway\":[\"#636efa\",\"#EF553B\",\"#00cc96\",\"#ab63fa\",\"#FFA15A\",\"#19d3f3\",\"#FF6692\",\"#B6E880\",\"#FF97FF\",\"#FECB52\"],\"font\":{\"color\":\"#2a3f5f\"},\"geo\":{\"bgcolor\":\"white\",\"lakecolor\":\"white\",\"landcolor\":\"white\",\"showlakes\":true,\"showland\":true,\"subunitcolor\":\"#C8D4E3\"},\"hoverlabel\":{\"align\":\"left\"},\"hovermode\":\"closest\",\"mapbox\":{\"style\":\"light\"},\"paper_bgcolor\":\"white\",\"plot_bgcolor\":\"white\",\"polar\":{\"angularaxis\":{\"gridcolor\":\"#EBF0F8\",\"linecolor\":\"#EBF0F8\",\"ticks\":\"\"},\"bgcolor\":\"white\",\"radialaxis\":{\"gridcolor\":\"#EBF0F8\",\"linecolor\":\"#EBF0F8\",\"ticks\":\"\"}},\"scene\":{\"xaxis\":{\"backgroundcolor\":\"white\",\"gridcolor\":\"#DFE8F3\",\"gridwidth\":2,\"linecolor\":\"#EBF0F8\",\"showbackground\":true,\"ticks\":\"\",\"zerolinecolor\":\"#EBF0F8\"},\"yaxis\":{\"backgroundcolor\":\"white\",\"gridcolor\":\"#DFE8F3\",\"gridwidth\":2,\"linecolor\":\"#EBF0F8\",\"showbackground\":true,\"ticks\":\"\",\"zerolinecolor\":\"#EBF0F8\"},\"zaxis\":{\"backgroundcolor\":\"white\",\"gridcolor\":\"#DFE8F3\",\"gridwidth\":2,\"linecolor\":\"#EBF0F8\",\"showbackground\":true,\"ticks\":\"\",\"zerolinecolor\":\"#EBF0F8\"}},\"shapedefaults\":{\"line\":{\"color\":\"#2a3f5f\"}},\"ternary\":{\"aaxis\":{\"gridcolor\":\"#DFE8F3\",\"linecolor\":\"#A2B1C6\",\"ticks\":\"\"},\"baxis\":{\"gridcolor\":\"#DFE8F3\",\"linecolor\":\"#A2B1C6\",\"ticks\":\"\"},\"bgcolor\":\"white\",\"caxis\":{\"gridcolor\":\"#DFE8F3\",\"linecolor\":\"#A2B1C6\",\"ticks\":\"\"}},\"title\":{\"x\":0.05},\"xaxis\":{\"automargin\":true,\"gridcolor\":\"#EBF0F8\",\"linecolor\":\"#EBF0F8\",\"ticks\":\"\",\"title\":{\"standoff\":15},\"zerolinecolor\":\"#EBF0F8\",\"zerolinewidth\":2},\"yaxis\":{\"automargin\":true,\"gridcolor\":\"#EBF0F8\",\"linecolor\":\"#EBF0F8\",\"ticks\":\"\",\"title\":{\"standoff\":15},\"zerolinecolor\":\"#EBF0F8\",\"zerolinewidth\":2}}},\"title\":{\"text\":\"3d Visualisation of Stock Embeddings Colored By Sector\"}},                        {\"responsive\": true}                    ).then(function(){\n",
       "                            \n",
       "var gd = document.getElementById('710317c3-5d01-4483-b447-1bbbdebfdcbb');\n",
       "var x = new MutationObserver(function (mutations, observer) {{\n",
       "        var display = window.getComputedStyle(gd).display;\n",
       "        if (!display || display === 'none') {{\n",
       "            console.log([gd, 'removed!']);\n",
       "            Plotly.purge(gd);\n",
       "            observer.disconnect();\n",
       "        }}\n",
       "}});\n",
       "\n",
       "// Listen for the removal of the full notebook cells\n",
       "var notebookContainer = gd.closest('#notebook-container');\n",
       "if (notebookContainer) {{\n",
       "    x.observe(notebookContainer, {childList: true});\n",
       "}}\n",
       "\n",
       "// Listen for the clearing of the current output cell\n",
       "var outputEl = gd.closest('.output');\n",
       "if (outputEl) {{\n",
       "    x.observe(outputEl, {childList: true});\n",
       "}}\n",
       "\n",
       "                        })                };                });            </script>        </div>"
      ]
     },
     "metadata": {},
     "output_type": "display_data"
    }
   ],
   "source": [
    "#-- Visualise embeddings in 3D space\n",
    "pca_plot_from_embeddings(model.embeddings.weight.detach().numpy(),\n",
    "                         sectors, tickers, industries, names,  dimensions=3,\n",
    "                         method='PCA')"
   ]
  },
  {
   "cell_type": "markdown",
   "id": "723090aa",
   "metadata": {},
   "source": [
    "### High Similarity Mismatch"
   ]
  },
  {
   "cell_type": "code",
   "execution_count": 41,
   "id": "736094e8",
   "metadata": {},
   "outputs": [
    {
     "name": "stdout",
     "output_type": "stream",
     "text": [
      "Pairs of stocks with over 0.924 similarity are in the same sector 98.0% of the time\n"
     ]
    }
   ],
   "source": [
    "threshold=0.924\n",
    "\n",
    "#-- Get similarity matrix\n",
    "similarity_matrix = cosine_similarity(model.embeddings.weight.detach().numpy())\n",
    "#-- Set diagonal entries to 0 similarity so they dont get an edge\n",
    "np.fill_diagonal(similarity_matrix, 0)\n",
    "#-- Get a list of pairs which have a similarity over the threshold\n",
    "edge_pairs = np.transpose((similarity_matrix>threshold).nonzero())\n",
    "\n",
    "count=0\n",
    "mismatch_list = []\n",
    "for i,j in edge_pairs[:int(len(edge_pairs)/2)]:\n",
    "    if sectors[i]==sectors[j]:\n",
    "        count+=1\n",
    "    else:\n",
    "        mismatch_list.append((i,j))\n",
    "        \n",
    "print(f'Pairs of stocks with over {threshold} similarity are in the same sector {round(count/(len(edge_pairs)/2),2)*100}% of the time')"
   ]
  },
  {
   "cell_type": "code",
   "execution_count": 42,
   "id": "6cca95ce",
   "metadata": {
    "scrolled": true
   },
   "outputs": [
    {
     "name": "stdout",
     "output_type": "stream",
     "text": [
      "- - - - - - - - - - - - - - - - - - - - \n",
      "- - - - - - - - - - - - - - - - - - - - \n",
      "Similarity 0.95\n",
      "KB HOME  --  CAPITAL GOODS  --  HOMEBUILDING\n",
      "LENNAR CORPORATION  --  BASIC INDUSTRIES  --  HOMEBUILDING\n",
      "====================\n"
     ]
    }
   ],
   "source": [
    "#-- Mismatch examples\n",
    "print(\"- \"*20)\n",
    "print(\"- \"*20)\n",
    "for i,j in mismatch_list:\n",
    "    print(f'Similarity {similarity_matrix[i,j]:.2f}')\n",
    "    print(names[i], \" -- \" ,sectors[i], \" -- \",industries[i])\n",
    "    print(names[j], \" -- \" ,sectors[j], \" -- \",industries[j])\n",
    "    print(\"=\"*20)"
   ]
  },
  {
   "cell_type": "markdown",
   "id": "21e16c04",
   "metadata": {},
   "source": [
    "### Sector Classification"
   ]
  },
  {
   "cell_type": "code",
   "execution_count": 69,
   "id": "0771ffc7",
   "metadata": {},
   "outputs": [
    {
     "name": "stdout",
     "output_type": "stream",
     "text": [
      "Loaded : Models/model_CBOW_Single_daily_weekly_monthly_L0_C3_IQRDailyTrue_70.pt\n",
      "Precision Score: 0.6\n",
      "Recall Score: 0.58\n",
      "F1 Score: 0.58\n",
      "Accuracy Score: 0.58\n"
     ]
    }
   ],
   "source": [
    "from imblearn.over_sampling import SMOTE, ADASYN, RandomOverSampler\n",
    "from sklearn.ensemble import RandomForestClassifier\n",
    "\n",
    "from sklearn.model_selection import KFold, StratifiedKFold\n",
    "from imblearn.over_sampling import SMOTE\n",
    "from sklearn.metrics import f1_score, precision_score, recall_score#, top_k_accuracy_score\n",
    "\n",
    "def get_sector_score(model):\n",
    "    embedding_matrix = model.embeddings.weight.detach().numpy()\n",
    "\n",
    "\n",
    "    # X = embedding_matrix\n",
    "    # y = sectors\n",
    "\n",
    "    # X_train, X_test, y_train, y_test = train_test_split(X, y, test_size=0.3, stratify=y)\n",
    "\n",
    "    # sm = SMOTE(random_state=42)\n",
    "    # X_res, y_res = sm.fit_resample(X_train, y_train)\n",
    "\n",
    "    # classifier = SVC(kernel='rbf', probability=True)\n",
    "\n",
    "    # classifier.fit(X_res,y_res)\n",
    "\n",
    "    # print(classification_report(y_test, classifier.predict(X_test)))\n",
    "\n",
    "\n",
    "\n",
    "\n",
    "\n",
    "    #-- Cross validation approach\n",
    "\n",
    "    accuracy_list = []\n",
    "    accuracy_list_top_k = []\n",
    "    k=3\n",
    "    f1_list = []\n",
    "    recall_list = []\n",
    "    precision_list = []\n",
    "\n",
    "    X = embedding_matrix\n",
    "    y = np.expand_dims(np.array(sectors),axis=1)\n",
    "\n",
    "\n",
    "    kf = StratifiedKFold(n_splits=5, shuffle=True)\n",
    "\n",
    "    for fold, (train_index, test_index) in enumerate(kf.split(X, y.flatten())):\n",
    "        X_train = X[train_index]\n",
    "        y_train = y[train_index]  # Based on your code, you might need a ravel call here, but I would look into how you're generating your y\n",
    "        X_test = X[test_index]\n",
    "        y_test = y[test_index]  # See comment on ravel and  y_train\n",
    "        sm = SMOTE()\n",
    "        X_train_oversampled, y_train_oversampled = sm.fit_resample(X_train, y_train)\n",
    "        classifier = SVC(kernel='rbf', probability=True)\n",
    "        classifier.fit(X_train_oversampled, y_train_oversampled )  \n",
    "        y_pred = classifier.predict(X_test)\n",
    "        # print(f'For fold {fold}:')\n",
    "        # print(f'Accuracy: {classifier.score(X_test, y_test)}')\n",
    "        # print(f'f-score: {f1_score(y_test, y_pred, average=\"weighted\")}')\n",
    "\n",
    "        accuracy_list.append(classifier.score(X_test, y_test))\n",
    "        # accuracy_list_top_k.append(top_k_accuracy_score(y_test, classifier.predict_proba(X_test),k=k))\n",
    "        f1_list.append(f1_score(y_test, y_pred, average=\"weighted\"))\n",
    "        recall_list.append(recall_score(y_test, y_pred, average=\"weighted\"))\n",
    "        precision_list.append(precision_score(y_test, y_pred, average=\"weighted\"))\n",
    "\n",
    "\n",
    "\n",
    "\n",
    "    print(f'Precision Score: {np.round(np.mean(precision_list),2)}')\n",
    "    print(f'Recall Score: {np.round(np.mean(recall_list),2)}')\n",
    "    print(f'F1 Score: {np.round(np.mean(f1_list),2)}')\n",
    "    print(f'Accuracy Score: {np.round(np.mean(accuracy_list),2)}')\n",
    "    # print(f'Accuracy Score Top-{k}: {np.round(np.mean(accuracy_list_top_k),2)}')\n",
    "\n",
    "\n",
    "l = 0\n",
    "C = 3\n",
    "IQR = True\n",
    "p='daily_weekly_monthly'\n",
    "weighted = False\n",
    "model = torch.load(f'Models/model_CBOW_Single_{p}_L{l}_C{C}_IQRDaily{str(IQR)}_70{\"_Weights\" if weighted else \"\"}.pt')\n",
    "print(f'Loaded : Models/model_CBOW_Single_{p}_L{l}_C{C}_IQRDaily{str(IQR)}_70{\"_Weights\" if weighted else \"\"}.pt')\n",
    "\n",
    "get_sector_score(model)"
   ]
  },
  {
   "cell_type": "code",
   "execution_count": 70,
   "id": "0ba21fcd",
   "metadata": {},
   "outputs": [],
   "source": [
    "models_dict = {'Embedding': torch.load(f'Models/model_CBOW_Single_{p}_L{0}_C{3}_IQRDaily{str(False)}_70.pt'),\n",
    "                'embedding_no_IQR_weights': torch.load(f'Models/model_CBOW_Single_{p}_L{0}_C{10}_IQRDaily{str(False)}_70_weights.pt'),\n",
    "                'Embedding + IQR': torch.load(f'Models/model_CBOW_Single_{p}_L{0}_C{3}_IQRDaily{str(True)}_70.pt'),\n",
    "                'embedding_IQR_weights': torch.load(f'Models/model_CBOW_Single_{p}_L{0}_C{10}_IQRDaily{str(True)}_70_Weights.pt'),\n",
    "                'embedding_IQR_no_weights_Hedging': torch.load(f'Models/model_CBOW_Single_{\"daily\"}_L{0}_C{3}_IQRDaily{str(True)}_70_HEDGING.pt'),\n",
    "                'embedding_IQR_weights_Hedging': torch.load(f'Models/model_CBOW_Single_{\"daily\"}_L{0}_C{3}_IQRDaily{str(True)}_70_Weights_HEDGING.pt')\n",
    "                }\n",
    "\n",
    "for key,m in models_dict.items():\n",
    "    print(\"=\"*50)\n",
    "    print(key)\n",
    "    get_sector_score(m)"
   ]
  },
  {
   "cell_type": "markdown",
   "id": "41f9e5cd",
   "metadata": {},
   "source": [
    "### Analogies"
   ]
  },
  {
   "cell_type": "code",
   "execution_count": 75,
   "id": "87110ac1",
   "metadata": {},
   "outputs": [
    {
     "name": "stdout",
     "output_type": "stream",
     "text": [
      "====================\n",
      "MSFT is to TECHNOLOGY as MRK is to Tech\n",
      "MSFT -- MICROSOFT CORPORATION -- 0.79 -- TECHNOLOGY -- COMPUTER SOFTWARE: PREPACKAGED SOFTWARE\n",
      "MRK -- MERCK & COMPANY, INC. -- 0.82 -- HEALTH CARE -- MAJOR PHARMACEUTICALS\n"
     ]
    }
   ],
   "source": [
    "\n",
    "embedding_matrix = model.embeddings.weight.detach().numpy()\n",
    "\n",
    "\n",
    "#-- Get the average vector for various sectors\n",
    "\n",
    "#-- Create a dictionary with the index position of all tickers of that sector\n",
    "sector_idx_dict = {}\n",
    "#-- Create a dictionary to store the sector embeddings\n",
    "sector_embed_dict = {}\n",
    "for sector in sectors:\n",
    "    #-- Add indexes\n",
    "    sector_idx_dict[sector]=[i for i, x in enumerate(tickers) if sectors[i]==sector]\n",
    "    #-- Compute and add the average embedding for each sector\n",
    "    sector_embed_dict[sector] = embedding_matrix[sector_idx_dict[sector]].mean(axis=0)\n",
    "    \n",
    "tick = \"MSFT\"\n",
    "temp_sector1 = \"TECHNOLOGY\"\n",
    "temp_sector2 = \"HEALTH CARE\"\n",
    "\n",
    "\n",
    "embed = (embedding_matrix[ticker2idx[tick]] - sector_embed_dict[temp_sector1]) + sector_embed_dict[temp_sector2]\n",
    "\n",
    "\n",
    "#-- Get cosine similarity of query embedding with each row of embedding matrix\n",
    "temp_sims = cosine_similarity(np.expand_dims(embed, 0), embedding_matrix)\n",
    "\n",
    "for idx in np.argsort(-temp_sims).flatten()[:1]:\n",
    "\n",
    "    print(\"=\"*20)\n",
    "    print(f'{tick} is to {temp_sector1} as {idx2ticker[idx]} is to Tech')\n",
    "    print(tick, \"--\", names[ticker2idx[tick]], \"--\", round(temp_sims.flatten()[ticker2idx[tick]],2), \"--\", stock_df[stock_df.ticker==idx2ticker[ticker2idx[tick]]].sector.iloc[0], \"--\", stock_df[stock_df.ticker==idx2ticker[ticker2idx[tick]]].industry.iloc[0])\n",
    "    print(idx2ticker[idx], \"--\", names[idx], \"--\", round(temp_sims.flatten()[idx],2), \"--\", stock_df[stock_df.ticker==idx2ticker[idx]].sector.iloc[0], \"--\", stock_df[stock_df.ticker==idx2ticker[idx]].industry.iloc[0])\n",
    "\n"
   ]
  },
  {
   "cell_type": "markdown",
   "id": "2a7f17ef",
   "metadata": {},
   "source": [
    "### Portfolio Hedging"
   ]
  },
  {
   "cell_type": "code",
   "execution_count": 76,
   "id": "8f04a494",
   "metadata": {},
   "outputs": [],
   "source": [
    "def get_vol(tick1, tick2, plot=False):\n",
    "    \"\"\" -- Simulate a portfolio with two stocks and return realised volatility --\"\"\"\n",
    "    #-- Equal weight\n",
    "    combined_returns = (test_returns_df[tick1].values+test_returns_df[tick2].values)/2\n",
    "    #-- Simulate accumulated value of portfolio\n",
    "    portfolio_evolution = np.cumprod(1+combined_returns)\n",
    "    \n",
    "    if plot:\n",
    "        #-- Plot the portfolio evolution\n",
    "        fig = go.Figure()\n",
    "        fig.add_trace(go.Scatter(x=test_returns_df.index, \n",
    "                                 y=portfolio_evolution,\n",
    "                                 name='Portfolio'))\n",
    "        fig.add_trace(go.Scatter(x=test_returns_df.index, \n",
    "                                 y=np.cumprod(1+test_returns_df[tick1].values),\n",
    "                                 name=tick1,\n",
    "                                 opacity=0.6))\n",
    "        fig.add_trace(go.Scatter(x=test_returns_df.index, \n",
    "                                 y=np.cumprod(1+test_returns_df[tick2].values),\n",
    "                                 name=tick2,\n",
    "                                 opacity=0.6))\n",
    "        fig.update_layout(template='plotly_white',\n",
    "                          yaxis=dict(title='Cumulative Returns'),\n",
    "                          title=f'Hedged Portfolio Evolution | {tick1} - {tick2}')\n",
    "        fig.show()\n",
    "        \n",
    "    #-- Compute volatiltiy as standard deviation of log returns\n",
    "    portfolio_log_returns = [np.log(1 + (portfolio_evolution[i+1]-portfolio_evolution[i])/portfolio_evolution[i] ) for i in range(len(portfolio_evolution)-1)]\n",
    "    portfolio_vol = np.std(portfolio_log_returns)*np.sqrt(252)\n",
    "    return round(portfolio_vol,3)"
   ]
  },
  {
   "cell_type": "code",
   "execution_count": 77,
   "id": "9f267a36",
   "metadata": {},
   "outputs": [],
   "source": [
    "\n",
    "def get_vol_array(similarities):\n",
    "    #-- Get vol_list for a given similarity matrix\n",
    "\n",
    "    n=50\n",
    "\n",
    "    vol_list = []\n",
    "\n",
    "    #-- Ensure diagonal is nan so a stock will never hedge with itself\n",
    "    np.fill_diagonal(similarities,np.nan)\n",
    "\n",
    "    #-- Get the LOWEST similarity stock for each metric\n",
    "    hedge_idxs = np.argsort(similarities, axis=0)\n",
    "    #-- Choose hedge stock randomly from top-n least similar stocks\n",
    "    #- Prevents the same stocks being chosen again and again\n",
    "    hedge_idxs = [hedge_idxs[np.random.randint(0,n),i] for i in range(len(hedge_idxs))]\n",
    "\n",
    "    for i in range(len(tickers)):\n",
    "        tick1 = tickers[i]\n",
    "        tick2 = tickers[hedge_idxs[i]]\n",
    "\n",
    "\n",
    "        temp_vol = get_vol(tick1, tick2, plot=False)\n",
    "\n",
    "        vol_list.append(temp_vol)\n",
    "        \n",
    "        \n",
    "    return np.array(vol_list)"
   ]
  },
  {
   "cell_type": "code",
   "execution_count": 78,
   "id": "f5ea7df8",
   "metadata": {},
   "outputs": [
    {
     "name": "stderr",
     "output_type": "stream",
     "text": [
      "100%|██████████| 9/9 [00:14<00:00,  1.56s/it]\n"
     ]
    }
   ],
   "source": [
    "\n",
    "from scipy.stats import spearmanr\n",
    "\n",
    "p = 'daily_weekly_monthly'\n",
    "\n",
    "metrics_dict = {'Embedding': cosine_similarity(torch.load(f'Models/model_CBOW_Single_{p}_L{0}_C{3}_IQRDaily{str(False)}_70.pt').embeddings.weight.detach().numpy()),\n",
    "                'embedding_no_IQR_weights': cosine_similarity(torch.load(f'Models/model_CBOW_Single_{p}_L{0}_C{10}_IQRDaily{str(False)}_70_weights.pt').embeddings.weight.detach().numpy()),\n",
    "                'Embedding + IQR': cosine_similarity(torch.load(f'Models/model_CBOW_Single_{p}_L{0}_C{3}_IQRDaily{str(True)}_70.pt').embeddings.weight.detach().numpy()),\n",
    "                'embedding_IQR_weights': cosine_similarity(torch.load(f'Models/model_CBOW_Single_{p}_L{0}_C{10}_IQRDaily{str(True)}_70_Weights.pt').embeddings.weight.detach().numpy()),\n",
    "                'embedding_IQR_no_weights_Hedging': cosine_similarity(torch.load(f'Models/model_CBOW_Single_{\"daily\"}_L{0}_C{3}_IQRDaily{str(True)}_70_HEDGING.pt').embeddings.weight.detach().numpy()),\n",
    "                'embedding_IQR_weights_Hedging': cosine_similarity(torch.load(f'Models/model_CBOW_Single_{\"daily\"}_L{0}_C{3}_IQRDaily{str(True)}_70_Weights_HEDGING.pt').embeddings.weight.detach().numpy()),\n",
    "                'Pearson': train_returns_df.corr().values,\n",
    "                'geometric': np.genfromtxt('geometric_similarities.csv', delimiter=\",\"),\n",
    "                'spearman': spearmanr(train_returns_df.values)[0],\n",
    "                #'random': np.random.rand(611,611)\n",
    "                }\n",
    "\n",
    "\n",
    "\n",
    "vol_dict = {}\n",
    "for name, similarities in tqdm(metrics_dict.items()):\n",
    "    vol_dict[name]=get_vol_array(similarities)\n",
    "\n",
    "\n",
    "\n",
    "    "
   ]
  },
  {
   "cell_type": "code",
   "execution_count": 84,
   "id": "629bc555",
   "metadata": {},
   "outputs": [
    {
     "data": {
      "text/html": [
       "<div>                            <div id=\"15904889-5101-4b5c-8f04-bd609bdcfca8\" class=\"plotly-graph-div\" style=\"height:450px; width:550px;\"></div>            <script type=\"text/javascript\">                require([\"plotly\"], function(Plotly) {                    window.PLOTLYENV=window.PLOTLYENV || {};                                    if (document.getElementById(\"15904889-5101-4b5c-8f04-bd609bdcfca8\")) {                    Plotly.newPlot(                        \"15904889-5101-4b5c-8f04-bd609bdcfca8\",                        [{\"line\":{\"dash\":\"dash\"},\"name\":\"Embedding\",\"opacity\":1,\"x\":[0.15,0.15175879396984923,0.1535175879396985,0.15527638190954773,0.15703517587939697,0.15879396984924624,0.16055276381909547,0.1623115577889447,0.16407035175879398,0.1658291457286432,0.16758793969849245,0.1693467336683417,0.17110552763819095,0.1728643216080402,0.17462311557788945,0.1763819095477387,0.17814070351758793,0.17989949748743717,0.18165829145728643,0.18341708542713567,0.18517587939698493,0.18693467336683417,0.1886934673366834,0.19045226130653264,0.1922110552763819,0.19396984924623115,0.19572864321608038,0.19748743718592965,0.19924623115577889,0.20100502512562812,0.20276381909547736,0.20452261306532662,0.20628140703517586,0.20804020100502513,0.20979899497487436,0.2115577889447236,0.21331658291457284,0.2150753768844221,0.21683417085427134,0.2185929648241206,0.22035175879396984,0.22211055276381908,0.22386934673366832,0.22562814070351758,0.22738693467336682,0.22914572864321608,0.23090452261306532,0.23266331658291456,0.2344221105527638,0.23618090452261303,0.2379396984924623,0.23969849246231156,0.2414572864321608,0.24321608040201004,0.24497487437185927,0.2467336683417085,0.24849246231155778,0.25025125628140704,0.2520100502512563,0.2537688442211055,0.25552763819095475,0.257286432160804,0.2590452261306533,0.2608040201005025,0.26256281407035176,0.264321608040201,0.26608040201005023,0.26783919597989947,0.2695979899497487,0.27135678391959794,0.27311557788944724,0.2748743718592965,0.2766331658291457,0.27839195979899495,0.28015075376884424,0.2819095477386935,0.2836683417085427,0.28542713567839195,0.2871859296482412,0.2889447236180904,0.29070351758793966,0.2924623115577889,0.29422110552763814,0.29597989949748743,0.29773869346733667,0.2994974874371859,0.3012562814070352,0.30301507537688444,0.3047738693467337,0.3065326633165829,0.30829145728643215,0.3100502512562814,0.3118090452261306,0.31356783919597986,0.3153266331658291,0.31708542713567833,0.3188442211055276,0.32060301507537686,0.3223618090452261,0.3241206030150754,0.32587939698492463,0.32763819095477387,0.3293969849246231,0.33115577889447234,0.3329145728643216,0.3346733668341708,0.33643216080402005,0.3381909547738693,0.3399497487437186,0.3417085427135678,0.34346733668341706,0.34522613065326635,0.3469849246231156,0.3487437185929648,0.35050251256281406,0.3522613065326633,0.35402010050251254,0.3557788944723618,0.357537688442211,0.35929648241206025,0.3610552763819095,0.3628140703517588,0.364572864321608,0.36633165829145725,0.36809045226130654,0.3698492462311558,0.371608040201005,0.37336683417085426,0.3751256281407035,0.37688442211055273,0.37864321608040197,0.3804020100502512,0.38216080402010044,0.38391959798994973,0.38567839195979897,0.3874371859296482,0.3891959798994975,0.39095477386934674,0.392713567839196,0.3944723618090452,0.39623115577889445,0.3979899497487437,0.3997487437185929,0.40150753768844216,0.4032663316582914,0.40502512562814064,0.4067839195979899,0.4085427135678392,0.41030150753768846,0.4120603015075377,0.41381909547738693,0.41557788944723617,0.4173366834170854,0.41909547738693465,0.4208542713567839,0.4226130653266331,0.42437185929648236,0.4261306532663316,0.42788944723618083,0.42964824120603007,0.4314070351758794,0.43316582914572865,0.4349246231155779,0.43668341708542713,0.43844221105527637,0.4402010050251256,0.44195979899497484,0.4437185929648241,0.4454773869346733,0.44723618090452255,0.4489949748743718,0.450753768844221,0.4525125628140704,0.4542713567839196,0.45603015075376885,0.4577889447236181,0.4595477386934673,0.46130653266331656,0.4630653266331658,0.46482412060301503,0.46658291457286427,0.4683417085427135,0.47010050251256275,0.471859296482412,0.4736180904522612,0.47537688442211057,0.4771356783919598,0.47889447236180904,0.4806532663316583,0.4824120603015075,0.48417085427135675,0.485929648241206,0.48768844221105523,0.48944723618090447,0.4912060301507537,0.49296482412060294,0.4947236180904522,0.4964824120603015,0.49824120603015076,0.5],\"y\":[2.1170301196585983,2.3807225661014733,2.6613950852590484,2.9579450250184283,3.2689912167452153,3.5928917693203886,3.9277675919351616,4.271530344379714,4.621913530508326,4.976505642300254,5.3327845867850465,5.688153016049213,6.039974543805839,6.385611080550295,6.7224615787485815,7.04800230799024,7.359828380705194,7.655695674626347,7.933561646229188,8.191622927936136,8.428347187566223,8.642496620832118,8.833140724211818,8.999656673132836,9.141716656594381,9.259262775977692,9.352471435233186,9.421710340871204,9.467492110272481,9.49042891206761,9.491192453353896,9.470482984730856,9.429009894767187,9.367485057177491,9.286628567114333,9.187185061436939,9.069947647181115,8.935785702411113,8.785672539041906,8.620709130562162,8.442140743479818,8.25136425147902,8.049925006846513,7.839503240505335,7.621890924380456,7.39896075942236,7.172629399014799,6.944817180014898,6.717406554722098,6.492201168877303,6.270887198448969,6.054998221935804,5.84588462613224,5.644688353219429,5.452323694179623,5.269464786720071,5.0965404334509445,4.9337367589884655,4.781008021392192,4.638095553315531,4.504554331572662,4.3797860952674394,4.2630773187504625,4.153639785405154,4.050651098329141,3.95329229155715,3.8607798312601456,3.772389741122092,3.6874723234467734,3.605456904497413,3.5258470981700882,3.448208122854979,3.372148585901019,3.297299749907477,3.223295532391517,3.1497563308032315,3.076279227185097,3.002436279824089,2.9277815613500575,2.851866485925451,2.774261919814481,2.694584714374507,2.612525735167115,2.5278762438832834,2.4405496363252603,2.35059602245465,2.2582078891783275,2.163716020989471,2.0675758593945335,1.970345446902567,1.872656921043593,1.775184113105535,1.6786091071200624,1.5835906022188189,1.4907366062476495,1.400583414727904,1.3135820698214227,1.230092641973706,1.1503858345573783,1.0746506779844276,1.0030065377255313,0.9355173678101157,0.872206121888528,0.8130674761323141,0.7580774766913715,0.707199326741823,0.6603851855876077,0.6175744724311885,0.5786896673321499,0.5436309193706035,0.5122708738353335,0.4844510154964328,0.45998052387665406,0.4386382041824918,0.4201775651209927,0.40433463742623876,0.3908377326339801,0.379418081733693,0.36982019570496866,0.3618108566731131,0.3551858574038937,0.34977391719216916,0.3454375620397722,0.34207111252429356,0.33959622653557997,0.3379556617181805,0.3371060363929488,0.33701037766120145,0.33763116597553916,0.33892444166211116,0.3408353602347024,0.34329539827457173,0.34622124293130746,0.3495152601740793,0.35306733538080454,0.35675781284817204,0.36046122181759455,0.3640504577331644,0.3674010823295102,0.3703954119125622,0.3729260809218442,0.37489880162754685,0.37623409565336174,0.3768678523793448,0.3767506727156018,0.3758460784191522,0.37412779565732485,0.3715764411496292,0.3681760322514536,0.36391079228120055,0.3587627171723416,0.35271030417583576,0.34572872148583156,0.33779153163818326,0.3288738909080854,0.31895695580955064,0.3080330612755247,0.29611111553873404,0.28322160045510936,0.26942058091979665,0.25479221157133114,0.23944937255054066,0.22353225071352587,0.207204885781823,0.19064989842198155,0.17406178698290548,0.1576393039812791,0.1415774913398245,0.1260599611877082,0.11125196028708104,0.09729466051195748,0.08430098923298941,0.0723531680698937,0.06150198238585675,0.051767671378581764,0.04314222069488024,0.035592763160919576,0.02906575127467804,0.023491556484774804,0.018789170787131743,0.01487072945249297,0.011645632273286976,0.009024106952711976,0.006920125164082882,0.005253643615207399,0.003952194933232157,0.0029518937415539846,0.0021979508556064778,0.0016448032781256052,0.0012559707792185288,0.0010037430664374572,0.0008687869521187108,0.000839742637829651,0.0009128542933422767,0.0010916543834991004,0.0013866954094392916,0.0018152984987476633,0.002401267185629942,0.00317449835989932,0.004170412323952393],\"type\":\"scatter\"},{\"line\":{\"dash\":\"dot\"},\"name\":\"embedding_no_IQR_weights\",\"opacity\":1,\"x\":[0.15,0.15175879396984923,0.1535175879396985,0.15527638190954773,0.15703517587939697,0.15879396984924624,0.16055276381909547,0.1623115577889447,0.16407035175879398,0.1658291457286432,0.16758793969849245,0.1693467336683417,0.17110552763819095,0.1728643216080402,0.17462311557788945,0.1763819095477387,0.17814070351758793,0.17989949748743717,0.18165829145728643,0.18341708542713567,0.18517587939698493,0.18693467336683417,0.1886934673366834,0.19045226130653264,0.1922110552763819,0.19396984924623115,0.19572864321608038,0.19748743718592965,0.19924623115577889,0.20100502512562812,0.20276381909547736,0.20452261306532662,0.20628140703517586,0.20804020100502513,0.20979899497487436,0.2115577889447236,0.21331658291457284,0.2150753768844221,0.21683417085427134,0.2185929648241206,0.22035175879396984,0.22211055276381908,0.22386934673366832,0.22562814070351758,0.22738693467336682,0.22914572864321608,0.23090452261306532,0.23266331658291456,0.2344221105527638,0.23618090452261303,0.2379396984924623,0.23969849246231156,0.2414572864321608,0.24321608040201004,0.24497487437185927,0.2467336683417085,0.24849246231155778,0.25025125628140704,0.2520100502512563,0.2537688442211055,0.25552763819095475,0.257286432160804,0.2590452261306533,0.2608040201005025,0.26256281407035176,0.264321608040201,0.26608040201005023,0.26783919597989947,0.2695979899497487,0.27135678391959794,0.27311557788944724,0.2748743718592965,0.2766331658291457,0.27839195979899495,0.28015075376884424,0.2819095477386935,0.2836683417085427,0.28542713567839195,0.2871859296482412,0.2889447236180904,0.29070351758793966,0.2924623115577889,0.29422110552763814,0.29597989949748743,0.29773869346733667,0.2994974874371859,0.3012562814070352,0.30301507537688444,0.3047738693467337,0.3065326633165829,0.30829145728643215,0.3100502512562814,0.3118090452261306,0.31356783919597986,0.3153266331658291,0.31708542713567833,0.3188442211055276,0.32060301507537686,0.3223618090452261,0.3241206030150754,0.32587939698492463,0.32763819095477387,0.3293969849246231,0.33115577889447234,0.3329145728643216,0.3346733668341708,0.33643216080402005,0.3381909547738693,0.3399497487437186,0.3417085427135678,0.34346733668341706,0.34522613065326635,0.3469849246231156,0.3487437185929648,0.35050251256281406,0.3522613065326633,0.35402010050251254,0.3557788944723618,0.357537688442211,0.35929648241206025,0.3610552763819095,0.3628140703517588,0.364572864321608,0.36633165829145725,0.36809045226130654,0.3698492462311558,0.371608040201005,0.37336683417085426,0.3751256281407035,0.37688442211055273,0.37864321608040197,0.3804020100502512,0.38216080402010044,0.38391959798994973,0.38567839195979897,0.3874371859296482,0.3891959798994975,0.39095477386934674,0.392713567839196,0.3944723618090452,0.39623115577889445,0.3979899497487437,0.3997487437185929,0.40150753768844216,0.4032663316582914,0.40502512562814064,0.4067839195979899,0.4085427135678392,0.41030150753768846,0.4120603015075377,0.41381909547738693,0.41557788944723617,0.4173366834170854,0.41909547738693465,0.4208542713567839,0.4226130653266331,0.42437185929648236,0.4261306532663316,0.42788944723618083,0.42964824120603007,0.4314070351758794,0.43316582914572865,0.4349246231155779,0.43668341708542713,0.43844221105527637,0.4402010050251256,0.44195979899497484,0.4437185929648241,0.4454773869346733,0.44723618090452255,0.4489949748743718,0.450753768844221,0.4525125628140704,0.4542713567839196,0.45603015075376885,0.4577889447236181,0.4595477386934673,0.46130653266331656,0.4630653266331658,0.46482412060301503,0.46658291457286427,0.4683417085427135,0.47010050251256275,0.471859296482412,0.4736180904522612,0.47537688442211057,0.4771356783919598,0.47889447236180904,0.4806532663316583,0.4824120603015075,0.48417085427135675,0.485929648241206,0.48768844221105523,0.48944723618090447,0.4912060301507537,0.49296482412060294,0.4947236180904522,0.4964824120603015,0.49824120603015076,0.5],\"y\":[2.287308037081077,2.5313203441996075,2.7898115355289064,3.062289429730796,3.3480907323884126,3.6463765214492434,3.956129590904622,4.276153565596934,4.605073630751753,4.941338702792692,5.283224916354077,5.628840418237914,5.976131631744927,6.322891361711581,6.666769319970354,7.005285826679679,7.3358495500854275,7.655780157483797,7.962336646212189,8.252751901745544,8.5242737007264,8.774211962535704,8.999991585251646,9.199209716708262,9.369695845573876,9.509572684756195,9.617315488690863,9.691807219789403,9.732386874205059,9.738888304701467,9.711667046109161,9.651612960067402,9.560146969580778,9.439200743791929,9.291178905073505,9.118904140152196,8.925546469372215,8.714538816792857,8.489481872021688,8.254041979422608,8.011846367300866,7.766380379939556,7.520891452532605,7.278304345774293,7.041151629860654,6.811522600317965,6.5910327700301075,6.380814885418583,6.181531148611424,5.9934050882031915,5.816270403867693,5.649633198721397,5.492743373027773,5.344670623807077,5.204380489520386,5.07080618176564,4.942912516512344,4.819749035897176,4.7004903254363155,4.584462503062846,4.471155810424298,4.36022410694885,4.251472800580801,4.144837309734715,4.0403545204981715,3.9381298797505955,3.8383027613430234,3.7410125824252054,3.646367861068265,3.554420028341002,3.4651433715859326,3.378422021680563,3.2940444320818076,3.211705352964039,3.1310148964492774,3.0515139312899784,2.972694746614387,2.894025691242239,2.8149783324888547,2.735055589444899,2.653819281692382,2.5709155942214554,2.4860970890742635,2.399240086966763,2.3103564876945635,2.219599383634426,2.1272621312596836,2.0337708655412263,1.9396707559101,1.845606595946066,1.7522985800682807,1.6605143396777224,1.5710384813477394,1.4846409858179441,1.402045885382668,1.3239016366183394,1.250754544066256,1.1830264683908938,1.1209978712108306,1.0647970122090067,1.01439582949904,0.9696127127042122,0.9301220350699267,0.8954699651382971,0.8650957515644265,0.8383573888028936,0.8145603474413678,0.7929879079309654,0.7729315815234703,0.7537201411703951,0.7347459137171265,0.7154871909185557,0.6955258820430159,0.6745598320125653,0.6524095410405589,0.6290193201980191,0.6044531812208687,0.578885972564186,0.5525904284755786,0.525920892323549,0.49929451513810974,0.4731707264616847,0.4480297418682739,0.4243508255879394,0.40259098159863693,0.38316471223870713,0.366425463850902,0.35264937139336966,0.34202190901590185,0.3346280369110847,0.33044638939113236,0.3293479589355738,0.3310995839924869,0.3353723401494231,0.3417546702169913,0.3497697847058402,0.3588965458352544,0.3685927485218362,0.37831946687295503,0.3875649788586741,0.39586674236426844,0.40282998846002127,0.4081417234172387,0.4115792746981345,0.4130129478266607,0.41240283892559804,0.4097903232324651,0.40528516381573276,0.3990495132469672,0.39128028139406656,0.38219139701401794,0.37199739855116987,0.36089956610376217,0.34907548150152845,0.3366725161931305,0.3238053410430304,0.3105571710879204,0.29698413878348917,0.2831219585210425,0.26899391843271064,0.25461921535674076,0.24002072632473556,0.2252314667585343,0.21029919720010198,0.1952888795307137,0.18028292347167227,0.1653793812147755,0.15068842416323305,0.1363275593154164,0.12241610889976821,0.10906948685530997,0.09639376625480331,0.08448095318575635,0.07340527754539158,0.06322069293253517,0.05395965887997872,0.04563316981234079,0.03823190454189224,0.031728303108715716,0.026079336644248864,0.02122972027808265,0.01711532624924935,0.013666580007057729,0.010811660890175342,0.008479375318468874,0.006601618918812056,0.005115389917594292,0.003964355741669372,0.003100005492795817,0.0024824413822325123,0.0020808720021651688,0.0018738700750989168,0.0018494484191612466,0.002004992217199113,0.0023470655896996005,0.002891088490310546,0.0036608587126326303,0.004687875933384386,0.0060104126676601335,0.007672272896319595],\"type\":\"scatter\"},{\"line\":{\"dash\":\"dashdot\"},\"name\":\"Embedding + IQR\",\"opacity\":1,\"x\":[0.15,0.15175879396984923,0.1535175879396985,0.15527638190954773,0.15703517587939697,0.15879396984924624,0.16055276381909547,0.1623115577889447,0.16407035175879398,0.1658291457286432,0.16758793969849245,0.1693467336683417,0.17110552763819095,0.1728643216080402,0.17462311557788945,0.1763819095477387,0.17814070351758793,0.17989949748743717,0.18165829145728643,0.18341708542713567,0.18517587939698493,0.18693467336683417,0.1886934673366834,0.19045226130653264,0.1922110552763819,0.19396984924623115,0.19572864321608038,0.19748743718592965,0.19924623115577889,0.20100502512562812,0.20276381909547736,0.20452261306532662,0.20628140703517586,0.20804020100502513,0.20979899497487436,0.2115577889447236,0.21331658291457284,0.2150753768844221,0.21683417085427134,0.2185929648241206,0.22035175879396984,0.22211055276381908,0.22386934673366832,0.22562814070351758,0.22738693467336682,0.22914572864321608,0.23090452261306532,0.23266331658291456,0.2344221105527638,0.23618090452261303,0.2379396984924623,0.23969849246231156,0.2414572864321608,0.24321608040201004,0.24497487437185927,0.2467336683417085,0.24849246231155778,0.25025125628140704,0.2520100502512563,0.2537688442211055,0.25552763819095475,0.257286432160804,0.2590452261306533,0.2608040201005025,0.26256281407035176,0.264321608040201,0.26608040201005023,0.26783919597989947,0.2695979899497487,0.27135678391959794,0.27311557788944724,0.2748743718592965,0.2766331658291457,0.27839195979899495,0.28015075376884424,0.2819095477386935,0.2836683417085427,0.28542713567839195,0.2871859296482412,0.2889447236180904,0.29070351758793966,0.2924623115577889,0.29422110552763814,0.29597989949748743,0.29773869346733667,0.2994974874371859,0.3012562814070352,0.30301507537688444,0.3047738693467337,0.3065326633165829,0.30829145728643215,0.3100502512562814,0.3118090452261306,0.31356783919597986,0.3153266331658291,0.31708542713567833,0.3188442211055276,0.32060301507537686,0.3223618090452261,0.3241206030150754,0.32587939698492463,0.32763819095477387,0.3293969849246231,0.33115577889447234,0.3329145728643216,0.3346733668341708,0.33643216080402005,0.3381909547738693,0.3399497487437186,0.3417085427135678,0.34346733668341706,0.34522613065326635,0.3469849246231156,0.3487437185929648,0.35050251256281406,0.3522613065326633,0.35402010050251254,0.3557788944723618,0.357537688442211,0.35929648241206025,0.3610552763819095,0.3628140703517588,0.364572864321608,0.36633165829145725,0.36809045226130654,0.3698492462311558,0.371608040201005,0.37336683417085426,0.3751256281407035,0.37688442211055273,0.37864321608040197,0.3804020100502512,0.38216080402010044,0.38391959798994973,0.38567839195979897,0.3874371859296482,0.3891959798994975,0.39095477386934674,0.392713567839196,0.3944723618090452,0.39623115577889445,0.3979899497487437,0.3997487437185929,0.40150753768844216,0.4032663316582914,0.40502512562814064,0.4067839195979899,0.4085427135678392,0.41030150753768846,0.4120603015075377,0.41381909547738693,0.41557788944723617,0.4173366834170854,0.41909547738693465,0.4208542713567839,0.4226130653266331,0.42437185929648236,0.4261306532663316,0.42788944723618083,0.42964824120603007,0.4314070351758794,0.43316582914572865,0.4349246231155779,0.43668341708542713,0.43844221105527637,0.4402010050251256,0.44195979899497484,0.4437185929648241,0.4454773869346733,0.44723618090452255,0.4489949748743718,0.450753768844221,0.4525125628140704,0.4542713567839196,0.45603015075376885,0.4577889447236181,0.4595477386934673,0.46130653266331656,0.4630653266331658,0.46482412060301503,0.46658291457286427,0.4683417085427135,0.47010050251256275,0.471859296482412,0.4736180904522612,0.47537688442211057,0.4771356783919598,0.47889447236180904,0.4806532663316583,0.4824120603015075,0.48417085427135675,0.485929648241206,0.48768844221105523,0.48944723618090447,0.4912060301507537,0.49296482412060294,0.4947236180904522,0.4964824120603015,0.49824120603015076,0.5],\"y\":[4.094123504833058,4.4607529545933,4.834369600705461,5.2120961192738715,5.590904211251472,5.967694028371537,6.339382959407639,6.702997714358036,7.0557622391470805,7.395173392985412,7.719056743776338,8.02559636242925,8.31333503165601,8.581144561348056,8.828169507440197,9.053751021710742,9.257340302125822,9.438412726405112,9.596393945633839,9.730607906381543,9.840254103748261,9.924417700931826,9.982111998871675,10.01234869472555,10.014228003459866,9.98703849277105,9.930355670827895,9.8441290134204,9.728749037117515,9.585088842936427,9.41451777740257,9.218887963506498,9.000496985989415,8.762031657456479,8.506498415686417,8.237145577474617,7.957381639536327,7.670692422926462,7.380558489602765,7.090373259797146,6.803361858558011,6.522500999996539,6.25044109844883,5.989433057869694,5.741263523344464,5.507203441464784,5.287975265800902,5.083743849602737,4.894134912087189,4.718283016145634,4.554908459908286,4.402419673099824,4.2590349892626795,4.122915405749811,3.9922984604244545,3.8656228633758243,3.741634109829994,3.619462911772866,3.49867073373305,3.3792597121412915,3.2616474260105948,3.1466100068357643,3.035199604387865,2.9286440208019884,2.8282372555975477,2.7352297550947435,2.650726425754605,2.575599129319857,2.510418650993749,2.455409248999982,2.410427054566324,2.374961942703631,2.3481611208143547,2.3288716113726724,2.315698022318262,2.3070714699008588,2.3013252094282093,2.296772420243017,2.291781681963541,2.2848459829164622,2.2746416328859116,2.2600742099598454,2.2403096263816655,2.2147894876256915,2.1832310482509234,2.145613125173791,2.1021502026947583,2.05325756493671,1.999510571031184,1.9416011464371217,1.8802942486603638,1.8163865631343699,1.7506690994351086,1.6838947902754875,1.6167517235055155,1.5498423015845997,1.4836684238111948,1.4186226888789903,1.3549855621540303,1.2929283822951005,1.2325219474381086,1.17375020015233,1.1165282325713413,1.0607234977510325,1.0061787996223313,0.952735407111743,0.900254554340479,0.8486356829089633,0.7978300594674007,0.7478488366942821,0.6987651670233274,0.6507105577849087,0.6038662006469194,0.5584504508721666,0.5147039228896583,0.4728737805644211,0.43319873071545445,0.3958959974574577,0.36115120204474255,0.32911164944972815,0.29988308519092277,0.2735295880270987,0.25007595174390446,0.2295117147953339,0.21179593595977347,0.19686188551138054,0.18462100552273167,0.17496575597180103,0.16777126128133069,0.16289595647470356,0.16018165758776792,0.15945361109051628,0.1605210909226151,0.16317900754220396,0.16721078942746645,0.17239252982390865,0.17849810856965043,0.18530475334553917,0.19259834482188093,0.20017773069317157,0.20785740920897675,0.2154681646993728,0.22285555401843224,0.22987650384453248,0.2363946243183756,0.24227511448259953,0.24738027964167822,0.2515666693820112,0.2546846715355005,0.25658108190933826,0.2571047554028404,0.25611499085486933,0.2534918762336272,0.24914748568485176,0.2430366252884954,0.2351657991668895,0.22559921607229053,0.21446095812672497,0.20193284624510927,0.188248004893368,0.17368059052823612,0.15853254508433998,0.14311852146895143,0.1277502728234489,0.11272179224677492,0.09829634573995015,0.08469628622352236,0.07209621009875039,0.06061966457791333,0.05033927707109832,0.0412798934030376,0.03342410466753396,0.02671942536971634,0.021086357767686435,0.016426627932125792,0.012630989405007825,0.009586138045214668,0.0071804440485589045,0.005308364282517867,0.00387353475048967,0.002790649607930494,0.0019863056998746997,0.0013990308680614815,0.0009787245834830224,0.0006857271483699342,0.0004897058211731609,0.0003685093802459995,0.00030710234353973547,0.0002966502921301536,0.00033379098346020334,0.0004200933995693224,0.0005616789119600407,0.0007689553240566859,0.0010563956900752698,0.0014422799061995562,0.00194830908613203,0.0025990021649146583,0.003420792825595534,0.004440764404529136,0.0056849919300201515],\"type\":\"scatter\"},{\"line\":{\"dash\":\"dash\"},\"name\":\"Pearson\",\"opacity\":1,\"x\":[0.15,0.15175879396984923,0.1535175879396985,0.15527638190954773,0.15703517587939697,0.15879396984924624,0.16055276381909547,0.1623115577889447,0.16407035175879398,0.1658291457286432,0.16758793969849245,0.1693467336683417,0.17110552763819095,0.1728643216080402,0.17462311557788945,0.1763819095477387,0.17814070351758793,0.17989949748743717,0.18165829145728643,0.18341708542713567,0.18517587939698493,0.18693467336683417,0.1886934673366834,0.19045226130653264,0.1922110552763819,0.19396984924623115,0.19572864321608038,0.19748743718592965,0.19924623115577889,0.20100502512562812,0.20276381909547736,0.20452261306532662,0.20628140703517586,0.20804020100502513,0.20979899497487436,0.2115577889447236,0.21331658291457284,0.2150753768844221,0.21683417085427134,0.2185929648241206,0.22035175879396984,0.22211055276381908,0.22386934673366832,0.22562814070351758,0.22738693467336682,0.22914572864321608,0.23090452261306532,0.23266331658291456,0.2344221105527638,0.23618090452261303,0.2379396984924623,0.23969849246231156,0.2414572864321608,0.24321608040201004,0.24497487437185927,0.2467336683417085,0.24849246231155778,0.25025125628140704,0.2520100502512563,0.2537688442211055,0.25552763819095475,0.257286432160804,0.2590452261306533,0.2608040201005025,0.26256281407035176,0.264321608040201,0.26608040201005023,0.26783919597989947,0.2695979899497487,0.27135678391959794,0.27311557788944724,0.2748743718592965,0.2766331658291457,0.27839195979899495,0.28015075376884424,0.2819095477386935,0.2836683417085427,0.28542713567839195,0.2871859296482412,0.2889447236180904,0.29070351758793966,0.2924623115577889,0.29422110552763814,0.29597989949748743,0.29773869346733667,0.2994974874371859,0.3012562814070352,0.30301507537688444,0.3047738693467337,0.3065326633165829,0.30829145728643215,0.3100502512562814,0.3118090452261306,0.31356783919597986,0.3153266331658291,0.31708542713567833,0.3188442211055276,0.32060301507537686,0.3223618090452261,0.3241206030150754,0.32587939698492463,0.32763819095477387,0.3293969849246231,0.33115577889447234,0.3329145728643216,0.3346733668341708,0.33643216080402005,0.3381909547738693,0.3399497487437186,0.3417085427135678,0.34346733668341706,0.34522613065326635,0.3469849246231156,0.3487437185929648,0.35050251256281406,0.3522613065326633,0.35402010050251254,0.3557788944723618,0.357537688442211,0.35929648241206025,0.3610552763819095,0.3628140703517588,0.364572864321608,0.36633165829145725,0.36809045226130654,0.3698492462311558,0.371608040201005,0.37336683417085426,0.3751256281407035,0.37688442211055273,0.37864321608040197,0.3804020100502512,0.38216080402010044,0.38391959798994973,0.38567839195979897,0.3874371859296482,0.3891959798994975,0.39095477386934674,0.392713567839196,0.3944723618090452,0.39623115577889445,0.3979899497487437,0.3997487437185929,0.40150753768844216,0.4032663316582914,0.40502512562814064,0.4067839195979899,0.4085427135678392,0.41030150753768846,0.4120603015075377,0.41381909547738693,0.41557788944723617,0.4173366834170854,0.41909547738693465,0.4208542713567839,0.4226130653266331,0.42437185929648236,0.4261306532663316,0.42788944723618083,0.42964824120603007,0.4314070351758794,0.43316582914572865,0.4349246231155779,0.43668341708542713,0.43844221105527637,0.4402010050251256,0.44195979899497484,0.4437185929648241,0.4454773869346733,0.44723618090452255,0.4489949748743718,0.450753768844221,0.4525125628140704,0.4542713567839196,0.45603015075376885,0.4577889447236181,0.4595477386934673,0.46130653266331656,0.4630653266331658,0.46482412060301503,0.46658291457286427,0.4683417085427135,0.47010050251256275,0.471859296482412,0.4736180904522612,0.47537688442211057,0.4771356783919598,0.47889447236180904,0.4806532663316583,0.4824120603015075,0.48417085427135675,0.485929648241206,0.48768844221105523,0.48944723618090447,0.4912060301507537,0.49296482412060294,0.4947236180904522,0.4964824120603015,0.49824120603015076,0.5],\"y\":[3.6401887871186873,3.820604504444355,3.997354179528481,4.169412498536469,4.335798563933483,4.4955907039459815,4.647940618677052,4.792086569852268,4.927365313215915,5.053222468869108,5.169221027801563,5.275047705244593,5.370516875977405,5.455571865726467,5.530283427979689,5.59484530751363,5.649566879968451,5.694862958596141,5.731240970901576,5.759285823772576,5.779642889023458,5.792999644355245,5.800066589572594,5.801558116909269,5.798174041061157,5.790582484418135,5.7794047638798185,5.765202838244265,5.748469753202863,5.729623371089107,5.709003503842995,5.686872391129255,5.663418293107314,5.638761810880727,5.6129644179800335,5.586038592177335,5.557958884537478,5.528673254628547,5.498114036483429,5.466207975070601,5.432884880566303,5.398084578205531,5.361761974091533,5.323890200782475,5.284461939992525,5.243489133986829,5.201001384967207,5.157043398280806,5.1116718487910635,5.064952041168001,5.016954697628484,4.96775314628579,4.917421106696715,4.866031184152003,4.813654098563668,4.760358594750267,4.706211914712455,4.6512806638409625,4.595631874849553,4.539334066640274,4.482458109488023,4.425077740392114,4.36726961927983,4.309112873016394,4.250688134311722,4.1920761409022855,4.133356011416494,4.074603353437688,4.0158883829046,3.957274239978162,3.8988156742661535,3.8405582428657716,3.7825381206167266,3.7247825671352413,3.6673110344837774,3.6101368381555052,3.5532692579422616,3.4967158893472314,3.4404850347902536,3.3845879100036687,3.329040446302513,3.2738644937725736,3.219088272167413,3.164745972278823,3.1108764763896577,3.057521236958311,3.004721422372617,2.952514501980088,2.9009304947099546,2.849988142415894,2.799691287750534,2.750025735487263,2.7009568557406882,2.6524281489257464,2.604360938223628,2.556655289504745,2.509192185546376,2.4618369058245824,2.4144434900671095,2.366860097760596,2.3189350209780737,2.270523067479964,2.2214920072955957,2.171728770053616,2.121145092198096,2.0696823417984223,2.017315291838283,1.9640546677338422,1.9099483578594498,1.8550812431713084,1.7995736696395426,1.7435786513107838,1.68727794900051,1.6308772170130297,1.574600445786222,1.5186839506440917,1.4633701654301676,1.4089014950067238,1.355514463477187,1.3034343671653539,1.252870604971293,1.204012816134877,1.1570279092427942,1.112058019089731,1.069219382201069,1.0286020796594368,0.9902705592419633,0.9542648192684788,0.9206021150458179,0.8892790359729248,0.8602737973873806,0.8335485957827845,0.8090518883972585,0.7867204772992047,0.7664813026232316,0.7482528779745417,0.73194633153987,0.717466047400854,0.7047099312796472,0.6935693519272444,0.6839288322651474,0.6756655821363907,0.6686489763305318,0.662740086949705,0.6577913780298137,0.6536466627874984,0.6501414103923177,0.6471034705000173,0.644354260902034,0.6417104377231676,0.6389860399606281,0.6359950722274498,0.6325544628001231,0.6284873098983785,0.6236263088604513,0.6178172376541139,0.6109223688649642,0.6028236735003609,0.5934256858570699,0.582657909163284,0.5704766581876373,0.5568662566308978,0.5418395327120196,0.5254375845471918,0.50772881619395,0.4888072740647983,0.4687903403531926,0.44781586387015465,0.42603882820925704,0.40362767167578234,0.38076038248115457,0.3576204961821123,0.33439312039891816,0.3112611049025264,0.28840146385241994,0.2659821420853835,0.2441591997885848,0.22307447056949747,0.2028537277874165,0.183605373920026,0.16541964851330632,0.1483683326169394,0.13250491214138957,0.11786514976495586,0.10446800521743038,0.09231683718430683,0.08140081678649001,0.0716964825307452,0.06316936959435555,0.05577565197196277,0.04946374392345207,0.04417581677001548,0.039849197769222876,0.03641762889733772,0.03381237421541927,0.031963174472809594,0.03079905616785527,0.030249009022097328,0.030242550462586074,0.03071019814940087],\"type\":\"scatter\"}],                        {\"template\":{\"data\":{\"barpolar\":[{\"marker\":{\"line\":{\"color\":\"white\",\"width\":0.5},\"pattern\":{\"fillmode\":\"overlay\",\"size\":10,\"solidity\":0.2}},\"type\":\"barpolar\"}],\"bar\":[{\"error_x\":{\"color\":\"#2a3f5f\"},\"error_y\":{\"color\":\"#2a3f5f\"},\"marker\":{\"line\":{\"color\":\"white\",\"width\":0.5},\"pattern\":{\"fillmode\":\"overlay\",\"size\":10,\"solidity\":0.2}},\"type\":\"bar\"}],\"carpet\":[{\"aaxis\":{\"endlinecolor\":\"#2a3f5f\",\"gridcolor\":\"#C8D4E3\",\"linecolor\":\"#C8D4E3\",\"minorgridcolor\":\"#C8D4E3\",\"startlinecolor\":\"#2a3f5f\"},\"baxis\":{\"endlinecolor\":\"#2a3f5f\",\"gridcolor\":\"#C8D4E3\",\"linecolor\":\"#C8D4E3\",\"minorgridcolor\":\"#C8D4E3\",\"startlinecolor\":\"#2a3f5f\"},\"type\":\"carpet\"}],\"choropleth\":[{\"colorbar\":{\"outlinewidth\":0,\"ticks\":\"\"},\"type\":\"choropleth\"}],\"contourcarpet\":[{\"colorbar\":{\"outlinewidth\":0,\"ticks\":\"\"},\"type\":\"contourcarpet\"}],\"contour\":[{\"colorbar\":{\"outlinewidth\":0,\"ticks\":\"\"},\"colorscale\":[[0.0,\"#0d0887\"],[0.1111111111111111,\"#46039f\"],[0.2222222222222222,\"#7201a8\"],[0.3333333333333333,\"#9c179e\"],[0.4444444444444444,\"#bd3786\"],[0.5555555555555556,\"#d8576b\"],[0.6666666666666666,\"#ed7953\"],[0.7777777777777778,\"#fb9f3a\"],[0.8888888888888888,\"#fdca26\"],[1.0,\"#f0f921\"]],\"type\":\"contour\"}],\"heatmapgl\":[{\"colorbar\":{\"outlinewidth\":0,\"ticks\":\"\"},\"colorscale\":[[0.0,\"#0d0887\"],[0.1111111111111111,\"#46039f\"],[0.2222222222222222,\"#7201a8\"],[0.3333333333333333,\"#9c179e\"],[0.4444444444444444,\"#bd3786\"],[0.5555555555555556,\"#d8576b\"],[0.6666666666666666,\"#ed7953\"],[0.7777777777777778,\"#fb9f3a\"],[0.8888888888888888,\"#fdca26\"],[1.0,\"#f0f921\"]],\"type\":\"heatmapgl\"}],\"heatmap\":[{\"colorbar\":{\"outlinewidth\":0,\"ticks\":\"\"},\"colorscale\":[[0.0,\"#0d0887\"],[0.1111111111111111,\"#46039f\"],[0.2222222222222222,\"#7201a8\"],[0.3333333333333333,\"#9c179e\"],[0.4444444444444444,\"#bd3786\"],[0.5555555555555556,\"#d8576b\"],[0.6666666666666666,\"#ed7953\"],[0.7777777777777778,\"#fb9f3a\"],[0.8888888888888888,\"#fdca26\"],[1.0,\"#f0f921\"]],\"type\":\"heatmap\"}],\"histogram2dcontour\":[{\"colorbar\":{\"outlinewidth\":0,\"ticks\":\"\"},\"colorscale\":[[0.0,\"#0d0887\"],[0.1111111111111111,\"#46039f\"],[0.2222222222222222,\"#7201a8\"],[0.3333333333333333,\"#9c179e\"],[0.4444444444444444,\"#bd3786\"],[0.5555555555555556,\"#d8576b\"],[0.6666666666666666,\"#ed7953\"],[0.7777777777777778,\"#fb9f3a\"],[0.8888888888888888,\"#fdca26\"],[1.0,\"#f0f921\"]],\"type\":\"histogram2dcontour\"}],\"histogram2d\":[{\"colorbar\":{\"outlinewidth\":0,\"ticks\":\"\"},\"colorscale\":[[0.0,\"#0d0887\"],[0.1111111111111111,\"#46039f\"],[0.2222222222222222,\"#7201a8\"],[0.3333333333333333,\"#9c179e\"],[0.4444444444444444,\"#bd3786\"],[0.5555555555555556,\"#d8576b\"],[0.6666666666666666,\"#ed7953\"],[0.7777777777777778,\"#fb9f3a\"],[0.8888888888888888,\"#fdca26\"],[1.0,\"#f0f921\"]],\"type\":\"histogram2d\"}],\"histogram\":[{\"marker\":{\"pattern\":{\"fillmode\":\"overlay\",\"size\":10,\"solidity\":0.2}},\"type\":\"histogram\"}],\"mesh3d\":[{\"colorbar\":{\"outlinewidth\":0,\"ticks\":\"\"},\"type\":\"mesh3d\"}],\"parcoords\":[{\"line\":{\"colorbar\":{\"outlinewidth\":0,\"ticks\":\"\"}},\"type\":\"parcoords\"}],\"pie\":[{\"automargin\":true,\"type\":\"pie\"}],\"scatter3d\":[{\"line\":{\"colorbar\":{\"outlinewidth\":0,\"ticks\":\"\"}},\"marker\":{\"colorbar\":{\"outlinewidth\":0,\"ticks\":\"\"}},\"type\":\"scatter3d\"}],\"scattercarpet\":[{\"marker\":{\"colorbar\":{\"outlinewidth\":0,\"ticks\":\"\"}},\"type\":\"scattercarpet\"}],\"scattergeo\":[{\"marker\":{\"colorbar\":{\"outlinewidth\":0,\"ticks\":\"\"}},\"type\":\"scattergeo\"}],\"scattergl\":[{\"marker\":{\"colorbar\":{\"outlinewidth\":0,\"ticks\":\"\"}},\"type\":\"scattergl\"}],\"scattermapbox\":[{\"marker\":{\"colorbar\":{\"outlinewidth\":0,\"ticks\":\"\"}},\"type\":\"scattermapbox\"}],\"scatterpolargl\":[{\"marker\":{\"colorbar\":{\"outlinewidth\":0,\"ticks\":\"\"}},\"type\":\"scatterpolargl\"}],\"scatterpolar\":[{\"marker\":{\"colorbar\":{\"outlinewidth\":0,\"ticks\":\"\"}},\"type\":\"scatterpolar\"}],\"scatter\":[{\"marker\":{\"colorbar\":{\"outlinewidth\":0,\"ticks\":\"\"}},\"type\":\"scatter\"}],\"scatterternary\":[{\"marker\":{\"colorbar\":{\"outlinewidth\":0,\"ticks\":\"\"}},\"type\":\"scatterternary\"}],\"surface\":[{\"colorbar\":{\"outlinewidth\":0,\"ticks\":\"\"},\"colorscale\":[[0.0,\"#0d0887\"],[0.1111111111111111,\"#46039f\"],[0.2222222222222222,\"#7201a8\"],[0.3333333333333333,\"#9c179e\"],[0.4444444444444444,\"#bd3786\"],[0.5555555555555556,\"#d8576b\"],[0.6666666666666666,\"#ed7953\"],[0.7777777777777778,\"#fb9f3a\"],[0.8888888888888888,\"#fdca26\"],[1.0,\"#f0f921\"]],\"type\":\"surface\"}],\"table\":[{\"cells\":{\"fill\":{\"color\":\"#EBF0F8\"},\"line\":{\"color\":\"white\"}},\"header\":{\"fill\":{\"color\":\"#C8D4E3\"},\"line\":{\"color\":\"white\"}},\"type\":\"table\"}]},\"layout\":{\"annotationdefaults\":{\"arrowcolor\":\"#2a3f5f\",\"arrowhead\":0,\"arrowwidth\":1},\"autotypenumbers\":\"strict\",\"coloraxis\":{\"colorbar\":{\"outlinewidth\":0,\"ticks\":\"\"}},\"colorscale\":{\"diverging\":[[0,\"#8e0152\"],[0.1,\"#c51b7d\"],[0.2,\"#de77ae\"],[0.3,\"#f1b6da\"],[0.4,\"#fde0ef\"],[0.5,\"#f7f7f7\"],[0.6,\"#e6f5d0\"],[0.7,\"#b8e186\"],[0.8,\"#7fbc41\"],[0.9,\"#4d9221\"],[1,\"#276419\"]],\"sequential\":[[0.0,\"#0d0887\"],[0.1111111111111111,\"#46039f\"],[0.2222222222222222,\"#7201a8\"],[0.3333333333333333,\"#9c179e\"],[0.4444444444444444,\"#bd3786\"],[0.5555555555555556,\"#d8576b\"],[0.6666666666666666,\"#ed7953\"],[0.7777777777777778,\"#fb9f3a\"],[0.8888888888888888,\"#fdca26\"],[1.0,\"#f0f921\"]],\"sequentialminus\":[[0.0,\"#0d0887\"],[0.1111111111111111,\"#46039f\"],[0.2222222222222222,\"#7201a8\"],[0.3333333333333333,\"#9c179e\"],[0.4444444444444444,\"#bd3786\"],[0.5555555555555556,\"#d8576b\"],[0.6666666666666666,\"#ed7953\"],[0.7777777777777778,\"#fb9f3a\"],[0.8888888888888888,\"#fdca26\"],[1.0,\"#f0f921\"]]},\"colorway\":[\"#636efa\",\"#EF553B\",\"#00cc96\",\"#ab63fa\",\"#FFA15A\",\"#19d3f3\",\"#FF6692\",\"#B6E880\",\"#FF97FF\",\"#FECB52\"],\"font\":{\"color\":\"#2a3f5f\"},\"geo\":{\"bgcolor\":\"white\",\"lakecolor\":\"white\",\"landcolor\":\"white\",\"showlakes\":true,\"showland\":true,\"subunitcolor\":\"#C8D4E3\"},\"hoverlabel\":{\"align\":\"left\"},\"hovermode\":\"closest\",\"mapbox\":{\"style\":\"light\"},\"paper_bgcolor\":\"white\",\"plot_bgcolor\":\"white\",\"polar\":{\"angularaxis\":{\"gridcolor\":\"#EBF0F8\",\"linecolor\":\"#EBF0F8\",\"ticks\":\"\"},\"bgcolor\":\"white\",\"radialaxis\":{\"gridcolor\":\"#EBF0F8\",\"linecolor\":\"#EBF0F8\",\"ticks\":\"\"}},\"scene\":{\"xaxis\":{\"backgroundcolor\":\"white\",\"gridcolor\":\"#DFE8F3\",\"gridwidth\":2,\"linecolor\":\"#EBF0F8\",\"showbackground\":true,\"ticks\":\"\",\"zerolinecolor\":\"#EBF0F8\"},\"yaxis\":{\"backgroundcolor\":\"white\",\"gridcolor\":\"#DFE8F3\",\"gridwidth\":2,\"linecolor\":\"#EBF0F8\",\"showbackground\":true,\"ticks\":\"\",\"zerolinecolor\":\"#EBF0F8\"},\"zaxis\":{\"backgroundcolor\":\"white\",\"gridcolor\":\"#DFE8F3\",\"gridwidth\":2,\"linecolor\":\"#EBF0F8\",\"showbackground\":true,\"ticks\":\"\",\"zerolinecolor\":\"#EBF0F8\"}},\"shapedefaults\":{\"line\":{\"color\":\"#2a3f5f\"}},\"ternary\":{\"aaxis\":{\"gridcolor\":\"#DFE8F3\",\"linecolor\":\"#A2B1C6\",\"ticks\":\"\"},\"baxis\":{\"gridcolor\":\"#DFE8F3\",\"linecolor\":\"#A2B1C6\",\"ticks\":\"\"},\"bgcolor\":\"white\",\"caxis\":{\"gridcolor\":\"#DFE8F3\",\"linecolor\":\"#A2B1C6\",\"ticks\":\"\"}},\"title\":{\"x\":0.05},\"xaxis\":{\"automargin\":true,\"gridcolor\":\"#EBF0F8\",\"linecolor\":\"#EBF0F8\",\"ticks\":\"\",\"title\":{\"standoff\":15},\"zerolinecolor\":\"#EBF0F8\",\"zerolinewidth\":2},\"yaxis\":{\"automargin\":true,\"gridcolor\":\"#EBF0F8\",\"linecolor\":\"#EBF0F8\",\"ticks\":\"\",\"title\":{\"standoff\":15},\"zerolinecolor\":\"#EBF0F8\",\"zerolinewidth\":2}}},\"xaxis\":{\"title\":{\"text\":\"Portfolio Volatiltiy\"}},\"yaxis\":{\"title\":{\"text\":\"Probability Density\"}},\"legend\":{\"orientation\":\"h\",\"yanchor\":\"bottom\",\"y\":1.02,\"xanchor\":\"right\",\"x\":0.75},\"height\":450,\"width\":550},                        {\"responsive\": true}                    ).then(function(){\n",
       "                            \n",
       "var gd = document.getElementById('15904889-5101-4b5c-8f04-bd609bdcfca8');\n",
       "var x = new MutationObserver(function (mutations, observer) {{\n",
       "        var display = window.getComputedStyle(gd).display;\n",
       "        if (!display || display === 'none') {{\n",
       "            console.log([gd, 'removed!']);\n",
       "            Plotly.purge(gd);\n",
       "            observer.disconnect();\n",
       "        }}\n",
       "}});\n",
       "\n",
       "// Listen for the removal of the full notebook cells\n",
       "var notebookContainer = gd.closest('#notebook-container');\n",
       "if (notebookContainer) {{\n",
       "    x.observe(notebookContainer, {childList: true});\n",
       "}}\n",
       "\n",
       "// Listen for the clearing of the current output cell\n",
       "var outputEl = gd.closest('.output');\n",
       "if (outputEl) {{\n",
       "    x.observe(outputEl, {childList: true});\n",
       "}}\n",
       "\n",
       "                        })                };                });            </script>        </div>"
      ]
     },
     "metadata": {},
     "output_type": "display_data"
    }
   ],
   "source": [
    "fig = go.Figure()\n",
    "linestyles = ['dash','dot', 'dashdot', 'dash']\n",
    "count = 0\n",
    "for name, vols in vol_dict.items():\n",
    "    if name not in ['Embedding', 'Pearson','Embedding + IQR', 'embedding_no_IQR_weights']:\n",
    "        continue\n",
    "    \n",
    "#     fig.add_trace(go.Histogram(x=get_vol_array(similarities), name=name))\n",
    "    xvals = np.linspace(0.15,0.5,200)\n",
    "    kde = gaussian_kde(vols)\n",
    "    fig.add_trace(go.Scatter(x=xvals, y=kde(xvals), name=name, #marker=dict(color=color),\n",
    "                             opacity=1,\n",
    "                             #fill='tozeroy',\n",
    "                             line=dict(dash=linestyles[count])\n",
    "                            ))\n",
    "    count+=1\n",
    "    \n",
    "fig.update_layout(template='plotly_white')\n",
    "fig.update_layout(xaxis=dict(title=\"Portfolio Volatiltiy\"),\n",
    "                  yaxis = dict(title=\"Probability Density\"))\n",
    "\n",
    "fig.update_layout(legend=dict(\n",
    "                    orientation=\"h\",\n",
    "                    yanchor=\"bottom\",\n",
    "                    y=1.02,\n",
    "                    xanchor=\"right\",\n",
    "                    x=0.75\n",
    "                ))\n",
    "fig.update_layout(height=450, width=550)"
   ]
  },
  {
   "cell_type": "code",
   "execution_count": 87,
   "id": "aaea8dcd",
   "metadata": {},
   "outputs": [
    {
     "name": "stdout",
     "output_type": "stream",
     "text": [
      "========================================\n",
      "========================================\n",
      "Embedding: 0.229\n",
      "Pearson: 0.238\n"
     ]
    },
    {
     "data": {
      "text/html": [
       "<div>\n",
       "<style scoped>\n",
       "    .dataframe tbody tr th:only-of-type {\n",
       "        vertical-align: middle;\n",
       "    }\n",
       "\n",
       "    .dataframe tbody tr th {\n",
       "        vertical-align: top;\n",
       "    }\n",
       "\n",
       "    .dataframe thead th {\n",
       "        text-align: right;\n",
       "    }\n",
       "</style>\n",
       "<table border=\"1\" class=\"dataframe\">\n",
       "  <thead>\n",
       "    <tr style=\"text-align: right;\">\n",
       "      <th></th>\n",
       "      <th>group1</th>\n",
       "      <th>group2</th>\n",
       "      <th>meandiff</th>\n",
       "      <th>p-adj</th>\n",
       "      <th>lower</th>\n",
       "      <th>upper</th>\n",
       "      <th>reject</th>\n",
       "    </tr>\n",
       "  </thead>\n",
       "  <tbody>\n",
       "    <tr>\n",
       "      <th>0</th>\n",
       "      <td>Embedding</td>\n",
       "      <td>pears</td>\n",
       "      <td>0.009</td>\n",
       "      <td>0.001</td>\n",
       "      <td>0.0077</td>\n",
       "      <td>0.0102</td>\n",
       "      <td>True</td>\n",
       "    </tr>\n",
       "  </tbody>\n",
       "</table>\n",
       "</div>"
      ],
      "text/plain": [
       "      group1 group2  meandiff  p-adj   lower   upper  reject\n",
       "0  Embedding  pears     0.009  0.001  0.0077  0.0102    True"
      ]
     },
     "metadata": {},
     "output_type": "display_data"
    },
    {
     "name": "stdout",
     "output_type": "stream",
     "text": [
      "========================================\n",
      "========================================\n",
      "embedding_no_IQR_weights: 0.227\n",
      "Pearson: 0.238\n"
     ]
    },
    {
     "data": {
      "text/html": [
       "<div>\n",
       "<style scoped>\n",
       "    .dataframe tbody tr th:only-of-type {\n",
       "        vertical-align: middle;\n",
       "    }\n",
       "\n",
       "    .dataframe tbody tr th {\n",
       "        vertical-align: top;\n",
       "    }\n",
       "\n",
       "    .dataframe thead th {\n",
       "        text-align: right;\n",
       "    }\n",
       "</style>\n",
       "<table border=\"1\" class=\"dataframe\">\n",
       "  <thead>\n",
       "    <tr style=\"text-align: right;\">\n",
       "      <th></th>\n",
       "      <th>group1</th>\n",
       "      <th>group2</th>\n",
       "      <th>meandiff</th>\n",
       "      <th>p-adj</th>\n",
       "      <th>lower</th>\n",
       "      <th>upper</th>\n",
       "      <th>reject</th>\n",
       "    </tr>\n",
       "  </thead>\n",
       "  <tbody>\n",
       "    <tr>\n",
       "      <th>0</th>\n",
       "      <td>embedding_no_IQR_weights</td>\n",
       "      <td>pears</td>\n",
       "      <td>0.0109</td>\n",
       "      <td>0.001</td>\n",
       "      <td>0.0097</td>\n",
       "      <td>0.012</td>\n",
       "      <td>True</td>\n",
       "    </tr>\n",
       "  </tbody>\n",
       "</table>\n",
       "</div>"
      ],
      "text/plain": [
       "                     group1 group2  meandiff  p-adj   lower  upper  reject\n",
       "0  embedding_no_IQR_weights  pears    0.0109  0.001  0.0097  0.012    True"
      ]
     },
     "metadata": {},
     "output_type": "display_data"
    },
    {
     "name": "stdout",
     "output_type": "stream",
     "text": [
      "========================================\n",
      "========================================\n",
      "Embedding + IQR: 0.213\n",
      "Pearson: 0.238\n"
     ]
    },
    {
     "data": {
      "text/html": [
       "<div>\n",
       "<style scoped>\n",
       "    .dataframe tbody tr th:only-of-type {\n",
       "        vertical-align: middle;\n",
       "    }\n",
       "\n",
       "    .dataframe tbody tr th {\n",
       "        vertical-align: top;\n",
       "    }\n",
       "\n",
       "    .dataframe thead th {\n",
       "        text-align: right;\n",
       "    }\n",
       "</style>\n",
       "<table border=\"1\" class=\"dataframe\">\n",
       "  <thead>\n",
       "    <tr style=\"text-align: right;\">\n",
       "      <th></th>\n",
       "      <th>group1</th>\n",
       "      <th>group2</th>\n",
       "      <th>meandiff</th>\n",
       "      <th>p-adj</th>\n",
       "      <th>lower</th>\n",
       "      <th>upper</th>\n",
       "      <th>reject</th>\n",
       "    </tr>\n",
       "  </thead>\n",
       "  <tbody>\n",
       "    <tr>\n",
       "      <th>0</th>\n",
       "      <td>Embedding + IQR</td>\n",
       "      <td>pears</td>\n",
       "      <td>0.0246</td>\n",
       "      <td>0.001</td>\n",
       "      <td>0.0234</td>\n",
       "      <td>0.0257</td>\n",
       "      <td>True</td>\n",
       "    </tr>\n",
       "  </tbody>\n",
       "</table>\n",
       "</div>"
      ],
      "text/plain": [
       "            group1 group2  meandiff  p-adj   lower   upper  reject\n",
       "0  Embedding + IQR  pears    0.0246  0.001  0.0234  0.0257    True"
      ]
     },
     "metadata": {},
     "output_type": "display_data"
    },
    {
     "name": "stdout",
     "output_type": "stream",
     "text": [
      "========================================\n",
      "========================================\n",
      "embedding_IQR_weights: 0.225\n",
      "Pearson: 0.238\n"
     ]
    },
    {
     "data": {
      "text/html": [
       "<div>\n",
       "<style scoped>\n",
       "    .dataframe tbody tr th:only-of-type {\n",
       "        vertical-align: middle;\n",
       "    }\n",
       "\n",
       "    .dataframe tbody tr th {\n",
       "        vertical-align: top;\n",
       "    }\n",
       "\n",
       "    .dataframe thead th {\n",
       "        text-align: right;\n",
       "    }\n",
       "</style>\n",
       "<table border=\"1\" class=\"dataframe\">\n",
       "  <thead>\n",
       "    <tr style=\"text-align: right;\">\n",
       "      <th></th>\n",
       "      <th>group1</th>\n",
       "      <th>group2</th>\n",
       "      <th>meandiff</th>\n",
       "      <th>p-adj</th>\n",
       "      <th>lower</th>\n",
       "      <th>upper</th>\n",
       "      <th>reject</th>\n",
       "    </tr>\n",
       "  </thead>\n",
       "  <tbody>\n",
       "    <tr>\n",
       "      <th>0</th>\n",
       "      <td>embedding_IQR_weights</td>\n",
       "      <td>pears</td>\n",
       "      <td>0.0126</td>\n",
       "      <td>0.001</td>\n",
       "      <td>0.0114</td>\n",
       "      <td>0.0137</td>\n",
       "      <td>True</td>\n",
       "    </tr>\n",
       "  </tbody>\n",
       "</table>\n",
       "</div>"
      ],
      "text/plain": [
       "                  group1 group2  meandiff  p-adj   lower   upper  reject\n",
       "0  embedding_IQR_weights  pears    0.0126  0.001  0.0114  0.0137    True"
      ]
     },
     "metadata": {},
     "output_type": "display_data"
    },
    {
     "name": "stdout",
     "output_type": "stream",
     "text": [
      "========================================\n",
      "========================================\n",
      "embedding_IQR_no_weights_Hedging: 0.195\n",
      "Pearson: 0.238\n"
     ]
    },
    {
     "data": {
      "text/html": [
       "<div>\n",
       "<style scoped>\n",
       "    .dataframe tbody tr th:only-of-type {\n",
       "        vertical-align: middle;\n",
       "    }\n",
       "\n",
       "    .dataframe tbody tr th {\n",
       "        vertical-align: top;\n",
       "    }\n",
       "\n",
       "    .dataframe thead th {\n",
       "        text-align: right;\n",
       "    }\n",
       "</style>\n",
       "<table border=\"1\" class=\"dataframe\">\n",
       "  <thead>\n",
       "    <tr style=\"text-align: right;\">\n",
       "      <th></th>\n",
       "      <th>group1</th>\n",
       "      <th>group2</th>\n",
       "      <th>meandiff</th>\n",
       "      <th>p-adj</th>\n",
       "      <th>lower</th>\n",
       "      <th>upper</th>\n",
       "      <th>reject</th>\n",
       "    </tr>\n",
       "  </thead>\n",
       "  <tbody>\n",
       "    <tr>\n",
       "      <th>0</th>\n",
       "      <td>embedding_IQR_no_weights_Hedging</td>\n",
       "      <td>pears</td>\n",
       "      <td>0.0428</td>\n",
       "      <td>0.001</td>\n",
       "      <td>0.0417</td>\n",
       "      <td>0.0438</td>\n",
       "      <td>True</td>\n",
       "    </tr>\n",
       "  </tbody>\n",
       "</table>\n",
       "</div>"
      ],
      "text/plain": [
       "                             group1 group2  meandiff  p-adj   lower   upper  \\\n",
       "0  embedding_IQR_no_weights_Hedging  pears    0.0428  0.001  0.0417  0.0438   \n",
       "\n",
       "   reject  \n",
       "0    True  "
      ]
     },
     "metadata": {},
     "output_type": "display_data"
    },
    {
     "name": "stdout",
     "output_type": "stream",
     "text": [
      "========================================\n",
      "========================================\n",
      "embedding_IQR_weights_Hedging: 0.215\n",
      "Pearson: 0.238\n"
     ]
    },
    {
     "data": {
      "text/html": [
       "<div>\n",
       "<style scoped>\n",
       "    .dataframe tbody tr th:only-of-type {\n",
       "        vertical-align: middle;\n",
       "    }\n",
       "\n",
       "    .dataframe tbody tr th {\n",
       "        vertical-align: top;\n",
       "    }\n",
       "\n",
       "    .dataframe thead th {\n",
       "        text-align: right;\n",
       "    }\n",
       "</style>\n",
       "<table border=\"1\" class=\"dataframe\">\n",
       "  <thead>\n",
       "    <tr style=\"text-align: right;\">\n",
       "      <th></th>\n",
       "      <th>group1</th>\n",
       "      <th>group2</th>\n",
       "      <th>meandiff</th>\n",
       "      <th>p-adj</th>\n",
       "      <th>lower</th>\n",
       "      <th>upper</th>\n",
       "      <th>reject</th>\n",
       "    </tr>\n",
       "  </thead>\n",
       "  <tbody>\n",
       "    <tr>\n",
       "      <th>0</th>\n",
       "      <td>embedding_IQR_weights_Hedging</td>\n",
       "      <td>pears</td>\n",
       "      <td>0.0228</td>\n",
       "      <td>0.001</td>\n",
       "      <td>0.0216</td>\n",
       "      <td>0.024</td>\n",
       "      <td>True</td>\n",
       "    </tr>\n",
       "  </tbody>\n",
       "</table>\n",
       "</div>"
      ],
      "text/plain": [
       "                          group1 group2  meandiff  p-adj   lower  upper  \\\n",
       "0  embedding_IQR_weights_Hedging  pears    0.0228  0.001  0.0216  0.024   \n",
       "\n",
       "   reject  \n",
       "0    True  "
      ]
     },
     "metadata": {},
     "output_type": "display_data"
    },
    {
     "name": "stdout",
     "output_type": "stream",
     "text": [
      "========================================\n",
      "========================================\n",
      "Pearson: 0.238\n",
      "Pearson: 0.238\n"
     ]
    },
    {
     "data": {
      "text/html": [
       "<div>\n",
       "<style scoped>\n",
       "    .dataframe tbody tr th:only-of-type {\n",
       "        vertical-align: middle;\n",
       "    }\n",
       "\n",
       "    .dataframe tbody tr th {\n",
       "        vertical-align: top;\n",
       "    }\n",
       "\n",
       "    .dataframe thead th {\n",
       "        text-align: right;\n",
       "    }\n",
       "</style>\n",
       "<table border=\"1\" class=\"dataframe\">\n",
       "  <thead>\n",
       "    <tr style=\"text-align: right;\">\n",
       "      <th></th>\n",
       "      <th>group1</th>\n",
       "      <th>group2</th>\n",
       "      <th>meandiff</th>\n",
       "      <th>p-adj</th>\n",
       "      <th>lower</th>\n",
       "      <th>upper</th>\n",
       "      <th>reject</th>\n",
       "    </tr>\n",
       "  </thead>\n",
       "  <tbody>\n",
       "    <tr>\n",
       "      <th>0</th>\n",
       "      <td>Pearson</td>\n",
       "      <td>pears</td>\n",
       "      <td>0.0</td>\n",
       "      <td>0.9</td>\n",
       "      <td>-0.0014</td>\n",
       "      <td>0.0014</td>\n",
       "      <td>False</td>\n",
       "    </tr>\n",
       "  </tbody>\n",
       "</table>\n",
       "</div>"
      ],
      "text/plain": [
       "    group1 group2  meandiff  p-adj   lower   upper  reject\n",
       "0  Pearson  pears       0.0    0.9 -0.0014  0.0014   False"
      ]
     },
     "metadata": {},
     "output_type": "display_data"
    },
    {
     "name": "stdout",
     "output_type": "stream",
     "text": [
      "========================================\n",
      "========================================\n",
      "geometric: 0.239\n",
      "Pearson: 0.238\n"
     ]
    },
    {
     "data": {
      "text/html": [
       "<div>\n",
       "<style scoped>\n",
       "    .dataframe tbody tr th:only-of-type {\n",
       "        vertical-align: middle;\n",
       "    }\n",
       "\n",
       "    .dataframe tbody tr th {\n",
       "        vertical-align: top;\n",
       "    }\n",
       "\n",
       "    .dataframe thead th {\n",
       "        text-align: right;\n",
       "    }\n",
       "</style>\n",
       "<table border=\"1\" class=\"dataframe\">\n",
       "  <thead>\n",
       "    <tr style=\"text-align: right;\">\n",
       "      <th></th>\n",
       "      <th>group1</th>\n",
       "      <th>group2</th>\n",
       "      <th>meandiff</th>\n",
       "      <th>p-adj</th>\n",
       "      <th>lower</th>\n",
       "      <th>upper</th>\n",
       "      <th>reject</th>\n",
       "    </tr>\n",
       "  </thead>\n",
       "  <tbody>\n",
       "    <tr>\n",
       "      <th>0</th>\n",
       "      <td>geometric</td>\n",
       "      <td>pears</td>\n",
       "      <td>-0.0018</td>\n",
       "      <td>0.0011</td>\n",
       "      <td>-0.0031</td>\n",
       "      <td>-0.0004</td>\n",
       "      <td>True</td>\n",
       "    </tr>\n",
       "  </tbody>\n",
       "</table>\n",
       "</div>"
      ],
      "text/plain": [
       "      group1 group2  meandiff   p-adj   lower   upper  reject\n",
       "0  geometric  pears   -0.0018  0.0011 -0.0031 -0.0004    True"
      ]
     },
     "metadata": {},
     "output_type": "display_data"
    },
    {
     "name": "stdout",
     "output_type": "stream",
     "text": [
      "========================================\n",
      "========================================\n",
      "spearman: 0.240\n",
      "Pearson: 0.238\n"
     ]
    },
    {
     "data": {
      "text/html": [
       "<div>\n",
       "<style scoped>\n",
       "    .dataframe tbody tr th:only-of-type {\n",
       "        vertical-align: middle;\n",
       "    }\n",
       "\n",
       "    .dataframe tbody tr th {\n",
       "        vertical-align: top;\n",
       "    }\n",
       "\n",
       "    .dataframe thead th {\n",
       "        text-align: right;\n",
       "    }\n",
       "</style>\n",
       "<table border=\"1\" class=\"dataframe\">\n",
       "  <thead>\n",
       "    <tr style=\"text-align: right;\">\n",
       "      <th></th>\n",
       "      <th>group1</th>\n",
       "      <th>group2</th>\n",
       "      <th>meandiff</th>\n",
       "      <th>p-adj</th>\n",
       "      <th>lower</th>\n",
       "      <th>upper</th>\n",
       "      <th>reject</th>\n",
       "    </tr>\n",
       "  </thead>\n",
       "  <tbody>\n",
       "    <tr>\n",
       "      <th>0</th>\n",
       "      <td>pears</td>\n",
       "      <td>spearman</td>\n",
       "      <td>0.0026</td>\n",
       "      <td>0.001</td>\n",
       "      <td>0.0012</td>\n",
       "      <td>0.004</td>\n",
       "      <td>True</td>\n",
       "    </tr>\n",
       "  </tbody>\n",
       "</table>\n",
       "</div>"
      ],
      "text/plain": [
       "  group1    group2  meandiff  p-adj   lower  upper  reject\n",
       "0  pears  spearman    0.0026  0.001  0.0012  0.004    True"
      ]
     },
     "metadata": {},
     "output_type": "display_data"
    }
   ],
   "source": [
    "#-- Run experiment multiple times for HSD test\n",
    "sims_dict =  {}\n",
    "for name, vols in vol_dict.items():\n",
    "    sims_dict[name]=[]\n",
    "\n",
    "for i in tqdm(range(50)):\n",
    "    vol_dict = {}\n",
    "    for name, similarities in metrics_dict.items():\n",
    "        vol_dict[name]=get_vol_array(similarities)\n",
    "\n",
    "    for name,vols in vol_dict.items():\n",
    "        sims_dict[name].append(np.mean(vols))\n",
    "\n",
    "\n",
    "import statsmodels.stats.multicomp as multi\n",
    "for name, mean_vols in sims_dict.items():\n",
    "    print(\"=\"*40)\n",
    "    print(\"=\"*40)\n",
    "    print(f'{name}: {np.mean(mean_vols):.3f}')\n",
    "    print(f'{\"Pearson\"}: {np.mean(sims_dict[\"Pearson\"]):.3f}')\n",
    "    mc = multi.MultiComparison(np.concatenate([sims_dict[name],sims_dict['Pearson']]),\n",
    "                                    [name]*len(sims_dict[name])+['pears']*len(sims_dict['Pearson']))\n",
    "    Results = mc.tukeyhsd(alpha=0.01)\n",
    "    display(pd.DataFrame(data=Results._results_table.data[1:], columns=Results._results_table.data[0]))   \n"
   ]
  }
 ],
 "metadata": {
  "kernelspec": {
   "display_name": "Python 3 (ipykernel)",
   "language": "python",
   "name": "python3"
  },
  "language_info": {
   "codemirror_mode": {
    "name": "ipython",
    "version": 3
   },
   "file_extension": ".py",
   "mimetype": "text/x-python",
   "name": "python",
   "nbconvert_exporter": "python",
   "pygments_lexer": "ipython3",
   "version": "3.6.13"
  }
 },
 "nbformat": 4,
 "nbformat_minor": 5
}
